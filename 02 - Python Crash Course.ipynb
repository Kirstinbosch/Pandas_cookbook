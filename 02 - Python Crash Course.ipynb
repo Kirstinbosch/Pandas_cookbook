{
 "cells": [
  {
   "cell_type": "markdown",
   "id": "165afe4b-04af-43f0-93f9-b0ee79b7e7e9",
   "metadata": {},
   "source": [
    "# Python Crash Course"
   ]
  },
  {
   "cell_type": "markdown",
   "id": "b0d79961",
   "metadata": {},
   "source": [
    "## Comments\n",
    "- A **comment** is a line of text ignored by Python.\n",
    "- Use a hashtag/octothorpe (#) to create a comment."
   ]
  },
  {
   "metadata": {},
   "cell_type": "code",
   "outputs": [],
   "execution_count": null,
   "source": "",
   "id": "5f7086e1-1eb1-482c-a4a0-5fd1869fbc5c"
  },
  {
   "cell_type": "markdown",
   "id": "92e4dcbd-ae5d-4fe8-b2c0-c494fb605ca8",
   "metadata": {},
   "source": [
    "## Basic Data Types\n",
    "- An **integer** is a whole number.\n",
    "- A **floating-point** number is one with a fractional or decimal component.\n",
    "- A **string** is a piece of text. It's a collection of characters.\n",
    "- An **empty string** has a length of 0 characters.\n",
    "- A **Boolean** is a type whose value can only be True or False.\n",
    "- **None** is a special Python type that represents nothingness, blankness, or the absence of a value.\n",
    "- The operations that can be performed on a value depend on its type. There are functionalities that we can do with strings but not numbers, and vice versa."
   ]
  },
  {
   "cell_type": "code",
   "execution_count": null,
   "id": "4bdbe3fa",
   "metadata": {},
   "outputs": [],
   "source": "# None - a type that represents absence / nullness / a value missing"
  },
  {
   "cell_type": "code",
   "execution_count": null,
   "id": "882a9c10-afba-42b1-9ec6-bece3fab0992",
   "metadata": {},
   "outputs": [],
   "source": []
  },
  {
   "cell_type": "markdown",
   "id": "3271e1b9",
   "metadata": {},
   "source": [
    "## Operators\n",
    "- An **operator** is a symbol that performs an operation (mathematical, logical, etc).\n",
    "- Python supports all traditional mathematical operation - `+` for addition, `-` for subtraction, `*` for multiplication, and `/` for division.\n",
    "- The floor division operator (`//`) leaves off the floating point portion of a division result.\n",
    "- The `+` operator performs concatenation when used with strings.\n",
    "- The equality operator (`==`) returns True if two values are equal to each other.\n",
    "- The inequality operator (`!=`) returns True if two values are unequal to each other."
   ]
  },
  {
   "cell_type": "code",
   "id": "18c1be1f",
   "metadata": {
    "ExecuteTime": {
     "end_time": "2025-04-20T11:31:07.082115Z",
     "start_time": "2025-04-20T11:31:07.077834Z"
    }
   },
   "source": [
    "# Concatentation - combining two strings together\n",
    "\"race\" + \" car\""
   ],
   "outputs": [
    {
     "data": {
      "text/plain": [
       "'race car'"
      ]
     },
     "execution_count": 3,
     "metadata": {},
     "output_type": "execute_result"
    }
   ],
   "execution_count": 3
  },
  {
   "cell_type": "code",
   "id": "976f03ae-e196-4726-8762-079aa0db7e43",
   "metadata": {
    "tags": [],
    "ExecuteTime": {
     "end_time": "2025-04-20T11:30:59.785501Z",
     "start_time": "2025-04-20T11:30:59.779112Z"
    }
   },
   "source": "\"Mahi\" * 2",
   "outputs": [
    {
     "data": {
      "text/plain": [
       "'MahiMahi'"
      ]
     },
     "execution_count": 1,
     "metadata": {},
     "output_type": "execute_result"
    }
   ],
   "execution_count": 1
  },
  {
   "cell_type": "code",
   "id": "66a67875-de12-4f73-a235-8d93472e8599",
   "metadata": {
    "tags": [],
    "ExecuteTime": {
     "end_time": "2025-04-20T11:31:54.840594Z",
     "start_time": "2025-04-20T11:31:54.834349Z"
    }
   },
   "source": "# PEMDAS - parenthesis, multiplication/division, addition/subtraction",
   "outputs": [],
   "execution_count": 4
  },
  {
   "cell_type": "code",
   "id": "58b969aa-77b8-4bb9-a108-d345e7fb760c",
   "metadata": {
    "tags": [],
    "ExecuteTime": {
     "end_time": "2025-04-20T11:35:50.306454Z",
     "start_time": "2025-04-20T11:35:50.302475Z"
    }
   },
   "source": [
    "# Floor division - leaves out the floating-point\n",
    "10 // 3\n",
    "11 // 3\n",
    "12 // 3"
   ],
   "outputs": [
    {
     "data": {
      "text/plain": [
       "4"
      ]
     },
     "execution_count": 6,
     "metadata": {},
     "output_type": "execute_result"
    }
   ],
   "execution_count": 6
  },
  {
   "cell_type": "code",
   "id": "5054b8ca-f00d-45b6-b283-2836b2771ef8",
   "metadata": {
    "tags": [],
    "ExecuteTime": {
     "end_time": "2025-04-20T11:38:15.238906Z",
     "start_time": "2025-04-20T11:38:15.233683Z"
    }
   },
   "source": [
    "# Modulo operator - returns the remainder of a division\n",
    "14 % 3\n",
    "13 % 3\n",
    "15 % 3"
   ],
   "outputs": [
    {
     "data": {
      "text/plain": [
       "0"
      ]
     },
     "execution_count": 7,
     "metadata": {},
     "output_type": "execute_result"
    }
   ],
   "execution_count": 7
  },
  {
   "cell_type": "code",
   "id": "0ba77ba9-43b6-46d6-8118-509a1d3eda48",
   "metadata": {
    "tags": [],
    "ExecuteTime": {
     "end_time": "2025-04-20T11:39:32.242400Z",
     "start_time": "2025-04-20T11:39:32.235138Z"
    }
   },
   "source": [
    "# Equality operator - checks if two values are equal\n",
    "1 == 1 \n",
    "1 ==2"
   ],
   "outputs": [
    {
     "data": {
      "text/plain": [
       "False"
      ]
     },
     "execution_count": 9,
     "metadata": {},
     "output_type": "execute_result"
    }
   ],
   "execution_count": 9
  },
  {
   "cell_type": "code",
   "id": "e4bc6e3b-3393-4dc0-b02b-cf040fb88c32",
   "metadata": {
    "tags": [],
    "ExecuteTime": {
     "end_time": "2025-04-20T11:42:03.832496Z",
     "start_time": "2025-04-20T11:42:03.827579Z"
    }
   },
   "source": [
    "\"Hello\" == \"Hello\"\n",
    "\"Hello\" == \"Goodbye\"\n",
    "\"Hello\" == \"hello\""
   ],
   "outputs": [
    {
     "data": {
      "text/plain": [
       "False"
      ]
     },
     "execution_count": 10,
     "metadata": {},
     "output_type": "execute_result"
    }
   ],
   "execution_count": 10
  },
  {
   "cell_type": "code",
   "id": "235b7338-b7e2-4e1a-84f9-53a15eb7e7a5",
   "metadata": {
    "tags": [],
    "ExecuteTime": {
     "end_time": "2025-04-20T11:43:58.965222Z",
     "start_time": "2025-04-20T11:43:58.958181Z"
    }
   },
   "source": [
    "# Inequality operator - checks if two values are NOT equal\n",
    "# !=\n",
    "\n",
    "5 != 10\n",
    "5 != 5"
   ],
   "outputs": [
    {
     "data": {
      "text/plain": [
       "False"
      ]
     },
     "execution_count": 12,
     "metadata": {},
     "output_type": "execute_result"
    }
   ],
   "execution_count": 12
  },
  {
   "cell_type": "code",
   "id": "59b1b107-89c3-48f2-a29a-2a078ea73aa6",
   "metadata": {
    "tags": [],
    "ExecuteTime": {
     "end_time": "2025-04-20T11:44:59.133347Z",
     "start_time": "2025-04-20T11:44:59.127069Z"
    }
   },
   "source": "5 < 8",
   "outputs": [
    {
     "data": {
      "text/plain": [
       "True"
      ]
     },
     "execution_count": 13,
     "metadata": {},
     "output_type": "execute_result"
    }
   ],
   "execution_count": 13
  },
  {
   "cell_type": "code",
   "id": "b3897e59-3505-43e5-b86f-2f30c8346d35",
   "metadata": {
    "tags": [],
    "ExecuteTime": {
     "end_time": "2025-04-20T11:45:10.703815Z",
     "start_time": "2025-04-20T11:45:10.696391Z"
    }
   },
   "source": "5 <= 8",
   "outputs": [
    {
     "data": {
      "text/plain": [
       "True"
      ]
     },
     "execution_count": 14,
     "metadata": {},
     "output_type": "execute_result"
    }
   ],
   "execution_count": 14
  },
  {
   "cell_type": "code",
   "id": "7b602230",
   "metadata": {
    "ExecuteTime": {
     "end_time": "2025-04-20T11:45:29.362912Z",
     "start_time": "2025-04-20T11:45:29.356828Z"
    }
   },
   "source": "14 > 9",
   "outputs": [
    {
     "data": {
      "text/plain": [
       "True"
      ]
     },
     "execution_count": 15,
     "metadata": {},
     "output_type": "execute_result"
    }
   ],
   "execution_count": 15
  },
  {
   "cell_type": "code",
   "id": "ce22922e",
   "metadata": {
    "ExecuteTime": {
     "end_time": "2025-04-20T11:45:37.360972Z",
     "start_time": "2025-04-20T11:45:37.348559Z"
    }
   },
   "source": "14 >= 32",
   "outputs": [
    {
     "data": {
      "text/plain": [
       "False"
      ]
     },
     "execution_count": 16,
     "metadata": {},
     "output_type": "execute_result"
    }
   ],
   "execution_count": 16
  },
  {
   "metadata": {},
   "cell_type": "markdown",
   "source": "",
   "id": "9bd73f3d161a1852"
  },
  {
   "metadata": {},
   "cell_type": "code",
   "outputs": [],
   "execution_count": null,
   "source": "",
   "id": "5556280a"
  },
  {
   "cell_type": "markdown",
   "id": "a7bc67a9",
   "metadata": {},
   "source": [
    "## Variables\n",
    "- A **variable** is a name for a value in your program. It is a placeholder for the value.\n",
    "- The value that a variable represents can *vary* over a program.\n",
    "- Multi-word variable names should follow a `snake_case` naming convention.\n",
    "- Python evaluates the right-hand side of an equal sign first.\n",
    "- The `len` function returns the length of its argument."
   ]
  },
  {
   "cell_type": "code",
   "id": "06765506-d200-4b47-a2e4-0e189cd00f89",
   "metadata": {
    "tags": [],
    "ExecuteTime": {
     "end_time": "2025-04-20T11:47:53.537635Z",
     "start_time": "2025-04-20T11:47:53.531573Z"
    }
   },
   "source": "age = 32",
   "outputs": [],
   "execution_count": 17
  },
  {
   "cell_type": "code",
   "id": "14046d65-15b2-4f5a-a33d-1cf4519a527b",
   "metadata": {
    "tags": [],
    "ExecuteTime": {
     "end_time": "2025-04-20T11:47:59.038512Z",
     "start_time": "2025-04-20T11:47:59.034518Z"
    }
   },
   "source": "print(age)",
   "outputs": [
    {
     "name": "stdout",
     "output_type": "stream",
     "text": [
      "32\n"
     ]
    }
   ],
   "execution_count": 18
  },
  {
   "cell_type": "code",
   "id": "71137fe3-fb6a-405a-a14a-1bb9fd1fb4a1",
   "metadata": {
    "tags": [],
    "ExecuteTime": {
     "end_time": "2025-04-20T11:49:22.570056Z",
     "start_time": "2025-04-20T11:49:18.128152Z"
    }
   },
   "source": [
    "first_name = input(\"What is your name? \")\n",
    "# snake_case_formatting"
   ],
   "outputs": [],
   "execution_count": 20
  },
  {
   "metadata": {},
   "cell_type": "code",
   "outputs": [],
   "execution_count": null,
   "source": "",
   "id": "db847ff6-dc93-4d31-8f80-edc4c1d46221"
  },
  {
   "cell_type": "markdown",
   "id": "42d67a50",
   "metadata": {},
   "source": [
    "## Built-in Functions\n",
    "- A **function** is a repeatable procedure.\n",
    "- A **function** can accept inputs (which are called **arguments**).\n",
    "- A **function** produces a **return value**, which is the \"output\" of the function.\n",
    "- The technical term for running/executing a function is \"invoking\" or \"calling\".\n",
    "- Invoke a function with a pair of parentheses.\n",
    "- The `len` function returns the length of its argument.\n",
    "- The `str` function converts its argument to a string.\n",
    "- The `int` function converts its argument to an integer.\n",
    "- The `float` function converts its argument to a floating-point.\n",
    "- The `type` function returns the type of its argument (the kind of value it is)."
   ]
  },
  {
   "cell_type": "code",
   "id": "c876360e-9043-458c-a10e-97815c43eb2f",
   "metadata": {
    "tags": [],
    "ExecuteTime": {
     "end_time": "2025-04-20T11:58:25.396821Z",
     "start_time": "2025-04-20T11:58:25.389492Z"
    }
   },
   "source": "len(\"Python is fun\")",
   "outputs": [
    {
     "data": {
      "text/plain": [
       "13"
      ]
     },
     "execution_count": 21,
     "metadata": {},
     "output_type": "execute_result"
    }
   ],
   "execution_count": 21
  },
  {
   "cell_type": "code",
   "id": "54c11642-a975-43c5-938c-83b173c1ef16",
   "metadata": {
    "tags": [],
    "ExecuteTime": {
     "end_time": "2025-04-20T11:59:18.028025Z",
     "start_time": "2025-04-20T11:59:18.020268Z"
    }
   },
   "source": "str(3.14)",
   "outputs": [
    {
     "data": {
      "text/plain": [
       "'3.14'"
      ]
     },
     "execution_count": 22,
     "metadata": {},
     "output_type": "execute_result"
    }
   ],
   "execution_count": 22
  },
  {
   "cell_type": "code",
   "id": "686e22fa-67a7-481b-8689-23f73f812ead",
   "metadata": {
    "tags": [],
    "ExecuteTime": {
     "end_time": "2025-04-20T11:59:44.753424Z",
     "start_time": "2025-04-20T11:59:44.747204Z"
    }
   },
   "source": "int(\"10\")",
   "outputs": [
    {
     "data": {
      "text/plain": [
       "10"
      ]
     },
     "execution_count": 23,
     "metadata": {},
     "output_type": "execute_result"
    }
   ],
   "execution_count": 23
  },
  {
   "cell_type": "code",
   "id": "f8cd75b3-0ee2-490b-9c80-6af66456811d",
   "metadata": {
    "tags": [],
    "ExecuteTime": {
     "end_time": "2025-04-20T11:59:57.427186Z",
     "start_time": "2025-04-20T11:59:57.419962Z"
    }
   },
   "source": "float(\"9.284\")",
   "outputs": [
    {
     "data": {
      "text/plain": [
       "9.284"
      ]
     },
     "execution_count": 24,
     "metadata": {},
     "output_type": "execute_result"
    }
   ],
   "execution_count": 24
  },
  {
   "cell_type": "code",
   "id": "270c8bf5-4523-4b25-a73b-15769307fad4",
   "metadata": {
    "tags": [],
    "ExecuteTime": {
     "end_time": "2025-04-20T12:00:05.172689Z",
     "start_time": "2025-04-20T12:00:05.162536Z"
    }
   },
   "source": "type(5)",
   "outputs": [
    {
     "data": {
      "text/plain": [
       "int"
      ]
     },
     "execution_count": 25,
     "metadata": {},
     "output_type": "execute_result"
    }
   ],
   "execution_count": 25
  },
  {
   "cell_type": "code",
   "execution_count": null,
   "id": "9c9cad2c-7cb1-48b4-a377-b44087847b2b",
   "metadata": {},
   "outputs": [],
   "source": []
  },
  {
   "cell_type": "markdown",
   "id": "cf976284",
   "metadata": {},
   "source": [
    "## Custom Functions\n",
    "- Define a function with the `def` keyword, a name, a parameter list, and a colon.\n",
    "- Functions names should follow a `snake_case` naming convention.\n",
    "- A **parameter** is a name for an expected input.\n",
    "- Write the function's logic inside a nested block. The end of the block marks the end of the function logic.\n",
    "- Variables declared inside a function body will only last as long as the function runs.\n",
    "- Use the **return** keyword to specify the function's return value (output).\n",
    "- When invoking a function, we can pass in argument sequentially or with explicit parameter names.\n",
    "- A **default argument** is a fallback value that Python will provide if an argument is not passed for a parameter during invocation."
   ]
  },
  {
   "cell_type": "code",
   "id": "5b251bcf",
   "metadata": {
    "ExecuteTime": {
     "end_time": "2025-04-20T12:18:29.704951Z",
     "start_time": "2025-04-20T12:18:29.701819Z"
    }
   },
   "source": [
    "# paramater - a name for an expected argument\n",
    "def convert_to_fahrenheit(celsius_temp=0):\n",
    "    calculation = celsius_temp * 1.8\n",
    "    return calculation + 32\n",
    "\n",
    "# default argument - fall-back value (celsuis_temp = 0)"
   ],
   "outputs": [],
   "execution_count": 34
  },
  {
   "cell_type": "code",
   "id": "50ef6f0a-a9d2-4e03-8c2a-570246d34729",
   "metadata": {
    "ExecuteTime": {
     "end_time": "2025-04-20T12:18:31.904960Z",
     "start_time": "2025-04-20T12:18:31.901190Z"
    }
   },
   "source": [
    "convert_to_fahrenheit(0)\n",
    "print(convert_to_fahrenheit(0))"
   ],
   "outputs": [
    {
     "name": "stdout",
     "output_type": "stream",
     "text": [
      "32.0\n"
     ]
    }
   ],
   "execution_count": 35
  },
  {
   "metadata": {
    "ExecuteTime": {
     "end_time": "2025-04-20T12:19:37.953293Z",
     "start_time": "2025-04-20T12:19:37.948581Z"
    }
   },
   "cell_type": "code",
   "source": "convert_to_fahrenheit(celsius_temp = 14)",
   "id": "98e3f904599a1ac7",
   "outputs": [
    {
     "data": {
      "text/plain": [
       "57.2"
      ]
     },
     "execution_count": 36,
     "metadata": {},
     "output_type": "execute_result"
    }
   ],
   "execution_count": 36
  },
  {
   "cell_type": "code",
   "execution_count": null,
   "id": "b09d7e78-ab58-4597-bff7-b2f498129d94",
   "metadata": {},
   "outputs": [],
   "source": []
  },
  {
   "cell_type": "markdown",
   "id": "7875f148",
   "metadata": {},
   "source": [
    "## String Methods\n",
    "- An **object** is the technical term for a type. A string is an example of an object.\n",
    "- A **method** is like a function that belongs to an object.\n",
    "- To invoke a method, provide a period after the object, then the method name and a pair of parentheses.\n",
    "- We use similar terminology and syntax for functions and methods. We can invoke methods. We can pass arguments to methods. Methods can return values.\n",
    "- Objects can be **mutable** (capable of change) or **immutable** (incapable of change). A string is immutable.\n",
    "- Common string methods include `upper`, `lower`, `swapcase`, `title`, `capitalize`, and `strip`.\n",
    "- **Method chaining** refers to invoking methods on objects returned by previous method invocations. We create a link or \"chain\" of methods.\n",
    "- The **in** and **not in** keywords check for the presence and absence of a substring within a string."
   ]
  },
  {
   "cell_type": "code",
   "id": "dc957854-a26c-4e7f-86bf-7d751f8529e8",
   "metadata": {
    "ExecuteTime": {
     "end_time": "2025-04-20T18:54:49.101899Z",
     "start_time": "2025-04-20T18:54:49.092005Z"
    }
   },
   "source": "\"Python Developer\".upper()",
   "outputs": [
    {
     "data": {
      "text/plain": [
       "'PYTHON DEVELOPER'"
      ]
     },
     "execution_count": 37,
     "metadata": {},
     "output_type": "execute_result"
    }
   ],
   "execution_count": 37
  },
  {
   "cell_type": "code",
   "id": "b1a69a51-ec83-49fa-8488-d3079fbde6cc",
   "metadata": {
    "ExecuteTime": {
     "end_time": "2025-04-30T11:06:45.933281Z",
     "start_time": "2025-04-30T11:06:45.926855Z"
    }
   },
   "source": "\"KiRsT\".title()",
   "outputs": [
    {
     "data": {
      "text/plain": [
       "'Kirst'"
      ]
     },
     "execution_count": 1,
     "metadata": {},
     "output_type": "execute_result"
    }
   ],
   "execution_count": 1
  },
  {
   "cell_type": "code",
   "id": "105a1f30-ad2b-4038-8a39-e47a62c6cf9c",
   "metadata": {
    "ExecuteTime": {
     "end_time": "2025-04-30T11:12:30.353143Z",
     "start_time": "2025-04-30T11:12:30.344970Z"
    }
   },
   "source": "'profession'.swapcase()",
   "outputs": [
    {
     "data": {
      "text/plain": [
       "'PROFESSION'"
      ]
     },
     "execution_count": 2,
     "metadata": {},
     "output_type": "execute_result"
    }
   ],
   "execution_count": 2
  },
  {
   "cell_type": "code",
   "id": "53f28ef6-d203-47b0-8da7-baf6e7f33bfe",
   "metadata": {
    "ExecuteTime": {
     "end_time": "2025-04-30T11:12:55.714980Z",
     "start_time": "2025-04-30T11:12:55.708333Z"
    }
   },
   "source": "\"ONCE UPTON A TIME\".lower()",
   "outputs": [
    {
     "data": {
      "text/plain": [
       "'once upton a time'"
      ]
     },
     "execution_count": 3,
     "metadata": {},
     "output_type": "execute_result"
    }
   ],
   "execution_count": 3
  },
  {
   "cell_type": "code",
   "id": "4a89acb2-4c9c-4bab-b9cf-af52a6b0938e",
   "metadata": {
    "ExecuteTime": {
     "end_time": "2025-04-30T11:13:22.869620Z",
     "start_time": "2025-04-30T11:13:22.862340Z"
    }
   },
   "source": "\"once upton a time\".capitalize()",
   "outputs": [
    {
     "data": {
      "text/plain": [
       "'Once upton a time'"
      ]
     },
     "execution_count": 4,
     "metadata": {},
     "output_type": "execute_result"
    }
   ],
   "execution_count": 4
  },
  {
   "cell_type": "code",
   "id": "d539954f-0d9b-4674-b197-a06e116ea612",
   "metadata": {
    "ExecuteTime": {
     "end_time": "2025-04-30T11:19:04.568043Z",
     "start_time": "2025-04-30T11:19:04.565607Z"
    }
   },
   "source": "profession = \"        Python Developer     \"",
   "outputs": [],
   "execution_count": 10
  },
  {
   "cell_type": "code",
   "id": "86c7dfe0-df88-4079-a9dc-605321e905fc",
   "metadata": {
    "ExecuteTime": {
     "end_time": "2025-04-30T11:19:15.517506Z",
     "start_time": "2025-04-30T11:19:15.511142Z"
    }
   },
   "source": "profession.lstrip()",
   "outputs": [
    {
     "data": {
      "text/plain": [
       "'Python Developer     '"
      ]
     },
     "execution_count": 11,
     "metadata": {},
     "output_type": "execute_result"
    }
   ],
   "execution_count": 11
  },
  {
   "cell_type": "code",
   "id": "5a42583c-3a12-48ff-aaa0-d2a2f1fdc39c",
   "metadata": {
    "ExecuteTime": {
     "end_time": "2025-04-30T11:19:22.420533Z",
     "start_time": "2025-04-30T11:19:22.413470Z"
    }
   },
   "source": "profession.rstrip()",
   "outputs": [
    {
     "data": {
      "text/plain": [
       "'        Python Developer'"
      ]
     },
     "execution_count": 12,
     "metadata": {},
     "output_type": "execute_result"
    }
   ],
   "execution_count": 12
  },
  {
   "cell_type": "code",
   "id": "4863d756-c777-4c6c-b8de-ba4557b6f60f",
   "metadata": {
    "ExecuteTime": {
     "end_time": "2025-04-30T11:19:30.786728Z",
     "start_time": "2025-04-30T11:19:30.783569Z"
    }
   },
   "source": "profession.strip()",
   "outputs": [
    {
     "data": {
      "text/plain": [
       "'Python Developer'"
      ]
     },
     "execution_count": 13,
     "metadata": {},
     "output_type": "execute_result"
    }
   ],
   "execution_count": 13
  },
  {
   "cell_type": "code",
   "id": "f5125f4c-edd2-4d20-8616-21811e8c0fde",
   "metadata": {
    "ExecuteTime": {
     "end_time": "2025-04-30T11:23:52.498222Z",
     "start_time": "2025-04-30T11:23:52.486547Z"
    }
   },
   "source": "profession.replace('P','b')",
   "outputs": [
    {
     "data": {
      "text/plain": [
       "'        bython Developer     '"
      ]
     },
     "execution_count": 15,
     "metadata": {},
     "output_type": "execute_result"
    }
   ],
   "execution_count": 15
  },
  {
   "cell_type": "code",
   "id": "b6636917-4556-4b28-b3f7-d15d738a8a3a",
   "metadata": {
    "ExecuteTime": {
     "end_time": "2025-04-30T11:25:32.107179Z",
     "start_time": "2025-04-30T11:25:32.103592Z"
    }
   },
   "source": "profession.strip().startswith(\"Pyt\")",
   "outputs": [
    {
     "data": {
      "text/plain": [
       "True"
      ]
     },
     "execution_count": 17,
     "metadata": {},
     "output_type": "execute_result"
    }
   ],
   "execution_count": 17
  },
  {
   "cell_type": "code",
   "id": "5a83ae5a-bfa3-4f63-bde7-fbf4c34ade8e",
   "metadata": {
    "ExecuteTime": {
     "end_time": "2025-04-30T11:26:50.008369Z",
     "start_time": "2025-04-30T11:26:50.005962Z"
    }
   },
   "source": "profession.strip().endswith(\"oper  \")",
   "outputs": [
    {
     "data": {
      "text/plain": [
       "False"
      ]
     },
     "execution_count": 19,
     "metadata": {},
     "output_type": "execute_result"
    }
   ],
   "execution_count": 19
  },
  {
   "cell_type": "code",
   "id": "710a5353-1f4d-499a-a983-5c6f8701ac11",
   "metadata": {
    "ExecuteTime": {
     "end_time": "2025-04-30T11:28:41.088446Z",
     "start_time": "2025-04-30T11:28:41.080061Z"
    }
   },
   "source": [
    "# in - checks for inclusion\n",
    "\"Dev\" in profession.strip()"
   ],
   "outputs": [
    {
     "data": {
      "text/plain": [
       "True"
      ]
     },
     "execution_count": 20,
     "metadata": {},
     "output_type": "execute_result"
    }
   ],
   "execution_count": 20
  },
  {
   "cell_type": "code",
   "id": "cafbda47-8877-4825-bbf6-667dc63d099f",
   "metadata": {
    "ExecuteTime": {
     "end_time": "2025-04-30T11:28:51.410395Z",
     "start_time": "2025-04-30T11:28:51.405896Z"
    }
   },
   "source": "\"Dev\" not in profession.strip()",
   "outputs": [
    {
     "data": {
      "text/plain": [
       "False"
      ]
     },
     "execution_count": 21,
     "metadata": {},
     "output_type": "execute_result"
    }
   ],
   "execution_count": 21
  },
  {
   "cell_type": "code",
   "execution_count": null,
   "id": "4ffadd50-0fe4-4ac3-9ee3-f1fa59047bb3",
   "metadata": {},
   "outputs": [],
   "source": []
  },
  {
   "cell_type": "markdown",
   "id": "56ea194e",
   "metadata": {},
   "source": [
    "## Lists\n",
    "- A **list** is a mutable data structure that holds an ordered collection of values.\n",
    "- We often use the term **element** to describe an item in the list.\n",
    "- The length of a list is its number of elements.\n",
    "- The **append** method adds an element to the end of the list.\n",
    "- The **pop** methods remove the last element from the list.\n",
    "- The **in** and **not in** keywords check whether or not an element exists within a list."
   ]
  },
  {
   "cell_type": "code",
   "id": "5f022822-f353-4e94-8103-c1bf6996aa09",
   "metadata": {
    "ExecuteTime": {
     "end_time": "2025-04-30T12:05:50.677480Z",
     "start_time": "2025-04-30T12:05:50.671224Z"
    }
   },
   "source": "party_attendees = [\"Kelly\", \"Kirst\", \"Claire\", \"Amogh\"]",
   "outputs": [],
   "execution_count": 22
  },
  {
   "cell_type": "code",
   "id": "d52fa46c-f491-4d1d-af45-b321dbbbf19d",
   "metadata": {
    "ExecuteTime": {
     "end_time": "2025-04-30T12:06:00.726216Z",
     "start_time": "2025-04-30T12:06:00.718528Z"
    }
   },
   "source": "len(party_attendees)",
   "outputs": [
    {
     "data": {
      "text/plain": [
       "4"
      ]
     },
     "execution_count": 23,
     "metadata": {},
     "output_type": "execute_result"
    }
   ],
   "execution_count": 23
  },
  {
   "cell_type": "code",
   "id": "52960ad6-0956-43f8-8c4f-69dbaa4cd63e",
   "metadata": {
    "ExecuteTime": {
     "end_time": "2025-04-30T12:06:51.572672Z",
     "start_time": "2025-04-30T12:06:51.564563Z"
    }
   },
   "source": "type(party_attendees)",
   "outputs": [
    {
     "data": {
      "text/plain": [
       "list"
      ]
     },
     "execution_count": 24,
     "metadata": {},
     "output_type": "execute_result"
    }
   ],
   "execution_count": 24
  },
  {
   "cell_type": "code",
   "id": "94b88a57-3a02-42df-9fd7-6683adf57312",
   "metadata": {
    "ExecuteTime": {
     "end_time": "2025-04-30T12:09:42.211048Z",
     "start_time": "2025-04-30T12:09:42.208840Z"
    }
   },
   "source": " cats = [\"Yzma\", \"Tammy\"]",
   "outputs": [],
   "execution_count": 26
  },
  {
   "cell_type": "code",
   "id": "8a47e35b-d76d-4c6e-848f-c804aa41a59c",
   "metadata": {
    "ExecuteTime": {
     "end_time": "2025-04-30T12:10:01.341678Z",
     "start_time": "2025-04-30T12:10:01.331577Z"
    }
   },
   "source": "cats.append(\"Kittone\")",
   "outputs": [],
   "execution_count": 27
  },
  {
   "cell_type": "code",
   "id": "02c866fa-6d52-41aa-a151-e32c177ad109",
   "metadata": {
    "ExecuteTime": {
     "end_time": "2025-04-30T12:10:07.352391Z",
     "start_time": "2025-04-30T12:10:07.349444Z"
    }
   },
   "source": "print(cats)",
   "outputs": [
    {
     "name": "stdout",
     "output_type": "stream",
     "text": [
      "['Yzma', 'Tammy', 'Kittone']\n"
     ]
    }
   ],
   "execution_count": 28
  },
  {
   "cell_type": "code",
   "id": "efadfcdb-d9e7-4d05-8337-6f429e3d5096",
   "metadata": {
    "ExecuteTime": {
     "end_time": "2025-04-30T12:12:57.100798Z",
     "start_time": "2025-04-30T12:12:57.098247Z"
    }
   },
   "source": "popcorn_flavours = [\"Salted\", \"Unsalted\", \"Caramel\"]",
   "outputs": [],
   "execution_count": 34
  },
  {
   "cell_type": "code",
   "id": "b7a39c8c-8322-4d5c-92ed-e3db9e5216d3",
   "metadata": {
    "ExecuteTime": {
     "end_time": "2025-04-30T12:12:59.165660Z",
     "start_time": "2025-04-30T12:12:59.163140Z"
    }
   },
   "source": [
    "popcorn_flavours.pop()\n",
    "#removes last item from the list"
   ],
   "outputs": [
    {
     "data": {
      "text/plain": [
       "'Caramel'"
      ]
     },
     "execution_count": 35,
     "metadata": {},
     "output_type": "execute_result"
    }
   ],
   "execution_count": 35
  },
  {
   "cell_type": "code",
   "id": "e009a5f8-d05a-4904-8fb8-15778ca4a53c",
   "metadata": {
    "ExecuteTime": {
     "end_time": "2025-04-30T12:13:01.413463Z",
     "start_time": "2025-04-30T12:13:01.410468Z"
    }
   },
   "source": "popcorn_flavours",
   "outputs": [
    {
     "data": {
      "text/plain": [
       "['Salted', 'Unsalted']"
      ]
     },
     "execution_count": 36,
     "metadata": {},
     "output_type": "execute_result"
    }
   ],
   "execution_count": 36
  },
  {
   "cell_type": "code",
   "id": "dc1e9345-fa98-4a88-9a0e-228c6cda8a37",
   "metadata": {
    "ExecuteTime": {
     "end_time": "2025-04-30T12:13:26.357611Z",
     "start_time": "2025-04-30T12:13:26.353927Z"
    }
   },
   "source": "planets = [\"Mercury\", \"Venus\", \"Earth\"]",
   "outputs": [],
   "execution_count": 37
  },
  {
   "cell_type": "code",
   "id": "75a5714b-2991-4325-b94f-4915db7e53dc",
   "metadata": {
    "ExecuteTime": {
     "end_time": "2025-04-30T12:13:58.588689Z",
     "start_time": "2025-04-30T12:13:58.578808Z"
    }
   },
   "source": "\"Mars\" in planets",
   "outputs": [
    {
     "data": {
      "text/plain": [
       "False"
      ]
     },
     "execution_count": 38,
     "metadata": {},
     "output_type": "execute_result"
    }
   ],
   "execution_count": 38
  },
  {
   "cell_type": "code",
   "id": "78e2320f-f09b-42d2-b8d3-22590ff1ea2b",
   "metadata": {
    "ExecuteTime": {
     "end_time": "2025-04-30T12:14:06.966874Z",
     "start_time": "2025-04-30T12:14:06.961739Z"
    }
   },
   "source": "\"Mercury\" in planets",
   "outputs": [
    {
     "data": {
      "text/plain": [
       "True"
      ]
     },
     "execution_count": 39,
     "metadata": {},
     "output_type": "execute_result"
    }
   ],
   "execution_count": 39
  },
  {
   "cell_type": "code",
   "execution_count": null,
   "id": "ef6e3b09-5a5b-4bac-9933-cebf263318ae",
   "metadata": {},
   "outputs": [],
   "source": []
  },
  {
   "cell_type": "markdown",
   "id": "39e4d0be",
   "metadata": {},
   "source": [
    "## Index Positions and Slicing\n",
    "- Python assigns every string character an **index position** (an order in line).\n",
    "- Python assigns every list element an **index position** (an order in line).\n",
    "- The index starts counting at 0.\n",
    "- Use square brackets to extract a character/element by index position.\n",
    "- Use negative values to extract a character/element relative to the end of the object.\n",
    "- Use slicing to extract multiple character/elements.\n",
    "- The first index in a slice is inclusive. The second index in a slice is exclusive (Python will go up to that index but *not* include its value)."
   ]
  },
  {
   "cell_type": "code",
   "id": "8758fc13-0fcf-41e1-8f72-63a53d460de8",
   "metadata": {
    "ExecuteTime": {
     "end_time": "2025-05-01T08:52:42.959362Z",
     "start_time": "2025-05-01T08:52:42.945763Z"
    }
   },
   "source": "hero = 'Spiderman'",
   "outputs": [],
   "execution_count": 40
  },
  {
   "cell_type": "code",
   "id": "438efa29-e57b-46fe-912f-aa2f34d956c2",
   "metadata": {
    "ExecuteTime": {
     "end_time": "2025-05-01T08:52:51.881269Z",
     "start_time": "2025-05-01T08:52:51.877786Z"
    }
   },
   "source": "len(hero)",
   "outputs": [
    {
     "data": {
      "text/plain": [
       "9"
      ]
     },
     "execution_count": 41,
     "metadata": {},
     "output_type": "execute_result"
    }
   ],
   "execution_count": 41
  },
  {
   "cell_type": "code",
   "id": "d90422d4-d924-4572-819f-cbd6cb9429bc",
   "metadata": {
    "ExecuteTime": {
     "end_time": "2025-05-01T08:53:03.940400Z",
     "start_time": "2025-05-01T08:53:03.930945Z"
    }
   },
   "source": "print(hero[1])",
   "outputs": [
    {
     "name": "stdout",
     "output_type": "stream",
     "text": [
      "p\n"
     ]
    }
   ],
   "execution_count": 42
  },
  {
   "cell_type": "code",
   "id": "f4dd33c7-3aa2-47db-980c-ea6ced7c3fd7",
   "metadata": {
    "ExecuteTime": {
     "end_time": "2025-05-01T08:59:58.042486Z",
     "start_time": "2025-05-01T08:59:58.039424Z"
    }
   },
   "source": "hero[-9]",
   "outputs": [
    {
     "data": {
      "text/plain": [
       "'S'"
      ]
     },
     "execution_count": 48,
     "metadata": {},
     "output_type": "execute_result"
    }
   ],
   "execution_count": 48
  },
  {
   "cell_type": "code",
   "id": "896260bd-644c-4c7f-9bf8-ca0aa30694b2",
   "metadata": {
    "ExecuteTime": {
     "end_time": "2025-05-01T09:00:42.095394Z",
     "start_time": "2025-05-01T09:00:42.090870Z"
    }
   },
   "source": "hero[1:3]",
   "outputs": [
    {
     "data": {
      "text/plain": [
       "'pi'"
      ]
     },
     "execution_count": 49,
     "metadata": {},
     "output_type": "execute_result"
    }
   ],
   "execution_count": 49
  },
  {
   "cell_type": "code",
   "id": "3d699799-eb6b-491c-a715-d66418e5f168",
   "metadata": {
    "ExecuteTime": {
     "end_time": "2025-05-01T09:05:26.025299Z",
     "start_time": "2025-05-01T09:05:26.018505Z"
    }
   },
   "source": "hero[:6]",
   "outputs": [
    {
     "data": {
      "text/plain": [
       "'Spider'"
      ]
     },
     "execution_count": 50,
     "metadata": {},
     "output_type": "execute_result"
    }
   ],
   "execution_count": 50
  },
  {
   "cell_type": "code",
   "id": "ec10a22e-9a15-4ed4-a521-2c286af32497",
   "metadata": {
    "ExecuteTime": {
     "end_time": "2025-05-01T09:16:03.849872Z",
     "start_time": "2025-05-01T09:16:03.838875Z"
    }
   },
   "source": "  superheroes = [\"Superman\", \"Wonderwoman\", \"Ironman\"]",
   "outputs": [],
   "execution_count": 51
  },
  {
   "cell_type": "code",
   "id": "bb86c514-285a-4fc1-918b-fa259755aac4",
   "metadata": {
    "ExecuteTime": {
     "end_time": "2025-05-01T09:16:10.755034Z",
     "start_time": "2025-05-01T09:16:10.743748Z"
    }
   },
   "source": "superheroes[1]",
   "outputs": [
    {
     "data": {
      "text/plain": [
       "'Wonderwoman'"
      ]
     },
     "execution_count": 52,
     "metadata": {},
     "output_type": "execute_result"
    }
   ],
   "execution_count": 52
  },
  {
   "cell_type": "code",
   "execution_count": null,
   "id": "e12a4adc-c127-47c7-8c95-1c95c11ac35d",
   "metadata": {},
   "outputs": [],
   "source": []
  },
  {
   "cell_type": "markdown",
   "id": "209b8921",
   "metadata": {},
   "source": [
    "## Dictionaries\n",
    "- A **dictionary** is a mutable, unordered collection of key-value pairs.\n",
    "- A **key** is a unique identifier for a value.\n",
    "- A **value** corresponds to the key. The values can contain duplicates.\n",
    "- Use a dictionary for **association** (i.e., to connect/map two values together). Use a list for **order**.\n",
    "- Declare a dictionary with a pair of curly braces.\n",
    "- Write a colon between every key and value.\n",
    "- Separate each key-value pair with a comma and a space.\n",
    "- The length of a dictionary is a count of its key-value pairs."
   ]
  },
  {
   "cell_type": "code",
   "id": "8268bf89-5e60-428d-ad02-bde28a70b0c7",
   "metadata": {
    "ExecuteTime": {
     "end_time": "2025-05-01T12:40:53.647107Z",
     "start_time": "2025-05-01T12:40:53.644575Z"
    }
   },
   "source": "menu = { \"filet mignon\": 29.99, \"Big Mac\": 3.99, \"Salmon\": 29.99 }",
   "outputs": [],
   "execution_count": 22
  },
  {
   "cell_type": "code",
   "id": "c7cf377b-63d9-4294-8042-273574023a10",
   "metadata": {
    "ExecuteTime": {
     "end_time": "2025-05-01T12:40:54.793159Z",
     "start_time": "2025-05-01T12:40:54.789502Z"
    }
   },
   "source": "menu",
   "outputs": [
    {
     "data": {
      "text/plain": [
       "{'filet mignon': 29.99, 'Big Mac': 3.99, 'Salmon': 29.99}"
      ]
     },
     "execution_count": 23,
     "metadata": {},
     "output_type": "execute_result"
    }
   ],
   "execution_count": 23
  },
  {
   "cell_type": "code",
   "id": "b509546c-472e-4395-a553-5a478cfd76ea",
   "metadata": {
    "ExecuteTime": {
     "end_time": "2025-05-01T12:40:56.425618Z",
     "start_time": "2025-05-01T12:40:56.422717Z"
    }
   },
   "source": "len(menu)",
   "outputs": [
    {
     "data": {
      "text/plain": [
       "3"
      ]
     },
     "execution_count": 24,
     "metadata": {},
     "output_type": "execute_result"
    }
   ],
   "execution_count": 24
  },
  {
   "cell_type": "code",
   "id": "e5bd4afb-aef1-41f2-bcda-95a53851ada0",
   "metadata": {
    "ExecuteTime": {
     "end_time": "2025-05-01T12:40:58.040227Z",
     "start_time": "2025-05-01T12:40:58.037287Z"
    }
   },
   "source": "menu[\"Big Mac\"]",
   "outputs": [
    {
     "data": {
      "text/plain": [
       "3.99"
      ]
     },
     "execution_count": 25,
     "metadata": {},
     "output_type": "execute_result"
    }
   ],
   "execution_count": 25
  },
  {
   "cell_type": "code",
   "id": "94bda613-294e-4176-a909-7d8a81b8db5d",
   "metadata": {
    "ExecuteTime": {
     "end_time": "2025-05-01T12:41:01.499255Z",
     "start_time": "2025-05-01T12:41:01.496594Z"
    }
   },
   "source": "menu[\"Burrito\"] = 13.99",
   "outputs": [],
   "execution_count": 26
  },
  {
   "cell_type": "code",
   "id": "8c52679c-7243-4bcc-a0da-295edadfd5d8",
   "metadata": {
    "ExecuteTime": {
     "end_time": "2025-05-01T12:41:02.739307Z",
     "start_time": "2025-05-01T12:41:02.736039Z"
    }
   },
   "source": "menu",
   "outputs": [
    {
     "data": {
      "text/plain": [
       "{'filet mignon': 29.99, 'Big Mac': 3.99, 'Salmon': 29.99, 'Burrito': 13.99}"
      ]
     },
     "execution_count": 27,
     "metadata": {},
     "output_type": "execute_result"
    }
   ],
   "execution_count": 27
  },
  {
   "cell_type": "code",
   "id": "d16a03ed-0792-4e03-928a-ed2b4a602e57",
   "metadata": {
    "ExecuteTime": {
     "end_time": "2025-05-01T12:41:26.394582Z",
     "start_time": "2025-05-01T12:41:26.391757Z"
    }
   },
   "source": "menu[\"Big Mac\"] = 5.99",
   "outputs": [],
   "execution_count": 32
  },
  {
   "cell_type": "code",
   "id": "efb57b4e-38f5-40d7-bfef-87ef3f633aa6",
   "metadata": {
    "ExecuteTime": {
     "end_time": "2025-05-01T12:42:12.997345Z",
     "start_time": "2025-05-01T12:42:12.993819Z"
    }
   },
   "source": "menu",
   "outputs": [
    {
     "data": {
      "text/plain": [
       "{'Big Mac': 5.99, 'Salmon': 29.99, 'Burrito': 13.99}"
      ]
     },
     "execution_count": 39,
     "metadata": {},
     "output_type": "execute_result"
    }
   ],
   "execution_count": 39
  },
  {
   "cell_type": "code",
   "id": "9f0b28be-b0b3-4fb2-b0a8-cc2251babe98",
   "metadata": {
    "ExecuteTime": {
     "end_time": "2025-05-01T12:42:24.515526Z",
     "start_time": "2025-05-01T12:42:24.511163Z"
    }
   },
   "source": "menu.pop(\"Burrito\")",
   "outputs": [
    {
     "data": {
      "text/plain": [
       "13.99"
      ]
     },
     "execution_count": 40,
     "metadata": {},
     "output_type": "execute_result"
    }
   ],
   "execution_count": 40
  },
  {
   "cell_type": "code",
   "id": "3af08c01-a6f2-49df-86a4-04b05df38f26",
   "metadata": {
    "ExecuteTime": {
     "end_time": "2025-05-01T12:42:29.088950Z",
     "start_time": "2025-05-01T12:42:29.084787Z"
    }
   },
   "source": "menu",
   "outputs": [
    {
     "data": {
      "text/plain": [
       "{'Big Mac': 5.99, 'Salmon': 29.99}"
      ]
     },
     "execution_count": 41,
     "metadata": {},
     "output_type": "execute_result"
    }
   ],
   "execution_count": 41
  },
  {
   "cell_type": "code",
   "id": "8a248c07-5556-4029-b7a6-0fdcda1ed597",
   "metadata": {
    "ExecuteTime": {
     "end_time": "2025-05-01T12:42:30.104892Z",
     "start_time": "2025-05-01T12:42:30.101782Z"
    }
   },
   "source": "\"Pizza\" in menu",
   "outputs": [
    {
     "data": {
      "text/plain": [
       "False"
      ]
     },
     "execution_count": 42,
     "metadata": {},
     "output_type": "execute_result"
    }
   ],
   "execution_count": 42
  },
  {
   "cell_type": "code",
   "id": "12ec3ef8-3201-41e7-ac65-17aa58a14c93",
   "metadata": {
    "ExecuteTime": {
     "end_time": "2025-05-01T12:42:32.166621Z",
     "start_time": "2025-05-01T12:42:32.163500Z"
    }
   },
   "source": "\"Salmon\" in menu",
   "outputs": [
    {
     "data": {
      "text/plain": [
       "True"
      ]
     },
     "execution_count": 43,
     "metadata": {},
     "output_type": "execute_result"
    }
   ],
   "execution_count": 43
  },
  {
   "cell_type": "code",
   "id": "a18bb24e-cf04-44f0-9dcd-f9c9f2a336b8",
   "metadata": {
    "ExecuteTime": {
     "end_time": "2025-05-01T12:42:33.270910Z",
     "start_time": "2025-05-01T12:42:33.267510Z"
    }
   },
   "source": "menu.values()",
   "outputs": [
    {
     "data": {
      "text/plain": [
       "dict_values([5.99, 29.99])"
      ]
     },
     "execution_count": 44,
     "metadata": {},
     "output_type": "execute_result"
    }
   ],
   "execution_count": 44
  },
  {
   "cell_type": "code",
   "id": "2b4a718e-5196-497a-b60e-dcffa0e0f165",
   "metadata": {
    "ExecuteTime": {
     "end_time": "2025-05-01T12:42:38.083197Z",
     "start_time": "2025-05-01T12:42:38.079810Z"
    }
   },
   "source": "5.99 in menu.values()",
   "outputs": [
    {
     "data": {
      "text/plain": [
       "True"
      ]
     },
     "execution_count": 45,
     "metadata": {},
     "output_type": "execute_result"
    }
   ],
   "execution_count": 45
  },
  {
   "cell_type": "code",
   "execution_count": null,
   "id": "34eefda4-bc68-4661-8f3b-281f16006127",
   "metadata": {},
   "outputs": [],
   "source": []
  },
  {
   "cell_type": "markdown",
   "id": "f266aada-0759-4373-8874-7a6080a6a1a2",
   "metadata": {},
   "source": [
    "## Classes\n",
    "- A **class** is a blueprint/template for creating objects.\n",
    "- A **class** defines the methods/functionalities that objects made from it will have.\n",
    "- An object is called an **instance** of the class it is made from.\n",
    "- The act of creating an object from a class is called **instantiation**.\n",
    "- Every time we've worked with a Python object, it's been \"instantiated\" from a class.\n",
    "- In real world terms, a class is the blueprint and the house we build is the instance/object.\n",
    "- Syntax options like `\"\"` or `[]` or `{}` are shortcuts for instantiation.\n",
    "- For other classes, we'll need to use `class()` syntax to instantiate an object.\n",
    "- Much like functions and methods, some class instantiations will require arguments."
   ]
  },
  {
   "cell_type": "markdown",
   "id": "a62a901f-1f47-4682-925b-1564312e1fc2",
   "metadata": {
    "tags": []
   },
   "source": [
    "<img src=\"Blueprint.png\" width=\"600\" height=\"410\">"
   ]
  },
  {
   "cell_type": "markdown",
   "id": "40053702-9cb6-4f86-a03e-84fa97fb8b4e",
   "metadata": {},
   "source": [
    "## Navigating Libraries using Jupyter Lab"
   ]
  },
  {
   "cell_type": "code",
   "id": "20545267-3f61-4c06-8318-601e9fae4b1e",
   "metadata": {
    "tags": [],
    "ExecuteTime": {
     "end_time": "2025-05-01T13:28:55.145425Z",
     "start_time": "2025-05-01T13:28:53.967443Z"
    }
   },
   "source": "import pandas as pd",
   "outputs": [],
   "execution_count": 46
  },
  {
   "cell_type": "code",
   "execution_count": null,
   "id": "81ead5c9-db76-445d-937e-fb4ab925eef6",
   "metadata": {},
   "outputs": [],
   "source": "pd."
  }
 ],
 "metadata": {
  "kernelspec": {
   "display_name": "Python 3 (ipykernel)",
   "language": "python",
   "name": "python3"
  },
  "language_info": {
   "codemirror_mode": {
    "name": "ipython",
    "version": 3
   },
   "file_extension": ".py",
   "mimetype": "text/x-python",
   "name": "python",
   "nbconvert_exporter": "python",
   "pygments_lexer": "ipython3",
   "version": "3.11.5"
  }
 },
 "nbformat": 4,
 "nbformat_minor": 5
}
