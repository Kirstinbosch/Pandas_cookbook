{
 "cells": [
  {
   "cell_type": "markdown",
   "metadata": {},
   "source": [
    "# Series"
   ]
  },
  {
   "cell_type": "code",
   "metadata": {
    "ExecuteTime": {
     "end_time": "2025-05-01T13:45:25.279105Z",
     "start_time": "2025-05-01T13:45:24.991160Z"
    }
   },
   "source": "import pandas as pd",
   "outputs": [],
   "execution_count": 2
  },
  {
   "cell_type": "markdown",
   "metadata": {
    "slideshow": {
     "slide_type": "-"
    }
   },
   "source": [
    "## Create a Series Object from a List\n",
    "- A pandas **Series** is a one-dimensional labelled array.\n",
    "- A Series combines the best features of a list and a dictionary.\n",
    "- A Series maintains a single collection of ordered values (i.e. a single column of data).\n",
    "- We can assign each value an identifier, which does not have to *be* unique."
   ]
  },
  {
   "cell_type": "code",
   "metadata": {
    "ExecuteTime": {
     "end_time": "2025-05-01T13:45:44.159158Z",
     "start_time": "2025-05-01T13:45:44.139712Z"
    }
   },
   "source": [
    "ice_cream = [\"Chocolate\", \"Vanilla\", \"Strawberry\", \"Rum Raison\"]\n",
    "pd.Series(ice_cream)"
   ],
   "outputs": [
    {
     "data": {
      "text/plain": [
       "0     Chocolate\n",
       "1       Vanilla\n",
       "2    Strawberry\n",
       "3    Rum Raison\n",
       "dtype: object"
      ]
     },
     "execution_count": 5,
     "metadata": {},
     "output_type": "execute_result"
    }
   ],
   "execution_count": 5
  },
  {
   "cell_type": "code",
   "metadata": {
    "ExecuteTime": {
     "end_time": "2025-05-01T13:50:00.402637Z",
     "start_time": "2025-05-01T13:50:00.384696Z"
    }
   },
   "source": [
    "lottery_numbers = [4,8,15,16,23,42]\n",
    "pd.Series(lottery_numbers)"
   ],
   "outputs": [
    {
     "data": {
      "text/plain": [
       "0     4\n",
       "1     8\n",
       "2    15\n",
       "3    16\n",
       "4    23\n",
       "5    42\n",
       "dtype: int64"
      ]
     },
     "execution_count": 7,
     "metadata": {},
     "output_type": "execute_result"
    }
   ],
   "execution_count": 7
  },
  {
   "cell_type": "code",
   "metadata": {
    "ExecuteTime": {
     "end_time": "2025-05-01T13:51:09.791828Z",
     "start_time": "2025-05-01T13:51:09.779534Z"
    }
   },
   "source": [
    "registrations = [True, False, False, True]\n",
    "pd.Series(registrations)"
   ],
   "outputs": [
    {
     "data": {
      "text/plain": [
       "0     True\n",
       "1    False\n",
       "2    False\n",
       "3     True\n",
       "dtype: bool"
      ]
     },
     "execution_count": 9,
     "metadata": {},
     "output_type": "execute_result"
    }
   ],
   "execution_count": 9
  },
  {
   "cell_type": "markdown",
   "metadata": {},
   "source": [
    "## Create a Series Object from a Dictionary"
   ]
  },
  {
   "cell_type": "code",
   "metadata": {
    "ExecuteTime": {
     "end_time": "2025-05-01T13:53:29.773581Z",
     "start_time": "2025-05-01T13:53:29.753084Z"
    }
   },
   "source": [
    "sushi = {\n",
    "    \"Salmon\": \"Orange\",\n",
    "    \"Tuna\": \"Red\",\n",
    "    \"Eel\": \"Brown\",\n",
    "}\n",
    "pd.Series(sushi)"
   ],
   "outputs": [
    {
     "data": {
      "text/plain": [
       "Salmon    Orange\n",
       "Tuna         Red\n",
       "Eel        Brown\n",
       "dtype: object"
      ]
     },
     "execution_count": 11,
     "metadata": {},
     "output_type": "execute_result"
    }
   ],
   "execution_count": 11
  },
  {
   "cell_type": "markdown",
   "metadata": {},
   "source": [
    "## Intro to Series Methods\n",
    "- The syntax to invoke a method on any object is `object.method()`.\n",
    "- The `sum` method adds together the **Series'** values.\n",
    "- The `product` method multiplies the **Series'** values.\n",
    "- The `mean` method finds the average of the **Series'** values.\n",
    "- The `std` method finds the standard deviation of the **Series'** values."
   ]
  },
  {
   "cell_type": "code",
   "metadata": {
    "tags": [],
    "ExecuteTime": {
     "end_time": "2025-05-01T13:59:54.178263Z",
     "start_time": "2025-05-01T13:59:54.162202Z"
    }
   },
   "source": [
    "prices = pd.Series([2.99, 4.45, 1.36])\n",
    "prices"
   ],
   "outputs": [
    {
     "data": {
      "text/plain": [
       "0    2.99\n",
       "1    4.45\n",
       "2    1.36\n",
       "dtype: float64"
      ]
     },
     "execution_count": 15,
     "metadata": {},
     "output_type": "execute_result"
    }
   ],
   "execution_count": 15
  },
  {
   "cell_type": "code",
   "metadata": {
    "tags": [],
    "ExecuteTime": {
     "end_time": "2025-05-01T14:00:43.059431Z",
     "start_time": "2025-05-01T14:00:43.053292Z"
    }
   },
   "source": "prices.sum()",
   "outputs": [
    {
     "data": {
      "text/plain": [
       "np.float64(8.8)"
      ]
     },
     "execution_count": 16,
     "metadata": {},
     "output_type": "execute_result"
    }
   ],
   "execution_count": 16
  },
  {
   "cell_type": "code",
   "metadata": {
    "tags": [],
    "ExecuteTime": {
     "end_time": "2025-05-01T14:00:51.190776Z",
     "start_time": "2025-05-01T14:00:51.179873Z"
    }
   },
   "source": "prices.product()",
   "outputs": [
    {
     "data": {
      "text/plain": [
       "np.float64(18.095480000000006)"
      ]
     },
     "execution_count": 17,
     "metadata": {},
     "output_type": "execute_result"
    }
   ],
   "execution_count": 17
  },
  {
   "cell_type": "code",
   "metadata": {
    "tags": [],
    "ExecuteTime": {
     "end_time": "2025-05-01T14:00:59.445091Z",
     "start_time": "2025-05-01T14:00:59.436586Z"
    }
   },
   "source": "prices.mean()",
   "outputs": [
    {
     "data": {
      "text/plain": [
       "np.float64(2.9333333333333336)"
      ]
     },
     "execution_count": 18,
     "metadata": {},
     "output_type": "execute_result"
    }
   ],
   "execution_count": 18
  },
  {
   "cell_type": "code",
   "metadata": {
    "tags": [],
    "ExecuteTime": {
     "end_time": "2025-05-01T14:01:08.436019Z",
     "start_time": "2025-05-01T14:01:08.424052Z"
    }
   },
   "source": "prices.std()",
   "outputs": [
    {
     "data": {
      "text/plain": [
       "np.float64(1.5457791994115246)"
      ]
     },
     "execution_count": 19,
     "metadata": {},
     "output_type": "execute_result"
    }
   ],
   "execution_count": 19
  },
  {
   "cell_type": "markdown",
   "metadata": {},
   "source": [
    "## Intro to Attributes\n",
    "- An **attribute** is a piece of data that lives on an object.\n",
    "- An **attribute** is a fact, a detail, a characteristic of the object.\n",
    "- Access an attribute with `object.attribute` syntax.\n",
    "- The `size` attribute returns a count of the number of values in the **Series**.\n",
    "- The `is_unique` attribute returns True if the **Series** has no duplicate values.\n",
    "- The `values` and `index` attributes return the underlying objects that holds the **Series'** values and index labels."
   ]
  },
  {
   "cell_type": "code",
   "metadata": {
    "tags": [],
    "ExecuteTime": {
     "end_time": "2025-05-01T14:04:16.501582Z",
     "start_time": "2025-05-01T14:04:16.491783Z"
    }
   },
   "source": [
    "adjectives = pd.Series([\"Smart\", \"Handsome\", \"Charming\", \"Brilliant\", \"Humble\", \"Smart\"])\n",
    "adjectives"
   ],
   "outputs": [
    {
     "data": {
      "text/plain": [
       "0        Smart\n",
       "1     Handsome\n",
       "2     Charming\n",
       "3    Brilliant\n",
       "4       Humble\n",
       "5        Smart\n",
       "dtype: object"
      ]
     },
     "execution_count": 21,
     "metadata": {},
     "output_type": "execute_result"
    }
   ],
   "execution_count": 21
  },
  {
   "cell_type": "code",
   "metadata": {
    "tags": [],
    "ExecuteTime": {
     "end_time": "2025-05-01T14:04:43.000100Z",
     "start_time": "2025-05-01T14:04:42.991007Z"
    }
   },
   "source": "adjectives.size",
   "outputs": [
    {
     "data": {
      "text/plain": [
       "6"
      ]
     },
     "execution_count": 22,
     "metadata": {},
     "output_type": "execute_result"
    }
   ],
   "execution_count": 22
  },
  {
   "cell_type": "code",
   "metadata": {
    "tags": [],
    "ExecuteTime": {
     "end_time": "2025-05-01T14:05:04.195109Z",
     "start_time": "2025-05-01T14:05:04.183011Z"
    }
   },
   "source": "adjectives.is_unique",
   "outputs": [
    {
     "data": {
      "text/plain": [
       "False"
      ]
     },
     "execution_count": 23,
     "metadata": {},
     "output_type": "execute_result"
    }
   ],
   "execution_count": 23
  },
  {
   "cell_type": "code",
   "metadata": {
    "tags": [],
    "ExecuteTime": {
     "end_time": "2025-05-01T14:07:02.105523Z",
     "start_time": "2025-05-01T14:07:02.098319Z"
    }
   },
   "source": "adjectives.values",
   "outputs": [
    {
     "data": {
      "text/plain": [
       "array(['Smart', 'Handsome', 'Charming', 'Brilliant', 'Humble', 'Smart'],\n",
       "      dtype=object)"
      ]
     },
     "execution_count": 24,
     "metadata": {},
     "output_type": "execute_result"
    }
   ],
   "execution_count": 24
  },
  {
   "cell_type": "code",
   "metadata": {
    "tags": [],
    "ExecuteTime": {
     "end_time": "2025-05-01T14:07:27.394617Z",
     "start_time": "2025-05-01T14:07:27.389188Z"
    }
   },
   "source": "adjectives.index",
   "outputs": [
    {
     "data": {
      "text/plain": [
       "RangeIndex(start=0, stop=6, step=1)"
      ]
     },
     "execution_count": 25,
     "metadata": {},
     "output_type": "execute_result"
    }
   ],
   "execution_count": 25
  },
  {
   "cell_type": "code",
   "metadata": {
    "tags": [],
    "ExecuteTime": {
     "end_time": "2025-05-01T14:08:16.835680Z",
     "start_time": "2025-05-01T14:08:16.829040Z"
    }
   },
   "source": "type(5)",
   "outputs": [
    {
     "data": {
      "text/plain": [
       "int"
      ]
     },
     "execution_count": 26,
     "metadata": {},
     "output_type": "execute_result"
    }
   ],
   "execution_count": 26
  },
  {
   "cell_type": "code",
   "metadata": {
    "tags": [],
    "ExecuteTime": {
     "end_time": "2025-05-01T14:08:44.781858Z",
     "start_time": "2025-05-01T14:08:44.772363Z"
    }
   },
   "source": "type(adjectives.values)",
   "outputs": [
    {
     "data": {
      "text/plain": [
       "numpy.ndarray"
      ]
     },
     "execution_count": 28,
     "metadata": {},
     "output_type": "execute_result"
    }
   ],
   "execution_count": 28
  },
  {
   "cell_type": "markdown",
   "metadata": {},
   "source": [
    "## Parameters and Arguments\n",
    "- A **parameter** is the name for an expected input to a function/method/class instantiation.\n",
    "- An **argument** is the concrete value we provide for a parameter during invocation.\n",
    "- We can pass arguments either sequentially (based on parameter order) or with explicit parameter names written out.\n",
    "- The first two parameters for the **Series** constructor are `data` and `index`, which represent the values and the index labels."
   ]
  },
  {
   "cell_type": "code",
   "metadata": {
    "tags": [],
    "ExecuteTime": {
     "end_time": "2025-05-02T08:09:02.627273Z",
     "start_time": "2025-05-02T08:09:02.622926Z"
    }
   },
   "source": [
    "fruits = [\"Apple\", \"Orange\", \"Plum\", \"Grape\", \"Blueberry\", \"Watermelon\"]\n",
    "weekdays = [\"Monday\", \"Tuesday\", \"Wednesday\", \"Thursday\", \"Friday\", \"Saturday\"]"
   ],
   "outputs": [],
   "execution_count": 34
  },
  {
   "cell_type": "code",
   "metadata": {
    "tags": [],
    "ExecuteTime": {
     "end_time": "2025-05-02T08:09:03.680677Z",
     "start_time": "2025-05-02T08:09:03.668018Z"
    }
   },
   "source": "pd.Series(fruits)",
   "outputs": [
    {
     "data": {
      "text/plain": [
       "0         Apple\n",
       "1        Orange\n",
       "2          Plum\n",
       "3         Grape\n",
       "4     Blueberry\n",
       "5    Watermelon\n",
       "dtype: object"
      ]
     },
     "execution_count": 35,
     "metadata": {},
     "output_type": "execute_result"
    }
   ],
   "execution_count": 35
  },
  {
   "cell_type": "code",
   "metadata": {
    "tags": [],
    "ExecuteTime": {
     "end_time": "2025-05-02T08:09:04.602413Z",
     "start_time": "2025-05-02T08:09:04.598018Z"
    }
   },
   "source": "pd.Series(fruits, weekdays)",
   "outputs": [
    {
     "data": {
      "text/plain": [
       "Monday            Apple\n",
       "Tuesday          Orange\n",
       "Wednesday          Plum\n",
       "Thursday          Grape\n",
       "Friday        Blueberry\n",
       "Saturday     Watermelon\n",
       "dtype: object"
      ]
     },
     "execution_count": 36,
     "metadata": {},
     "output_type": "execute_result"
    }
   ],
   "execution_count": 36
  },
  {
   "cell_type": "code",
   "metadata": {
    "tags": [],
    "ExecuteTime": {
     "end_time": "2025-05-02T08:09:27.984301Z",
     "start_time": "2025-05-02T08:09:27.975205Z"
    }
   },
   "source": "pd.Series(weekdays, fruits)",
   "outputs": [
    {
     "data": {
      "text/plain": [
       "Apple            Monday\n",
       "Orange          Tuesday\n",
       "Plum          Wednesday\n",
       "Grape          Thursday\n",
       "Blueberry        Friday\n",
       "Watermelon     Saturday\n",
       "dtype: object"
      ]
     },
     "execution_count": 37,
     "metadata": {},
     "output_type": "execute_result"
    }
   ],
   "execution_count": 37
  },
  {
   "cell_type": "code",
   "metadata": {
    "ExecuteTime": {
     "end_time": "2025-05-02T08:12:10.294005Z",
     "start_time": "2025-05-02T08:12:10.279818Z"
    }
   },
   "source": [
    "pd.Series(data=fruits, index=weekdays)\n",
    "pd.Series(index=weekdays, data=fruits)"
   ],
   "outputs": [
    {
     "data": {
      "text/plain": [
       "Monday            Apple\n",
       "Tuesday          Orange\n",
       "Wednesday          Plum\n",
       "Thursday          Grape\n",
       "Friday        Blueberry\n",
       "Saturday     Watermelon\n",
       "dtype: object"
      ]
     },
     "execution_count": 40,
     "metadata": {},
     "output_type": "execute_result"
    }
   ],
   "execution_count": 40
  },
  {
   "cell_type": "code",
   "metadata": {
    "tags": [],
    "ExecuteTime": {
     "end_time": "2025-05-02T08:13:36.888445Z",
     "start_time": "2025-05-02T08:13:36.872543Z"
    }
   },
   "source": "pd.Series(fruits, index=weekdays)",
   "outputs": [
    {
     "data": {
      "text/plain": [
       "Monday            Apple\n",
       "Tuesday          Orange\n",
       "Wednesday          Plum\n",
       "Thursday          Grape\n",
       "Friday        Blueberry\n",
       "Saturday     Watermelon\n",
       "dtype: object"
      ]
     },
     "execution_count": 41,
     "metadata": {},
     "output_type": "execute_result"
    }
   ],
   "execution_count": 41
  },
  {
   "cell_type": "markdown",
   "metadata": {},
   "source": [
    "\n",
    "## Import Series with the pd.read_csv Function\n",
    "- A **CSV** is a plain text file that uses line breaks to separate rows and commas to separate row values.\n",
    "- Pandas ships with many different `read_` functions for different types of files.\n",
    "- The `read_csv` function accepts many different parameters. The first one specifies the file name/path.\n",
    "- The `read_csv` function will import the dataset as a **DataFrame**, a 2-dimensional table.\n",
    "- The `usecols` parameter accepts a list of the column(s) to import.\n",
    "- The `squeeze` method converts a **DataFrame** to a **Series**."
   ]
  },
  {
   "cell_type": "code",
   "metadata": {
    "ExecuteTime": {
     "end_time": "2025-05-02T08:47:15.786195Z",
     "start_time": "2025-05-02T08:47:15.771073Z"
    }
   },
   "source": "pd.read_csv(\"pokemon.csv\", usecols=[\"Name\"]).squeeze(\"columns\")",
   "outputs": [
    {
     "data": {
      "text/plain": [
       "0          Bulbasaur\n",
       "1            Ivysaur\n",
       "2           Venusaur\n",
       "3         Charmander\n",
       "4         Charmeleon\n",
       "            ...     \n",
       "1005    Iron Valiant\n",
       "1006        Koraidon\n",
       "1007        Miraidon\n",
       "1008    Walking Wake\n",
       "1009     Iron Leaves\n",
       "Name: Name, Length: 1010, dtype: object"
      ]
     },
     "execution_count": 48,
     "metadata": {},
     "output_type": "execute_result"
    }
   ],
   "execution_count": 48
  },
  {
   "cell_type": "code",
   "metadata": {
    "tags": [],
    "ExecuteTime": {
     "end_time": "2025-05-02T08:51:51.012215Z",
     "start_time": "2025-05-02T08:51:50.996631Z"
    }
   },
   "source": "pd.read_csv(\"google_stock_price.csv\", usecols=[\"Price\"]).squeeze(\"columns\")",
   "outputs": [
    {
     "data": {
      "text/plain": [
       "0         2.490664\n",
       "1         2.515820\n",
       "2         2.758411\n",
       "3         2.770615\n",
       "4         2.614201\n",
       "           ...    \n",
       "4788    132.080002\n",
       "4789    132.998001\n",
       "4790    135.570007\n",
       "4791    137.050003\n",
       "4792    138.429993\n",
       "Name: Price, Length: 4793, dtype: float64"
      ]
     },
     "execution_count": 51,
     "metadata": {},
     "output_type": "execute_result"
    }
   ],
   "execution_count": 51
  },
  {
   "metadata": {},
   "cell_type": "code",
   "outputs": [],
   "execution_count": null,
   "source": ""
  },
  {
   "cell_type": "markdown",
   "metadata": {},
   "source": [
    "## The head and tail Methods\n",
    "- The `head` method returns a number of rows from the top/beginning of the `Series`.\n",
    "- The `tail` method returns a number of rows from the bottom/end of the `Series`."
   ]
  },
  {
   "cell_type": "code",
   "metadata": {
    "tags": [],
    "ExecuteTime": {
     "end_time": "2025-05-02T09:08:27.352414Z",
     "start_time": "2025-05-02T09:08:27.326090Z"
    }
   },
   "source": "pokemon = pd.read_csv(\"pokemon.csv\", usecols=[\"Name\"]).squeeze(\"columns\")",
   "outputs": [],
   "execution_count": 61
  },
  {
   "cell_type": "code",
   "metadata": {
    "tags": [],
    "ExecuteTime": {
     "end_time": "2025-05-02T09:08:32.184119Z",
     "start_time": "2025-05-02T09:08:32.178311Z"
    }
   },
   "source": "pokemon.head()",
   "outputs": [
    {
     "data": {
      "text/plain": [
       "0     Bulbasaur\n",
       "1       Ivysaur\n",
       "2      Venusaur\n",
       "3    Charmander\n",
       "4    Charmeleon\n",
       "Name: Name, dtype: object"
      ]
     },
     "execution_count": 62,
     "metadata": {},
     "output_type": "execute_result"
    }
   ],
   "execution_count": 62
  },
  {
   "cell_type": "code",
   "metadata": {
    "tags": [],
    "ExecuteTime": {
     "end_time": "2025-05-02T09:10:56.811454Z",
     "start_time": "2025-05-02T09:10:56.805248Z"
    }
   },
   "source": [
    "pokemon.head(10)\n",
    "pokemon.head(n=6)"
   ],
   "outputs": [
    {
     "data": {
      "text/plain": [
       "0     Bulbasaur\n",
       "1       Ivysaur\n",
       "2      Venusaur\n",
       "3    Charmander\n",
       "4    Charmeleon\n",
       "5     Charizard\n",
       "Name: Name, dtype: object"
      ]
     },
     "execution_count": 66,
     "metadata": {},
     "output_type": "execute_result"
    }
   ],
   "execution_count": 66
  },
  {
   "metadata": {
    "ExecuteTime": {
     "end_time": "2025-05-02T09:11:23.689753Z",
     "start_time": "2025-05-02T09:11:23.681508Z"
    }
   },
   "cell_type": "code",
   "source": "pokemon.tail(10)",
   "outputs": [
    {
     "data": {
      "text/plain": [
       "1000        Wo-Chien\n",
       "1001       Chien-Pao\n",
       "1002         Ting-Lu\n",
       "1003          Chi-Yu\n",
       "1004    Roaring Moon\n",
       "1005    Iron Valiant\n",
       "1006        Koraidon\n",
       "1007        Miraidon\n",
       "1008    Walking Wake\n",
       "1009     Iron Leaves\n",
       "Name: Name, dtype: object"
      ]
     },
     "execution_count": 67,
     "metadata": {},
     "output_type": "execute_result"
    }
   ],
   "execution_count": 67
  },
  {
   "cell_type": "markdown",
   "metadata": {},
   "source": [
    "## Passing Series to Python's Built-In Functions\n",
    "- The `len` function returns the length of the **Series**.\n",
    "- The `type` function returns the type of an object.\n",
    "- The `list` function converts the **Series** to a list.\n",
    "- The `dict` function converts the **Series** to a dictionary.\n",
    "- The `sorted` function converts the **Series** to a sorted list.\n",
    "- The `max` function returns the largest value in the **Series**.\n",
    "- The `min` function returns the smalllest value in the **Series**."
   ]
  },
  {
   "cell_type": "code",
   "metadata": {
    "tags": [],
    "ExecuteTime": {
     "end_time": "2025-05-02T11:06:25.087164Z",
     "start_time": "2025-05-02T11:06:25.059069Z"
    }
   },
   "source": [
    "pokemon = pd.read_csv(\"pokemon.csv\", usecols=[\"Name\"]).squeeze(\"columns\")\n",
    "google = pd.read_csv(\"google_stock_price.csv\", usecols=[\"Price\"]).squeeze(\"columns\")"
   ],
   "outputs": [],
   "execution_count": 68
  },
  {
   "cell_type": "code",
   "metadata": {
    "tags": [],
    "ExecuteTime": {
     "end_time": "2025-05-02T11:06:35.538909Z",
     "start_time": "2025-05-02T11:06:35.524944Z"
    }
   },
   "source": "pokemon.head()",
   "outputs": [
    {
     "data": {
      "text/plain": [
       "0     Bulbasaur\n",
       "1       Ivysaur\n",
       "2      Venusaur\n",
       "3    Charmander\n",
       "4    Charmeleon\n",
       "Name: Name, dtype: object"
      ]
     },
     "execution_count": 69,
     "metadata": {},
     "output_type": "execute_result"
    }
   ],
   "execution_count": 69
  },
  {
   "cell_type": "code",
   "metadata": {
    "tags": [],
    "ExecuteTime": {
     "end_time": "2025-05-02T11:06:54.398605Z",
     "start_time": "2025-05-02T11:06:54.384626Z"
    }
   },
   "source": "len(pokemon)",
   "outputs": [
    {
     "data": {
      "text/plain": [
       "1010"
      ]
     },
     "execution_count": 70,
     "metadata": {},
     "output_type": "execute_result"
    }
   ],
   "execution_count": 70
  },
  {
   "metadata": {
    "ExecuteTime": {
     "end_time": "2025-05-02T11:10:32.799538Z",
     "start_time": "2025-05-02T11:10:32.794689Z"
    }
   },
   "cell_type": "code",
   "source": "type(pokemon)",
   "outputs": [
    {
     "data": {
      "text/plain": [
       "pandas.core.series.Series"
      ]
     },
     "execution_count": 71,
     "metadata": {},
     "output_type": "execute_result"
    }
   ],
   "execution_count": 71
  },
  {
   "metadata": {
    "ExecuteTime": {
     "end_time": "2025-05-02T11:10:47.955689Z",
     "start_time": "2025-05-02T11:10:47.940774Z"
    }
   },
   "cell_type": "code",
   "source": "list(pokemon)",
   "outputs": [
    {
     "data": {
      "text/plain": [
       "['Bulbasaur',\n",
       " 'Ivysaur',\n",
       " 'Venusaur',\n",
       " 'Charmander',\n",
       " 'Charmeleon',\n",
       " 'Charizard',\n",
       " 'Squirtle',\n",
       " 'Wartortle',\n",
       " 'Blastoise',\n",
       " 'Caterpie',\n",
       " 'Metapod',\n",
       " 'Butterfree',\n",
       " 'Weedle',\n",
       " 'Kakuna',\n",
       " 'Beedrill',\n",
       " 'Pidgey',\n",
       " 'Pidgeotto',\n",
       " 'Pidgeot',\n",
       " 'Rattata',\n",
       " 'Raticate',\n",
       " 'Spearow',\n",
       " 'Fearow',\n",
       " 'Ekans',\n",
       " 'Arbok',\n",
       " 'Pikachu',\n",
       " 'Raichu',\n",
       " 'Sandshrew',\n",
       " 'Sandslash',\n",
       " 'Nidoran♀',\n",
       " 'Nidorina',\n",
       " 'Nidoqueen',\n",
       " 'Nidoran♂',\n",
       " 'Nidorino',\n",
       " 'Nidoking',\n",
       " 'Clefairy',\n",
       " 'Clefable',\n",
       " 'Vulpix',\n",
       " 'Ninetales',\n",
       " 'Jigglypuff',\n",
       " 'Wigglytuff',\n",
       " 'Zubat',\n",
       " 'Golbat',\n",
       " 'Oddish',\n",
       " 'Gloom',\n",
       " 'Vileplume',\n",
       " 'Paras',\n",
       " 'Parasect',\n",
       " 'Venonat',\n",
       " 'Venomoth',\n",
       " 'Diglett',\n",
       " 'Dugtrio',\n",
       " 'Meowth',\n",
       " 'Persian',\n",
       " 'Psyduck',\n",
       " 'Golduck',\n",
       " 'Mankey',\n",
       " 'Primeape',\n",
       " 'Growlithe',\n",
       " 'Arcanine',\n",
       " 'Poliwag',\n",
       " 'Poliwhirl',\n",
       " 'Poliwrath',\n",
       " 'Abra',\n",
       " 'Kadabra',\n",
       " 'Alakazam',\n",
       " 'Machop',\n",
       " 'Machoke',\n",
       " 'Machamp',\n",
       " 'Bellsprout',\n",
       " 'Weepinbell',\n",
       " 'Victreebel',\n",
       " 'Tentacool',\n",
       " 'Tentacruel',\n",
       " 'Geodude',\n",
       " 'Graveler',\n",
       " 'Golem',\n",
       " 'Ponyta',\n",
       " 'Rapidash',\n",
       " 'Slowpoke',\n",
       " 'Slowbro',\n",
       " 'Magnemite',\n",
       " 'Magneton',\n",
       " 'Farfetch’d',\n",
       " 'Doduo',\n",
       " 'Dodrio',\n",
       " 'Seel',\n",
       " 'Dewgong',\n",
       " 'Grimer',\n",
       " 'Muk',\n",
       " 'Shellder',\n",
       " 'Cloyster',\n",
       " 'Gastly',\n",
       " 'Haunter',\n",
       " 'Gengar',\n",
       " 'Onix',\n",
       " 'Drowzee',\n",
       " 'Hypno',\n",
       " 'Krabby',\n",
       " 'Kingler',\n",
       " 'Voltorb',\n",
       " 'Electrode',\n",
       " 'Exeggcute',\n",
       " 'Exeggutor',\n",
       " 'Cubone',\n",
       " 'Marowak',\n",
       " 'Hitmonlee',\n",
       " 'Hitmonchan',\n",
       " 'Lickitung',\n",
       " 'Koffing',\n",
       " 'Weezing',\n",
       " 'Rhyhorn',\n",
       " 'Rhydon',\n",
       " 'Chansey',\n",
       " 'Tangela',\n",
       " 'Kangaskhan',\n",
       " 'Horsea',\n",
       " 'Seadra',\n",
       " 'Goldeen',\n",
       " 'Seaking',\n",
       " 'Staryu',\n",
       " 'Starmie',\n",
       " 'Mr. Mime',\n",
       " 'Scyther',\n",
       " 'Jynx',\n",
       " 'Electabuzz',\n",
       " 'Magmar',\n",
       " 'Pinsir',\n",
       " 'Tauros',\n",
       " 'Magikarp',\n",
       " 'Gyarados',\n",
       " 'Lapras',\n",
       " 'Ditto',\n",
       " 'Eevee',\n",
       " 'Vaporeon',\n",
       " 'Jolteon',\n",
       " 'Flareon',\n",
       " 'Porygon',\n",
       " 'Omanyte',\n",
       " 'Omastar',\n",
       " 'Kabuto',\n",
       " 'Kabutops',\n",
       " 'Aerodactyl',\n",
       " 'Snorlax',\n",
       " 'Articuno',\n",
       " 'Zapdos',\n",
       " 'Moltres',\n",
       " 'Dratini',\n",
       " 'Dragonair',\n",
       " 'Dragonite',\n",
       " 'Mewtwo',\n",
       " 'Mew',\n",
       " 'Chikorita',\n",
       " 'Bayleef',\n",
       " 'Meganium',\n",
       " 'Cyndaquil',\n",
       " 'Quilava',\n",
       " 'Typhlosion',\n",
       " 'Totodile',\n",
       " 'Croconaw',\n",
       " 'Feraligatr',\n",
       " 'Sentret',\n",
       " 'Furret',\n",
       " 'Hoothoot',\n",
       " 'Noctowl',\n",
       " 'Ledyba',\n",
       " 'Ledian',\n",
       " 'Spinarak',\n",
       " 'Ariados',\n",
       " 'Crobat',\n",
       " 'Chinchou',\n",
       " 'Lanturn',\n",
       " 'Pichu',\n",
       " 'Cleffa',\n",
       " 'Igglybuff',\n",
       " 'Togepi',\n",
       " 'Togetic',\n",
       " 'Natu',\n",
       " 'Xatu',\n",
       " 'Mareep',\n",
       " 'Flaaffy',\n",
       " 'Ampharos',\n",
       " 'Bellossom',\n",
       " 'Marill',\n",
       " 'Azumarill',\n",
       " 'Sudowoodo',\n",
       " 'Politoed',\n",
       " 'Hoppip',\n",
       " 'Skiploom',\n",
       " 'Jumpluff',\n",
       " 'Aipom',\n",
       " 'Sunkern',\n",
       " 'Sunflora',\n",
       " 'Yanma',\n",
       " 'Wooper',\n",
       " 'Quagsire',\n",
       " 'Espeon',\n",
       " 'Umbreon',\n",
       " 'Murkrow',\n",
       " 'Slowking',\n",
       " 'Misdreavus',\n",
       " 'Unown',\n",
       " 'Wobbuffet',\n",
       " 'Girafarig',\n",
       " 'Pineco',\n",
       " 'Forretress',\n",
       " 'Dunsparce',\n",
       " 'Gligar',\n",
       " 'Steelix',\n",
       " 'Snubbull',\n",
       " 'Granbull',\n",
       " 'Qwilfish',\n",
       " 'Scizor',\n",
       " 'Shuckle',\n",
       " 'Heracross',\n",
       " 'Sneasel',\n",
       " 'Teddiursa',\n",
       " 'Ursaring',\n",
       " 'Slugma',\n",
       " 'Magcargo',\n",
       " 'Swinub',\n",
       " 'Piloswine',\n",
       " 'Corsola',\n",
       " 'Remoraid',\n",
       " 'Octillery',\n",
       " 'Delibird',\n",
       " 'Mantine',\n",
       " 'Skarmory',\n",
       " 'Houndour',\n",
       " 'Houndoom',\n",
       " 'Kingdra',\n",
       " 'Phanpy',\n",
       " 'Donphan',\n",
       " 'Porygon2',\n",
       " 'Stantler',\n",
       " 'Smeargle',\n",
       " 'Tyrogue',\n",
       " 'Hitmontop',\n",
       " 'Smoochum',\n",
       " 'Elekid',\n",
       " 'Magby',\n",
       " 'Miltank',\n",
       " 'Blissey',\n",
       " 'Raikou',\n",
       " 'Entei',\n",
       " 'Suicune',\n",
       " 'Larvitar',\n",
       " 'Pupitar',\n",
       " 'Tyranitar',\n",
       " 'Lugia',\n",
       " 'Ho-Oh',\n",
       " 'Celebi',\n",
       " 'Treecko',\n",
       " 'Grovyle',\n",
       " 'Sceptile',\n",
       " 'Torchic',\n",
       " 'Combusken',\n",
       " 'Blaziken',\n",
       " 'Mudkip',\n",
       " 'Marshtomp',\n",
       " 'Swampert',\n",
       " 'Poochyena',\n",
       " 'Mightyena',\n",
       " 'Zigzagoon',\n",
       " 'Linoone',\n",
       " 'Wurmple',\n",
       " 'Silcoon',\n",
       " 'Beautifly',\n",
       " 'Cascoon',\n",
       " 'Dustox',\n",
       " 'Lotad',\n",
       " 'Lombre',\n",
       " 'Ludicolo',\n",
       " 'Seedot',\n",
       " 'Nuzleaf',\n",
       " 'Shiftry',\n",
       " 'Taillow',\n",
       " 'Swellow',\n",
       " 'Wingull',\n",
       " 'Pelipper',\n",
       " 'Ralts',\n",
       " 'Kirlia',\n",
       " 'Gardevoir',\n",
       " 'Surskit',\n",
       " 'Masquerain',\n",
       " 'Shroomish',\n",
       " 'Breloom',\n",
       " 'Slakoth',\n",
       " 'Vigoroth',\n",
       " 'Slaking',\n",
       " 'Nincada',\n",
       " 'Ninjask',\n",
       " 'Shedinja',\n",
       " 'Whismur',\n",
       " 'Loudred',\n",
       " 'Exploud',\n",
       " 'Makuhita',\n",
       " 'Hariyama',\n",
       " 'Azurill',\n",
       " 'Nosepass',\n",
       " 'Skitty',\n",
       " 'Delcatty',\n",
       " 'Sableye',\n",
       " 'Mawile',\n",
       " 'Aron',\n",
       " 'Lairon',\n",
       " 'Aggron',\n",
       " 'Meditite',\n",
       " 'Medicham',\n",
       " 'Electrike',\n",
       " 'Manectric',\n",
       " 'Plusle',\n",
       " 'Minun',\n",
       " 'Volbeat',\n",
       " 'Illumise',\n",
       " 'Roselia',\n",
       " 'Gulpin',\n",
       " 'Swalot',\n",
       " 'Carvanha',\n",
       " 'Sharpedo',\n",
       " 'Wailmer',\n",
       " 'Wailord',\n",
       " 'Numel',\n",
       " 'Camerupt',\n",
       " 'Torkoal',\n",
       " 'Spoink',\n",
       " 'Grumpig',\n",
       " 'Spinda',\n",
       " 'Trapinch',\n",
       " 'Vibrava',\n",
       " 'Flygon',\n",
       " 'Cacnea',\n",
       " 'Cacturne',\n",
       " 'Swablu',\n",
       " 'Altaria',\n",
       " 'Zangoose',\n",
       " 'Seviper',\n",
       " 'Lunatone',\n",
       " 'Solrock',\n",
       " 'Barboach',\n",
       " 'Whiscash',\n",
       " 'Corphish',\n",
       " 'Crawdaunt',\n",
       " 'Baltoy',\n",
       " 'Claydol',\n",
       " 'Lileep',\n",
       " 'Cradily',\n",
       " 'Anorith',\n",
       " 'Armaldo',\n",
       " 'Feebas',\n",
       " 'Milotic',\n",
       " 'Castform',\n",
       " 'Kecleon',\n",
       " 'Shuppet',\n",
       " 'Banette',\n",
       " 'Duskull',\n",
       " 'Dusclops',\n",
       " 'Tropius',\n",
       " 'Chimecho',\n",
       " 'Absol',\n",
       " 'Wynaut',\n",
       " 'Snorunt',\n",
       " 'Glalie',\n",
       " 'Spheal',\n",
       " 'Sealeo',\n",
       " 'Walrein',\n",
       " 'Clamperl',\n",
       " 'Huntail',\n",
       " 'Gorebyss',\n",
       " 'Relicanth',\n",
       " 'Luvdisc',\n",
       " 'Bagon',\n",
       " 'Shelgon',\n",
       " 'Salamence',\n",
       " 'Beldum',\n",
       " 'Metang',\n",
       " 'Metagross',\n",
       " 'Regirock',\n",
       " 'Regice',\n",
       " 'Registeel',\n",
       " 'Latias',\n",
       " 'Latios',\n",
       " 'Kyogre',\n",
       " 'Groudon',\n",
       " 'Rayquaza',\n",
       " 'Jirachi',\n",
       " 'Deoxys',\n",
       " 'Turtwig',\n",
       " 'Grotle',\n",
       " 'Torterra',\n",
       " 'Chimchar',\n",
       " 'Monferno',\n",
       " 'Infernape',\n",
       " 'Piplup',\n",
       " 'Prinplup',\n",
       " 'Empoleon',\n",
       " 'Starly',\n",
       " 'Staravia',\n",
       " 'Staraptor',\n",
       " 'Bidoof',\n",
       " 'Bibarel',\n",
       " 'Kricketot',\n",
       " 'Kricketune',\n",
       " 'Shinx',\n",
       " 'Luxio',\n",
       " 'Luxray',\n",
       " 'Budew',\n",
       " 'Roserade',\n",
       " 'Cranidos',\n",
       " 'Rampardos',\n",
       " 'Shieldon',\n",
       " 'Bastiodon',\n",
       " 'Burmy',\n",
       " 'Wormadam',\n",
       " 'Mothim',\n",
       " 'Combee',\n",
       " 'Vespiquen',\n",
       " 'Pachirisu',\n",
       " 'Buizel',\n",
       " 'Floatzel',\n",
       " 'Cherubi',\n",
       " 'Cherrim',\n",
       " 'Shellos',\n",
       " 'Gastrodon',\n",
       " 'Ambipom',\n",
       " 'Drifloon',\n",
       " 'Drifblim',\n",
       " 'Buneary',\n",
       " 'Lopunny',\n",
       " 'Mismagius',\n",
       " 'Honchkrow',\n",
       " 'Glameow',\n",
       " 'Purugly',\n",
       " 'Chingling',\n",
       " 'Stunky',\n",
       " 'Skuntank',\n",
       " 'Bronzor',\n",
       " 'Bronzong',\n",
       " 'Bonsly',\n",
       " 'Mime Jr.',\n",
       " 'Happiny',\n",
       " 'Chatot',\n",
       " 'Spiritomb',\n",
       " 'Gible',\n",
       " 'Gabite',\n",
       " 'Garchomp',\n",
       " 'Munchlax',\n",
       " 'Riolu',\n",
       " 'Lucario',\n",
       " 'Hippopotas',\n",
       " 'Hippowdon',\n",
       " 'Skorupi',\n",
       " 'Drapion',\n",
       " 'Croagunk',\n",
       " 'Toxicroak',\n",
       " 'Carnivine',\n",
       " 'Finneon',\n",
       " 'Lumineon',\n",
       " 'Mantyke',\n",
       " 'Snover',\n",
       " 'Abomasnow',\n",
       " 'Weavile',\n",
       " 'Magnezone',\n",
       " 'Lickilicky',\n",
       " 'Rhyperior',\n",
       " 'Tangrowth',\n",
       " 'Electivire',\n",
       " 'Magmortar',\n",
       " 'Togekiss',\n",
       " 'Yanmega',\n",
       " 'Leafeon',\n",
       " 'Glaceon',\n",
       " 'Gliscor',\n",
       " 'Mamoswine',\n",
       " 'Porygon-Z',\n",
       " 'Gallade',\n",
       " 'Probopass',\n",
       " 'Dusknoir',\n",
       " 'Froslass',\n",
       " 'Rotom',\n",
       " 'Uxie',\n",
       " 'Mesprit',\n",
       " 'Azelf',\n",
       " 'Dialga',\n",
       " 'Palkia',\n",
       " 'Heatran',\n",
       " 'Regigigas',\n",
       " 'Giratina',\n",
       " 'Cresselia',\n",
       " 'Phione',\n",
       " 'Manaphy',\n",
       " 'Darkrai',\n",
       " 'Shaymin',\n",
       " 'Arceus',\n",
       " 'Victini',\n",
       " 'Snivy',\n",
       " 'Servine',\n",
       " 'Serperior',\n",
       " 'Tepig',\n",
       " 'Pignite',\n",
       " 'Emboar',\n",
       " 'Oshawott',\n",
       " 'Dewott',\n",
       " 'Samurott',\n",
       " 'Patrat',\n",
       " 'Watchog',\n",
       " 'Lillipup',\n",
       " 'Herdier',\n",
       " 'Stoutland',\n",
       " 'Purrloin',\n",
       " 'Liepard',\n",
       " 'Pansage',\n",
       " 'Simisage',\n",
       " 'Pansear',\n",
       " 'Simisear',\n",
       " 'Panpour',\n",
       " 'Simipour',\n",
       " 'Munna',\n",
       " 'Musharna',\n",
       " 'Pidove',\n",
       " 'Tranquill',\n",
       " 'Unfezant',\n",
       " 'Blitzle',\n",
       " 'Zebstrika',\n",
       " 'Roggenrola',\n",
       " 'Boldore',\n",
       " 'Gigalith',\n",
       " 'Woobat',\n",
       " 'Swoobat',\n",
       " 'Drilbur',\n",
       " 'Excadrill',\n",
       " 'Audino',\n",
       " 'Timburr',\n",
       " 'Gurdurr',\n",
       " 'Conkeldurr',\n",
       " 'Tympole',\n",
       " 'Palpitoad',\n",
       " 'Seismitoad',\n",
       " 'Throh',\n",
       " 'Sawk',\n",
       " 'Sewaddle',\n",
       " 'Swadloon',\n",
       " 'Leavanny',\n",
       " 'Venipede',\n",
       " 'Whirlipede',\n",
       " 'Scolipede',\n",
       " 'Cottonee',\n",
       " 'Whimsicott',\n",
       " 'Petilil',\n",
       " 'Lilligant',\n",
       " 'Basculin',\n",
       " 'Sandile',\n",
       " 'Krokorok',\n",
       " 'Krookodile',\n",
       " 'Darumaka',\n",
       " 'Darmanitan',\n",
       " 'Maractus',\n",
       " 'Dwebble',\n",
       " 'Crustle',\n",
       " 'Scraggy',\n",
       " 'Scrafty',\n",
       " 'Sigilyph',\n",
       " 'Yamask',\n",
       " 'Cofagrigus',\n",
       " 'Tirtouga',\n",
       " 'Carracosta',\n",
       " 'Archen',\n",
       " 'Archeops',\n",
       " 'Trubbish',\n",
       " 'Garbodor',\n",
       " 'Zorua',\n",
       " 'Zoroark',\n",
       " 'Minccino',\n",
       " 'Cinccino',\n",
       " 'Gothita',\n",
       " 'Gothorita',\n",
       " 'Gothitelle',\n",
       " 'Solosis',\n",
       " 'Duosion',\n",
       " 'Reuniclus',\n",
       " 'Ducklett',\n",
       " 'Swanna',\n",
       " 'Vanillite',\n",
       " 'Vanillish',\n",
       " 'Vanilluxe',\n",
       " 'Deerling',\n",
       " 'Sawsbuck',\n",
       " 'Emolga',\n",
       " 'Karrablast',\n",
       " 'Escavalier',\n",
       " 'Foongus',\n",
       " 'Amoonguss',\n",
       " 'Frillish',\n",
       " 'Jellicent',\n",
       " 'Alomomola',\n",
       " 'Joltik',\n",
       " 'Galvantula',\n",
       " 'Ferroseed',\n",
       " 'Ferrothorn',\n",
       " 'Klink',\n",
       " 'Klang',\n",
       " 'Klinklang',\n",
       " 'Tynamo',\n",
       " 'Eelektrik',\n",
       " 'Eelektross',\n",
       " 'Elgyem',\n",
       " 'Beheeyem',\n",
       " 'Litwick',\n",
       " 'Lampent',\n",
       " 'Chandelure',\n",
       " 'Axew',\n",
       " 'Fraxure',\n",
       " 'Haxorus',\n",
       " 'Cubchoo',\n",
       " 'Beartic',\n",
       " 'Cryogonal',\n",
       " 'Shelmet',\n",
       " 'Accelgor',\n",
       " 'Stunfisk',\n",
       " 'Mienfoo',\n",
       " 'Mienshao',\n",
       " 'Druddigon',\n",
       " 'Golett',\n",
       " 'Golurk',\n",
       " 'Pawniard',\n",
       " 'Bisharp',\n",
       " 'Bouffalant',\n",
       " 'Rufflet',\n",
       " 'Braviary',\n",
       " 'Vullaby',\n",
       " 'Mandibuzz',\n",
       " 'Heatmor',\n",
       " 'Durant',\n",
       " 'Deino',\n",
       " 'Zweilous',\n",
       " 'Hydreigon',\n",
       " 'Larvesta',\n",
       " 'Volcarona',\n",
       " 'Cobalion',\n",
       " 'Terrakion',\n",
       " 'Virizion',\n",
       " 'Tornadus',\n",
       " 'Thundurus',\n",
       " 'Reshiram',\n",
       " 'Zekrom',\n",
       " 'Landorus',\n",
       " 'Kyurem',\n",
       " 'Keldeo',\n",
       " 'Meloetta',\n",
       " 'Genesect',\n",
       " 'Chespin',\n",
       " 'Quilladin',\n",
       " 'Chesnaught',\n",
       " 'Fennekin',\n",
       " 'Braixen',\n",
       " 'Delphox',\n",
       " 'Froakie',\n",
       " 'Frogadier',\n",
       " 'Greninja',\n",
       " 'Bunnelby',\n",
       " 'Diggersby',\n",
       " 'Fletchling',\n",
       " 'Fletchinder',\n",
       " 'Talonflame',\n",
       " 'Scatterbug',\n",
       " 'Spewpa',\n",
       " 'Vivillon',\n",
       " 'Litleo',\n",
       " 'Pyroar',\n",
       " 'Flabébé',\n",
       " 'Floette',\n",
       " 'Florges',\n",
       " 'Skiddo',\n",
       " 'Gogoat',\n",
       " 'Pancham',\n",
       " 'Pangoro',\n",
       " 'Furfrou',\n",
       " 'Espurr',\n",
       " 'Meowstic',\n",
       " 'Honedge',\n",
       " 'Doublade',\n",
       " 'Aegislash',\n",
       " 'Spritzee',\n",
       " 'Aromatisse',\n",
       " 'Swirlix',\n",
       " 'Slurpuff',\n",
       " 'Inkay',\n",
       " 'Malamar',\n",
       " 'Binacle',\n",
       " 'Barbaracle',\n",
       " 'Skrelp',\n",
       " 'Dragalge',\n",
       " 'Clauncher',\n",
       " 'Clawitzer',\n",
       " 'Helioptile',\n",
       " 'Heliolisk',\n",
       " 'Tyrunt',\n",
       " 'Tyrantrum',\n",
       " 'Amaura',\n",
       " 'Aurorus',\n",
       " 'Sylveon',\n",
       " 'Hawlucha',\n",
       " 'Dedenne',\n",
       " 'Carbink',\n",
       " 'Goomy',\n",
       " 'Sliggoo',\n",
       " 'Goodra',\n",
       " 'Klefki',\n",
       " 'Phantump',\n",
       " 'Trevenant',\n",
       " 'Pumpkaboo',\n",
       " 'Gourgeist',\n",
       " 'Bergmite',\n",
       " 'Avalugg',\n",
       " 'Noibat',\n",
       " 'Noivern',\n",
       " 'Xerneas',\n",
       " 'Yveltal',\n",
       " 'Zygarde',\n",
       " 'Diancie',\n",
       " 'Hoopa',\n",
       " 'Volcanion',\n",
       " 'Rowlet',\n",
       " 'Dartrix',\n",
       " 'Decidueye',\n",
       " 'Litten',\n",
       " 'Torracat',\n",
       " 'Incineroar',\n",
       " 'Popplio',\n",
       " 'Brionne',\n",
       " 'Primarina',\n",
       " 'Pikipek',\n",
       " 'Trumbeak',\n",
       " 'Toucannon',\n",
       " 'Yungoos',\n",
       " 'Gumshoos',\n",
       " 'Grubbin',\n",
       " 'Charjabug',\n",
       " 'Vikavolt',\n",
       " 'Crabrawler',\n",
       " 'Crabominable',\n",
       " 'Oricorio',\n",
       " 'Cutiefly',\n",
       " 'Ribombee',\n",
       " 'Rockruff',\n",
       " 'Lycanroc',\n",
       " 'Wishiwashi',\n",
       " 'Mareanie',\n",
       " 'Toxapex',\n",
       " 'Mudbray',\n",
       " 'Mudsdale',\n",
       " 'Dewpider',\n",
       " 'Araquanid',\n",
       " 'Fomantis',\n",
       " 'Lurantis',\n",
       " 'Morelull',\n",
       " 'Shiinotic',\n",
       " 'Salandit',\n",
       " 'Salazzle',\n",
       " 'Stufful',\n",
       " 'Bewear',\n",
       " 'Bounsweet',\n",
       " 'Steenee',\n",
       " 'Tsareena',\n",
       " 'Comfey',\n",
       " 'Oranguru',\n",
       " 'Passimian',\n",
       " 'Wimpod',\n",
       " 'Golisopod',\n",
       " 'Sandygast',\n",
       " 'Palossand',\n",
       " 'Pyukumuku',\n",
       " 'Type: Null',\n",
       " 'Silvally',\n",
       " 'Minior',\n",
       " 'Komala',\n",
       " 'Turtonator',\n",
       " 'Togedemaru',\n",
       " 'Mimikyu',\n",
       " 'Bruxish',\n",
       " 'Drampa',\n",
       " 'Dhelmise',\n",
       " 'Jangmo-o',\n",
       " 'Hakamo-o',\n",
       " 'Kommo-o',\n",
       " 'Tapu Koko',\n",
       " 'Tapu Lele',\n",
       " 'Tapu Bulu',\n",
       " 'Tapu Fini',\n",
       " 'Cosmog',\n",
       " 'Cosmoem',\n",
       " 'Solgaleo',\n",
       " 'Lunala',\n",
       " 'Nihilego',\n",
       " 'Buzzwole',\n",
       " 'Pheromosa',\n",
       " 'Xurkitree',\n",
       " 'Celesteela',\n",
       " 'Kartana',\n",
       " 'Guzzlord',\n",
       " 'Necrozma',\n",
       " 'Magearna',\n",
       " 'Marshadow',\n",
       " 'Poipole',\n",
       " 'Naganadel',\n",
       " 'Stakataka',\n",
       " 'Blacephalon',\n",
       " 'Zeraora',\n",
       " 'Meltan',\n",
       " 'Melmetal',\n",
       " 'Grookey',\n",
       " 'Thwackey',\n",
       " 'Rillaboom',\n",
       " 'Scorbunny',\n",
       " 'Raboot',\n",
       " 'Cinderace',\n",
       " 'Sobble',\n",
       " 'Drizzile',\n",
       " 'Inteleon',\n",
       " 'Skwovet',\n",
       " 'Greedent',\n",
       " 'Rookidee',\n",
       " 'Corvisquire',\n",
       " 'Corviknight',\n",
       " 'Blipbug',\n",
       " 'Dottler',\n",
       " 'Orbeetle',\n",
       " 'Nickit',\n",
       " 'Thievul',\n",
       " 'Gossifleur',\n",
       " 'Eldegoss',\n",
       " 'Wooloo',\n",
       " 'Dubwool',\n",
       " 'Chewtle',\n",
       " 'Drednaw',\n",
       " 'Yamper',\n",
       " 'Boltund',\n",
       " 'Rolycoly',\n",
       " 'Carkol',\n",
       " 'Coalossal',\n",
       " 'Applin',\n",
       " 'Flapple',\n",
       " 'Appletun',\n",
       " 'Silicobra',\n",
       " 'Sandaconda',\n",
       " 'Cramorant',\n",
       " 'Arrokuda',\n",
       " 'Barraskewda',\n",
       " 'Toxel',\n",
       " 'Toxtricity',\n",
       " 'Sizzlipede',\n",
       " 'Centiskorch',\n",
       " 'Clobbopus',\n",
       " 'Grapploct',\n",
       " 'Sinistea',\n",
       " 'Polteageist',\n",
       " 'Hatenna',\n",
       " 'Hattrem',\n",
       " 'Hatterene',\n",
       " 'Impidimp',\n",
       " 'Morgrem',\n",
       " 'Grimmsnarl',\n",
       " 'Obstagoon',\n",
       " 'Perrserker',\n",
       " 'Cursola',\n",
       " 'Sirfetch’d',\n",
       " 'Mr. Rime',\n",
       " 'Runerigus',\n",
       " 'Milcery',\n",
       " 'Alcremie',\n",
       " 'Falinks',\n",
       " 'Pincurchin',\n",
       " 'Snom',\n",
       " 'Frosmoth',\n",
       " 'Stonjourner',\n",
       " 'Eiscue',\n",
       " 'Indeedee',\n",
       " 'Morpeko',\n",
       " 'Cufant',\n",
       " 'Copperajah',\n",
       " 'Dracozolt',\n",
       " 'Arctozolt',\n",
       " 'Dracovish',\n",
       " 'Arctovish',\n",
       " 'Duraludon',\n",
       " 'Dreepy',\n",
       " 'Drakloak',\n",
       " 'Dragapult',\n",
       " 'Zacian',\n",
       " 'Zamazenta',\n",
       " 'Eternatus',\n",
       " 'Kubfu',\n",
       " 'Urshifu',\n",
       " 'Zarude',\n",
       " 'Regieleki',\n",
       " 'Regidrago',\n",
       " 'Glastrier',\n",
       " 'Spectrier',\n",
       " 'Calyrex',\n",
       " 'Wyrdeer',\n",
       " 'Kleavor',\n",
       " 'Ursaluna',\n",
       " 'Basculegion',\n",
       " 'Sneasler',\n",
       " 'Overqwil',\n",
       " 'Enamorus',\n",
       " 'Sprigatito',\n",
       " 'Floragato',\n",
       " 'Meowscarada',\n",
       " 'Fuecoco',\n",
       " 'Crocalor',\n",
       " 'Skeledirge',\n",
       " 'Quaxly',\n",
       " 'Quaxwell',\n",
       " 'Quaquaval',\n",
       " 'Lechonk',\n",
       " 'Oinkologne',\n",
       " 'Tarountula',\n",
       " 'Spidops',\n",
       " 'Nymble',\n",
       " 'Lokix',\n",
       " 'Pawmi',\n",
       " 'Pawmo',\n",
       " 'Pawmot',\n",
       " 'Tandemaus',\n",
       " 'Maushold',\n",
       " 'Fidough',\n",
       " 'Dachsbun',\n",
       " 'Smoliv',\n",
       " 'Dolliv',\n",
       " 'Arboliva',\n",
       " 'Squawkabilly',\n",
       " 'Nacli',\n",
       " 'Naclstack',\n",
       " 'Garganacl',\n",
       " 'Charcadet',\n",
       " 'Armarouge',\n",
       " 'Ceruledge',\n",
       " 'Tadbulb',\n",
       " 'Bellibolt',\n",
       " 'Wattrel',\n",
       " 'Kilowattrel',\n",
       " 'Maschiff',\n",
       " 'Mabosstiff',\n",
       " 'Shroodle',\n",
       " 'Grafaiai',\n",
       " 'Bramblin',\n",
       " 'Brambleghast',\n",
       " 'Toedscool',\n",
       " 'Toedscruel',\n",
       " 'Klawf',\n",
       " 'Capsakid',\n",
       " 'Scovillain',\n",
       " 'Rellor',\n",
       " 'Rabsca',\n",
       " 'Flittle',\n",
       " 'Espathra',\n",
       " 'Tinkatink',\n",
       " 'Tinkatuff',\n",
       " 'Tinkaton',\n",
       " 'Wiglett',\n",
       " 'Wugtrio',\n",
       " 'Bombirdier',\n",
       " 'Finizen',\n",
       " 'Palafin',\n",
       " 'Varoom',\n",
       " 'Revavroom',\n",
       " 'Cyclizar',\n",
       " 'Orthworm',\n",
       " 'Glimmet',\n",
       " 'Glimmora',\n",
       " 'Greavard',\n",
       " 'Houndstone',\n",
       " 'Flamigo',\n",
       " 'Cetoddle',\n",
       " 'Cetitan',\n",
       " 'Veluza',\n",
       " 'Dondozo',\n",
       " 'Tatsugiri',\n",
       " 'Annihilape',\n",
       " 'Clodsire',\n",
       " 'Farigiraf',\n",
       " 'Dudunsparce',\n",
       " 'Kingambit',\n",
       " 'Great Tusk',\n",
       " 'Scream Tail',\n",
       " 'Brute Bonnet',\n",
       " 'Flutter Mane',\n",
       " 'Slither Wing',\n",
       " 'Sandy Shocks',\n",
       " 'Iron Treads',\n",
       " 'Iron Bundle',\n",
       " 'Iron Hands',\n",
       " 'Iron Jugulis',\n",
       " 'Iron Moth',\n",
       " 'Iron Thorns',\n",
       " 'Frigibax',\n",
       " 'Arctibax',\n",
       " 'Baxcalibur',\n",
       " 'Gimmighoul',\n",
       " 'Gholdengo',\n",
       " ...]"
      ]
     },
     "execution_count": 72,
     "metadata": {},
     "output_type": "execute_result"
    }
   ],
   "execution_count": 72
  },
  {
   "metadata": {
    "ExecuteTime": {
     "end_time": "2025-05-02T11:11:28.861747Z",
     "start_time": "2025-05-02T11:11:28.847087Z"
    }
   },
   "cell_type": "code",
   "source": "sorted(pokemon)",
   "outputs": [
    {
     "data": {
      "text/plain": [
       "['Abomasnow',\n",
       " 'Abra',\n",
       " 'Absol',\n",
       " 'Accelgor',\n",
       " 'Aegislash',\n",
       " 'Aerodactyl',\n",
       " 'Aggron',\n",
       " 'Aipom',\n",
       " 'Alakazam',\n",
       " 'Alcremie',\n",
       " 'Alomomola',\n",
       " 'Altaria',\n",
       " 'Amaura',\n",
       " 'Ambipom',\n",
       " 'Amoonguss',\n",
       " 'Ampharos',\n",
       " 'Annihilape',\n",
       " 'Anorith',\n",
       " 'Appletun',\n",
       " 'Applin',\n",
       " 'Araquanid',\n",
       " 'Arbok',\n",
       " 'Arboliva',\n",
       " 'Arcanine',\n",
       " 'Arceus',\n",
       " 'Archen',\n",
       " 'Archeops',\n",
       " 'Arctibax',\n",
       " 'Arctovish',\n",
       " 'Arctozolt',\n",
       " 'Ariados',\n",
       " 'Armaldo',\n",
       " 'Armarouge',\n",
       " 'Aromatisse',\n",
       " 'Aron',\n",
       " 'Arrokuda',\n",
       " 'Articuno',\n",
       " 'Audino',\n",
       " 'Aurorus',\n",
       " 'Avalugg',\n",
       " 'Axew',\n",
       " 'Azelf',\n",
       " 'Azumarill',\n",
       " 'Azurill',\n",
       " 'Bagon',\n",
       " 'Baltoy',\n",
       " 'Banette',\n",
       " 'Barbaracle',\n",
       " 'Barboach',\n",
       " 'Barraskewda',\n",
       " 'Basculegion',\n",
       " 'Basculin',\n",
       " 'Bastiodon',\n",
       " 'Baxcalibur',\n",
       " 'Bayleef',\n",
       " 'Beartic',\n",
       " 'Beautifly',\n",
       " 'Beedrill',\n",
       " 'Beheeyem',\n",
       " 'Beldum',\n",
       " 'Bellibolt',\n",
       " 'Bellossom',\n",
       " 'Bellsprout',\n",
       " 'Bergmite',\n",
       " 'Bewear',\n",
       " 'Bibarel',\n",
       " 'Bidoof',\n",
       " 'Binacle',\n",
       " 'Bisharp',\n",
       " 'Blacephalon',\n",
       " 'Blastoise',\n",
       " 'Blaziken',\n",
       " 'Blipbug',\n",
       " 'Blissey',\n",
       " 'Blitzle',\n",
       " 'Boldore',\n",
       " 'Boltund',\n",
       " 'Bombirdier',\n",
       " 'Bonsly',\n",
       " 'Bouffalant',\n",
       " 'Bounsweet',\n",
       " 'Braixen',\n",
       " 'Brambleghast',\n",
       " 'Bramblin',\n",
       " 'Braviary',\n",
       " 'Breloom',\n",
       " 'Brionne',\n",
       " 'Bronzong',\n",
       " 'Bronzor',\n",
       " 'Brute Bonnet',\n",
       " 'Bruxish',\n",
       " 'Budew',\n",
       " 'Buizel',\n",
       " 'Bulbasaur',\n",
       " 'Buneary',\n",
       " 'Bunnelby',\n",
       " 'Burmy',\n",
       " 'Butterfree',\n",
       " 'Buzzwole',\n",
       " 'Cacnea',\n",
       " 'Cacturne',\n",
       " 'Calyrex',\n",
       " 'Camerupt',\n",
       " 'Capsakid',\n",
       " 'Carbink',\n",
       " 'Carkol',\n",
       " 'Carnivine',\n",
       " 'Carracosta',\n",
       " 'Carvanha',\n",
       " 'Cascoon',\n",
       " 'Castform',\n",
       " 'Caterpie',\n",
       " 'Celebi',\n",
       " 'Celesteela',\n",
       " 'Centiskorch',\n",
       " 'Ceruledge',\n",
       " 'Cetitan',\n",
       " 'Cetoddle',\n",
       " 'Chandelure',\n",
       " 'Chansey',\n",
       " 'Charcadet',\n",
       " 'Charizard',\n",
       " 'Charjabug',\n",
       " 'Charmander',\n",
       " 'Charmeleon',\n",
       " 'Chatot',\n",
       " 'Cherrim',\n",
       " 'Cherubi',\n",
       " 'Chesnaught',\n",
       " 'Chespin',\n",
       " 'Chewtle',\n",
       " 'Chi-Yu',\n",
       " 'Chien-Pao',\n",
       " 'Chikorita',\n",
       " 'Chimchar',\n",
       " 'Chimecho',\n",
       " 'Chinchou',\n",
       " 'Chingling',\n",
       " 'Cinccino',\n",
       " 'Cinderace',\n",
       " 'Clamperl',\n",
       " 'Clauncher',\n",
       " 'Clawitzer',\n",
       " 'Claydol',\n",
       " 'Clefable',\n",
       " 'Clefairy',\n",
       " 'Cleffa',\n",
       " 'Clobbopus',\n",
       " 'Clodsire',\n",
       " 'Cloyster',\n",
       " 'Coalossal',\n",
       " 'Cobalion',\n",
       " 'Cofagrigus',\n",
       " 'Combee',\n",
       " 'Combusken',\n",
       " 'Comfey',\n",
       " 'Conkeldurr',\n",
       " 'Copperajah',\n",
       " 'Corphish',\n",
       " 'Corsola',\n",
       " 'Corviknight',\n",
       " 'Corvisquire',\n",
       " 'Cosmoem',\n",
       " 'Cosmog',\n",
       " 'Cottonee',\n",
       " 'Crabominable',\n",
       " 'Crabrawler',\n",
       " 'Cradily',\n",
       " 'Cramorant',\n",
       " 'Cranidos',\n",
       " 'Crawdaunt',\n",
       " 'Cresselia',\n",
       " 'Croagunk',\n",
       " 'Crobat',\n",
       " 'Crocalor',\n",
       " 'Croconaw',\n",
       " 'Crustle',\n",
       " 'Cryogonal',\n",
       " 'Cubchoo',\n",
       " 'Cubone',\n",
       " 'Cufant',\n",
       " 'Cursola',\n",
       " 'Cutiefly',\n",
       " 'Cyclizar',\n",
       " 'Cyndaquil',\n",
       " 'Dachsbun',\n",
       " 'Darkrai',\n",
       " 'Darmanitan',\n",
       " 'Dartrix',\n",
       " 'Darumaka',\n",
       " 'Decidueye',\n",
       " 'Dedenne',\n",
       " 'Deerling',\n",
       " 'Deino',\n",
       " 'Delcatty',\n",
       " 'Delibird',\n",
       " 'Delphox',\n",
       " 'Deoxys',\n",
       " 'Dewgong',\n",
       " 'Dewott',\n",
       " 'Dewpider',\n",
       " 'Dhelmise',\n",
       " 'Dialga',\n",
       " 'Diancie',\n",
       " 'Diggersby',\n",
       " 'Diglett',\n",
       " 'Ditto',\n",
       " 'Dodrio',\n",
       " 'Doduo',\n",
       " 'Dolliv',\n",
       " 'Dondozo',\n",
       " 'Donphan',\n",
       " 'Dottler',\n",
       " 'Doublade',\n",
       " 'Dracovish',\n",
       " 'Dracozolt',\n",
       " 'Dragalge',\n",
       " 'Dragapult',\n",
       " 'Dragonair',\n",
       " 'Dragonite',\n",
       " 'Drakloak',\n",
       " 'Drampa',\n",
       " 'Drapion',\n",
       " 'Dratini',\n",
       " 'Drednaw',\n",
       " 'Dreepy',\n",
       " 'Drifblim',\n",
       " 'Drifloon',\n",
       " 'Drilbur',\n",
       " 'Drizzile',\n",
       " 'Drowzee',\n",
       " 'Druddigon',\n",
       " 'Dubwool',\n",
       " 'Ducklett',\n",
       " 'Dudunsparce',\n",
       " 'Dugtrio',\n",
       " 'Dunsparce',\n",
       " 'Duosion',\n",
       " 'Duraludon',\n",
       " 'Durant',\n",
       " 'Dusclops',\n",
       " 'Dusknoir',\n",
       " 'Duskull',\n",
       " 'Dustox',\n",
       " 'Dwebble',\n",
       " 'Eelektrik',\n",
       " 'Eelektross',\n",
       " 'Eevee',\n",
       " 'Eiscue',\n",
       " 'Ekans',\n",
       " 'Eldegoss',\n",
       " 'Electabuzz',\n",
       " 'Electivire',\n",
       " 'Electrike',\n",
       " 'Electrode',\n",
       " 'Elekid',\n",
       " 'Elgyem',\n",
       " 'Emboar',\n",
       " 'Emolga',\n",
       " 'Empoleon',\n",
       " 'Enamorus',\n",
       " 'Entei',\n",
       " 'Escavalier',\n",
       " 'Espathra',\n",
       " 'Espeon',\n",
       " 'Espurr',\n",
       " 'Eternatus',\n",
       " 'Excadrill',\n",
       " 'Exeggcute',\n",
       " 'Exeggutor',\n",
       " 'Exploud',\n",
       " 'Falinks',\n",
       " 'Farfetch’d',\n",
       " 'Farigiraf',\n",
       " 'Fearow',\n",
       " 'Feebas',\n",
       " 'Fennekin',\n",
       " 'Feraligatr',\n",
       " 'Ferroseed',\n",
       " 'Ferrothorn',\n",
       " 'Fidough',\n",
       " 'Finizen',\n",
       " 'Finneon',\n",
       " 'Flaaffy',\n",
       " 'Flabébé',\n",
       " 'Flamigo',\n",
       " 'Flapple',\n",
       " 'Flareon',\n",
       " 'Fletchinder',\n",
       " 'Fletchling',\n",
       " 'Flittle',\n",
       " 'Floatzel',\n",
       " 'Floette',\n",
       " 'Floragato',\n",
       " 'Florges',\n",
       " 'Flutter Mane',\n",
       " 'Flygon',\n",
       " 'Fomantis',\n",
       " 'Foongus',\n",
       " 'Forretress',\n",
       " 'Fraxure',\n",
       " 'Frigibax',\n",
       " 'Frillish',\n",
       " 'Froakie',\n",
       " 'Frogadier',\n",
       " 'Froslass',\n",
       " 'Frosmoth',\n",
       " 'Fuecoco',\n",
       " 'Furfrou',\n",
       " 'Furret',\n",
       " 'Gabite',\n",
       " 'Gallade',\n",
       " 'Galvantula',\n",
       " 'Garbodor',\n",
       " 'Garchomp',\n",
       " 'Gardevoir',\n",
       " 'Garganacl',\n",
       " 'Gastly',\n",
       " 'Gastrodon',\n",
       " 'Genesect',\n",
       " 'Gengar',\n",
       " 'Geodude',\n",
       " 'Gholdengo',\n",
       " 'Gible',\n",
       " 'Gigalith',\n",
       " 'Gimmighoul',\n",
       " 'Girafarig',\n",
       " 'Giratina',\n",
       " 'Glaceon',\n",
       " 'Glalie',\n",
       " 'Glameow',\n",
       " 'Glastrier',\n",
       " 'Gligar',\n",
       " 'Glimmet',\n",
       " 'Glimmora',\n",
       " 'Gliscor',\n",
       " 'Gloom',\n",
       " 'Gogoat',\n",
       " 'Golbat',\n",
       " 'Goldeen',\n",
       " 'Golduck',\n",
       " 'Golem',\n",
       " 'Golett',\n",
       " 'Golisopod',\n",
       " 'Golurk',\n",
       " 'Goodra',\n",
       " 'Goomy',\n",
       " 'Gorebyss',\n",
       " 'Gossifleur',\n",
       " 'Gothita',\n",
       " 'Gothitelle',\n",
       " 'Gothorita',\n",
       " 'Gourgeist',\n",
       " 'Grafaiai',\n",
       " 'Granbull',\n",
       " 'Grapploct',\n",
       " 'Graveler',\n",
       " 'Great Tusk',\n",
       " 'Greavard',\n",
       " 'Greedent',\n",
       " 'Greninja',\n",
       " 'Grimer',\n",
       " 'Grimmsnarl',\n",
       " 'Grookey',\n",
       " 'Grotle',\n",
       " 'Groudon',\n",
       " 'Grovyle',\n",
       " 'Growlithe',\n",
       " 'Grubbin',\n",
       " 'Grumpig',\n",
       " 'Gulpin',\n",
       " 'Gumshoos',\n",
       " 'Gurdurr',\n",
       " 'Guzzlord',\n",
       " 'Gyarados',\n",
       " 'Hakamo-o',\n",
       " 'Happiny',\n",
       " 'Hariyama',\n",
       " 'Hatenna',\n",
       " 'Hatterene',\n",
       " 'Hattrem',\n",
       " 'Haunter',\n",
       " 'Hawlucha',\n",
       " 'Haxorus',\n",
       " 'Heatmor',\n",
       " 'Heatran',\n",
       " 'Heliolisk',\n",
       " 'Helioptile',\n",
       " 'Heracross',\n",
       " 'Herdier',\n",
       " 'Hippopotas',\n",
       " 'Hippowdon',\n",
       " 'Hitmonchan',\n",
       " 'Hitmonlee',\n",
       " 'Hitmontop',\n",
       " 'Ho-Oh',\n",
       " 'Honchkrow',\n",
       " 'Honedge',\n",
       " 'Hoopa',\n",
       " 'Hoothoot',\n",
       " 'Hoppip',\n",
       " 'Horsea',\n",
       " 'Houndoom',\n",
       " 'Houndour',\n",
       " 'Houndstone',\n",
       " 'Huntail',\n",
       " 'Hydreigon',\n",
       " 'Hypno',\n",
       " 'Igglybuff',\n",
       " 'Illumise',\n",
       " 'Impidimp',\n",
       " 'Incineroar',\n",
       " 'Indeedee',\n",
       " 'Infernape',\n",
       " 'Inkay',\n",
       " 'Inteleon',\n",
       " 'Iron Bundle',\n",
       " 'Iron Hands',\n",
       " 'Iron Jugulis',\n",
       " 'Iron Leaves',\n",
       " 'Iron Moth',\n",
       " 'Iron Thorns',\n",
       " 'Iron Treads',\n",
       " 'Iron Valiant',\n",
       " 'Ivysaur',\n",
       " 'Jangmo-o',\n",
       " 'Jellicent',\n",
       " 'Jigglypuff',\n",
       " 'Jirachi',\n",
       " 'Jolteon',\n",
       " 'Joltik',\n",
       " 'Jumpluff',\n",
       " 'Jynx',\n",
       " 'Kabuto',\n",
       " 'Kabutops',\n",
       " 'Kadabra',\n",
       " 'Kakuna',\n",
       " 'Kangaskhan',\n",
       " 'Karrablast',\n",
       " 'Kartana',\n",
       " 'Kecleon',\n",
       " 'Keldeo',\n",
       " 'Kilowattrel',\n",
       " 'Kingambit',\n",
       " 'Kingdra',\n",
       " 'Kingler',\n",
       " 'Kirlia',\n",
       " 'Klang',\n",
       " 'Klawf',\n",
       " 'Kleavor',\n",
       " 'Klefki',\n",
       " 'Klink',\n",
       " 'Klinklang',\n",
       " 'Koffing',\n",
       " 'Komala',\n",
       " 'Kommo-o',\n",
       " 'Koraidon',\n",
       " 'Krabby',\n",
       " 'Kricketot',\n",
       " 'Kricketune',\n",
       " 'Krokorok',\n",
       " 'Krookodile',\n",
       " 'Kubfu',\n",
       " 'Kyogre',\n",
       " 'Kyurem',\n",
       " 'Lairon',\n",
       " 'Lampent',\n",
       " 'Landorus',\n",
       " 'Lanturn',\n",
       " 'Lapras',\n",
       " 'Larvesta',\n",
       " 'Larvitar',\n",
       " 'Latias',\n",
       " 'Latios',\n",
       " 'Leafeon',\n",
       " 'Leavanny',\n",
       " 'Lechonk',\n",
       " 'Ledian',\n",
       " 'Ledyba',\n",
       " 'Lickilicky',\n",
       " 'Lickitung',\n",
       " 'Liepard',\n",
       " 'Lileep',\n",
       " 'Lilligant',\n",
       " 'Lillipup',\n",
       " 'Linoone',\n",
       " 'Litleo',\n",
       " 'Litten',\n",
       " 'Litwick',\n",
       " 'Lokix',\n",
       " 'Lombre',\n",
       " 'Lopunny',\n",
       " 'Lotad',\n",
       " 'Loudred',\n",
       " 'Lucario',\n",
       " 'Ludicolo',\n",
       " 'Lugia',\n",
       " 'Lumineon',\n",
       " 'Lunala',\n",
       " 'Lunatone',\n",
       " 'Lurantis',\n",
       " 'Luvdisc',\n",
       " 'Luxio',\n",
       " 'Luxray',\n",
       " 'Lycanroc',\n",
       " 'Mabosstiff',\n",
       " 'Machamp',\n",
       " 'Machoke',\n",
       " 'Machop',\n",
       " 'Magby',\n",
       " 'Magcargo',\n",
       " 'Magearna',\n",
       " 'Magikarp',\n",
       " 'Magmar',\n",
       " 'Magmortar',\n",
       " 'Magnemite',\n",
       " 'Magneton',\n",
       " 'Magnezone',\n",
       " 'Makuhita',\n",
       " 'Malamar',\n",
       " 'Mamoswine',\n",
       " 'Manaphy',\n",
       " 'Mandibuzz',\n",
       " 'Manectric',\n",
       " 'Mankey',\n",
       " 'Mantine',\n",
       " 'Mantyke',\n",
       " 'Maractus',\n",
       " 'Mareanie',\n",
       " 'Mareep',\n",
       " 'Marill',\n",
       " 'Marowak',\n",
       " 'Marshadow',\n",
       " 'Marshtomp',\n",
       " 'Maschiff',\n",
       " 'Masquerain',\n",
       " 'Maushold',\n",
       " 'Mawile',\n",
       " 'Medicham',\n",
       " 'Meditite',\n",
       " 'Meganium',\n",
       " 'Melmetal',\n",
       " 'Meloetta',\n",
       " 'Meltan',\n",
       " 'Meowscarada',\n",
       " 'Meowstic',\n",
       " 'Meowth',\n",
       " 'Mesprit',\n",
       " 'Metagross',\n",
       " 'Metang',\n",
       " 'Metapod',\n",
       " 'Mew',\n",
       " 'Mewtwo',\n",
       " 'Mienfoo',\n",
       " 'Mienshao',\n",
       " 'Mightyena',\n",
       " 'Milcery',\n",
       " 'Milotic',\n",
       " 'Miltank',\n",
       " 'Mime Jr.',\n",
       " 'Mimikyu',\n",
       " 'Minccino',\n",
       " 'Minior',\n",
       " 'Minun',\n",
       " 'Miraidon',\n",
       " 'Misdreavus',\n",
       " 'Mismagius',\n",
       " 'Moltres',\n",
       " 'Monferno',\n",
       " 'Morelull',\n",
       " 'Morgrem',\n",
       " 'Morpeko',\n",
       " 'Mothim',\n",
       " 'Mr. Mime',\n",
       " 'Mr. Rime',\n",
       " 'Mudbray',\n",
       " 'Mudkip',\n",
       " 'Mudsdale',\n",
       " 'Muk',\n",
       " 'Munchlax',\n",
       " 'Munna',\n",
       " 'Murkrow',\n",
       " 'Musharna',\n",
       " 'Nacli',\n",
       " 'Naclstack',\n",
       " 'Naganadel',\n",
       " 'Natu',\n",
       " 'Necrozma',\n",
       " 'Nickit',\n",
       " 'Nidoking',\n",
       " 'Nidoqueen',\n",
       " 'Nidoran♀',\n",
       " 'Nidoran♂',\n",
       " 'Nidorina',\n",
       " 'Nidorino',\n",
       " 'Nihilego',\n",
       " 'Nincada',\n",
       " 'Ninetales',\n",
       " 'Ninjask',\n",
       " 'Noctowl',\n",
       " 'Noibat',\n",
       " 'Noivern',\n",
       " 'Nosepass',\n",
       " 'Numel',\n",
       " 'Nuzleaf',\n",
       " 'Nymble',\n",
       " 'Obstagoon',\n",
       " 'Octillery',\n",
       " 'Oddish',\n",
       " 'Oinkologne',\n",
       " 'Omanyte',\n",
       " 'Omastar',\n",
       " 'Onix',\n",
       " 'Oranguru',\n",
       " 'Orbeetle',\n",
       " 'Oricorio',\n",
       " 'Orthworm',\n",
       " 'Oshawott',\n",
       " 'Overqwil',\n",
       " 'Pachirisu',\n",
       " 'Palafin',\n",
       " 'Palkia',\n",
       " 'Palossand',\n",
       " 'Palpitoad',\n",
       " 'Pancham',\n",
       " 'Pangoro',\n",
       " 'Panpour',\n",
       " 'Pansage',\n",
       " 'Pansear',\n",
       " 'Paras',\n",
       " 'Parasect',\n",
       " 'Passimian',\n",
       " 'Patrat',\n",
       " 'Pawmi',\n",
       " 'Pawmo',\n",
       " 'Pawmot',\n",
       " 'Pawniard',\n",
       " 'Pelipper',\n",
       " 'Perrserker',\n",
       " 'Persian',\n",
       " 'Petilil',\n",
       " 'Phanpy',\n",
       " 'Phantump',\n",
       " 'Pheromosa',\n",
       " 'Phione',\n",
       " 'Pichu',\n",
       " 'Pidgeot',\n",
       " 'Pidgeotto',\n",
       " 'Pidgey',\n",
       " 'Pidove',\n",
       " 'Pignite',\n",
       " 'Pikachu',\n",
       " 'Pikipek',\n",
       " 'Piloswine',\n",
       " 'Pincurchin',\n",
       " 'Pineco',\n",
       " 'Pinsir',\n",
       " 'Piplup',\n",
       " 'Plusle',\n",
       " 'Poipole',\n",
       " 'Politoed',\n",
       " 'Poliwag',\n",
       " 'Poliwhirl',\n",
       " 'Poliwrath',\n",
       " 'Polteageist',\n",
       " 'Ponyta',\n",
       " 'Poochyena',\n",
       " 'Popplio',\n",
       " 'Porygon',\n",
       " 'Porygon-Z',\n",
       " 'Porygon2',\n",
       " 'Primarina',\n",
       " 'Primeape',\n",
       " 'Prinplup',\n",
       " 'Probopass',\n",
       " 'Psyduck',\n",
       " 'Pumpkaboo',\n",
       " 'Pupitar',\n",
       " 'Purrloin',\n",
       " 'Purugly',\n",
       " 'Pyroar',\n",
       " 'Pyukumuku',\n",
       " 'Quagsire',\n",
       " 'Quaquaval',\n",
       " 'Quaxly',\n",
       " 'Quaxwell',\n",
       " 'Quilava',\n",
       " 'Quilladin',\n",
       " 'Qwilfish',\n",
       " 'Raboot',\n",
       " 'Rabsca',\n",
       " 'Raichu',\n",
       " 'Raikou',\n",
       " 'Ralts',\n",
       " 'Rampardos',\n",
       " 'Rapidash',\n",
       " 'Raticate',\n",
       " 'Rattata',\n",
       " 'Rayquaza',\n",
       " 'Regice',\n",
       " 'Regidrago',\n",
       " 'Regieleki',\n",
       " 'Regigigas',\n",
       " 'Regirock',\n",
       " 'Registeel',\n",
       " 'Relicanth',\n",
       " 'Rellor',\n",
       " 'Remoraid',\n",
       " 'Reshiram',\n",
       " 'Reuniclus',\n",
       " 'Revavroom',\n",
       " 'Rhydon',\n",
       " 'Rhyhorn',\n",
       " 'Rhyperior',\n",
       " 'Ribombee',\n",
       " 'Rillaboom',\n",
       " 'Riolu',\n",
       " 'Roaring Moon',\n",
       " 'Rockruff',\n",
       " 'Roggenrola',\n",
       " 'Rolycoly',\n",
       " 'Rookidee',\n",
       " 'Roselia',\n",
       " 'Roserade',\n",
       " 'Rotom',\n",
       " 'Rowlet',\n",
       " 'Rufflet',\n",
       " 'Runerigus',\n",
       " 'Sableye',\n",
       " 'Salamence',\n",
       " 'Salandit',\n",
       " 'Salazzle',\n",
       " 'Samurott',\n",
       " 'Sandaconda',\n",
       " 'Sandile',\n",
       " 'Sandshrew',\n",
       " 'Sandslash',\n",
       " 'Sandy Shocks',\n",
       " 'Sandygast',\n",
       " 'Sawk',\n",
       " 'Sawsbuck',\n",
       " 'Scatterbug',\n",
       " 'Sceptile',\n",
       " 'Scizor',\n",
       " 'Scolipede',\n",
       " 'Scorbunny',\n",
       " 'Scovillain',\n",
       " 'Scrafty',\n",
       " 'Scraggy',\n",
       " 'Scream Tail',\n",
       " 'Scyther',\n",
       " 'Seadra',\n",
       " 'Seaking',\n",
       " 'Sealeo',\n",
       " 'Seedot',\n",
       " 'Seel',\n",
       " 'Seismitoad',\n",
       " 'Sentret',\n",
       " 'Serperior',\n",
       " 'Servine',\n",
       " 'Seviper',\n",
       " 'Sewaddle',\n",
       " 'Sharpedo',\n",
       " 'Shaymin',\n",
       " 'Shedinja',\n",
       " 'Shelgon',\n",
       " 'Shellder',\n",
       " 'Shellos',\n",
       " 'Shelmet',\n",
       " 'Shieldon',\n",
       " 'Shiftry',\n",
       " 'Shiinotic',\n",
       " 'Shinx',\n",
       " 'Shroodle',\n",
       " 'Shroomish',\n",
       " 'Shuckle',\n",
       " 'Shuppet',\n",
       " 'Sigilyph',\n",
       " 'Silcoon',\n",
       " 'Silicobra',\n",
       " 'Silvally',\n",
       " 'Simipour',\n",
       " 'Simisage',\n",
       " 'Simisear',\n",
       " 'Sinistea',\n",
       " 'Sirfetch’d',\n",
       " 'Sizzlipede',\n",
       " 'Skarmory',\n",
       " 'Skeledirge',\n",
       " 'Skiddo',\n",
       " 'Skiploom',\n",
       " 'Skitty',\n",
       " 'Skorupi',\n",
       " 'Skrelp',\n",
       " 'Skuntank',\n",
       " 'Skwovet',\n",
       " 'Slaking',\n",
       " 'Slakoth',\n",
       " 'Sliggoo',\n",
       " 'Slither Wing',\n",
       " 'Slowbro',\n",
       " 'Slowking',\n",
       " 'Slowpoke',\n",
       " 'Slugma',\n",
       " 'Slurpuff',\n",
       " 'Smeargle',\n",
       " 'Smoliv',\n",
       " 'Smoochum',\n",
       " 'Sneasel',\n",
       " 'Sneasler',\n",
       " 'Snivy',\n",
       " 'Snom',\n",
       " 'Snorlax',\n",
       " 'Snorunt',\n",
       " 'Snover',\n",
       " 'Snubbull',\n",
       " 'Sobble',\n",
       " 'Solgaleo',\n",
       " 'Solosis',\n",
       " 'Solrock',\n",
       " 'Spearow',\n",
       " 'Spectrier',\n",
       " 'Spewpa',\n",
       " 'Spheal',\n",
       " 'Spidops',\n",
       " 'Spinarak',\n",
       " 'Spinda',\n",
       " 'Spiritomb',\n",
       " 'Spoink',\n",
       " 'Sprigatito',\n",
       " 'Spritzee',\n",
       " 'Squawkabilly',\n",
       " 'Squirtle',\n",
       " 'Stakataka',\n",
       " 'Stantler',\n",
       " 'Staraptor',\n",
       " 'Staravia',\n",
       " 'Starly',\n",
       " 'Starmie',\n",
       " 'Staryu',\n",
       " 'Steelix',\n",
       " 'Steenee',\n",
       " 'Stonjourner',\n",
       " 'Stoutland',\n",
       " 'Stufful',\n",
       " 'Stunfisk',\n",
       " 'Stunky',\n",
       " 'Sudowoodo',\n",
       " 'Suicune',\n",
       " 'Sunflora',\n",
       " 'Sunkern',\n",
       " 'Surskit',\n",
       " 'Swablu',\n",
       " 'Swadloon',\n",
       " 'Swalot',\n",
       " 'Swampert',\n",
       " 'Swanna',\n",
       " 'Swellow',\n",
       " 'Swinub',\n",
       " 'Swirlix',\n",
       " 'Swoobat',\n",
       " 'Sylveon',\n",
       " 'Tadbulb',\n",
       " 'Taillow',\n",
       " 'Talonflame',\n",
       " 'Tandemaus',\n",
       " 'Tangela',\n",
       " 'Tangrowth',\n",
       " 'Tapu Bulu',\n",
       " 'Tapu Fini',\n",
       " 'Tapu Koko',\n",
       " 'Tapu Lele',\n",
       " 'Tarountula',\n",
       " 'Tatsugiri',\n",
       " 'Tauros',\n",
       " 'Teddiursa',\n",
       " 'Tentacool',\n",
       " 'Tentacruel',\n",
       " 'Tepig',\n",
       " 'Terrakion',\n",
       " 'Thievul',\n",
       " 'Throh',\n",
       " 'Thundurus',\n",
       " 'Thwackey',\n",
       " 'Timburr',\n",
       " 'Ting-Lu',\n",
       " 'Tinkatink',\n",
       " 'Tinkaton',\n",
       " 'Tinkatuff',\n",
       " 'Tirtouga',\n",
       " 'Toedscool',\n",
       " 'Toedscruel',\n",
       " 'Togedemaru',\n",
       " 'Togekiss',\n",
       " 'Togepi',\n",
       " 'Togetic',\n",
       " 'Torchic',\n",
       " 'Torkoal',\n",
       " 'Tornadus',\n",
       " 'Torracat',\n",
       " 'Torterra',\n",
       " 'Totodile',\n",
       " 'Toucannon',\n",
       " 'Toxapex',\n",
       " 'Toxel',\n",
       " 'Toxicroak',\n",
       " 'Toxtricity',\n",
       " 'Tranquill',\n",
       " 'Trapinch',\n",
       " 'Treecko',\n",
       " 'Trevenant',\n",
       " 'Tropius',\n",
       " 'Trubbish',\n",
       " 'Trumbeak',\n",
       " 'Tsareena',\n",
       " 'Turtonator',\n",
       " 'Turtwig',\n",
       " 'Tympole',\n",
       " 'Tynamo',\n",
       " 'Type: Null',\n",
       " 'Typhlosion',\n",
       " 'Tyranitar',\n",
       " 'Tyrantrum',\n",
       " 'Tyrogue',\n",
       " 'Tyrunt',\n",
       " 'Umbreon',\n",
       " 'Unfezant',\n",
       " 'Unown',\n",
       " 'Ursaluna',\n",
       " 'Ursaring',\n",
       " 'Urshifu',\n",
       " 'Uxie',\n",
       " 'Vanillish',\n",
       " 'Vanillite',\n",
       " 'Vanilluxe',\n",
       " 'Vaporeon',\n",
       " 'Varoom',\n",
       " 'Veluza',\n",
       " 'Venipede',\n",
       " 'Venomoth',\n",
       " 'Venonat',\n",
       " 'Venusaur',\n",
       " 'Vespiquen',\n",
       " 'Vibrava',\n",
       " 'Victini',\n",
       " 'Victreebel',\n",
       " 'Vigoroth',\n",
       " 'Vikavolt',\n",
       " 'Vileplume',\n",
       " 'Virizion',\n",
       " 'Vivillon',\n",
       " 'Volbeat',\n",
       " 'Volcanion',\n",
       " 'Volcarona',\n",
       " 'Voltorb',\n",
       " 'Vullaby',\n",
       " 'Vulpix',\n",
       " 'Wailmer',\n",
       " 'Wailord',\n",
       " 'Walking Wake',\n",
       " 'Walrein',\n",
       " 'Wartortle',\n",
       " 'Watchog',\n",
       " 'Wattrel',\n",
       " 'Weavile',\n",
       " 'Weedle',\n",
       " 'Weepinbell',\n",
       " 'Weezing',\n",
       " 'Whimsicott',\n",
       " 'Whirlipede',\n",
       " 'Whiscash',\n",
       " 'Whismur',\n",
       " 'Wigglytuff',\n",
       " 'Wiglett',\n",
       " 'Wimpod',\n",
       " 'Wingull',\n",
       " 'Wishiwashi',\n",
       " 'Wo-Chien',\n",
       " 'Wobbuffet',\n",
       " 'Woobat',\n",
       " 'Wooloo',\n",
       " 'Wooper',\n",
       " 'Wormadam',\n",
       " 'Wugtrio',\n",
       " 'Wurmple',\n",
       " 'Wynaut',\n",
       " 'Wyrdeer',\n",
       " 'Xatu',\n",
       " 'Xerneas',\n",
       " 'Xurkitree',\n",
       " 'Yamask',\n",
       " 'Yamper',\n",
       " 'Yanma',\n",
       " 'Yanmega',\n",
       " 'Yungoos',\n",
       " 'Yveltal',\n",
       " 'Zacian',\n",
       " 'Zamazenta',\n",
       " 'Zangoose',\n",
       " 'Zapdos',\n",
       " ...]"
      ]
     },
     "execution_count": 73,
     "metadata": {},
     "output_type": "execute_result"
    }
   ],
   "execution_count": 73
  },
  {
   "metadata": {
    "ExecuteTime": {
     "end_time": "2025-05-02T11:12:06.450003Z",
     "start_time": "2025-05-02T11:12:06.443162Z"
    }
   },
   "cell_type": "code",
   "source": "type(sorted(pokemon))",
   "outputs": [
    {
     "data": {
      "text/plain": [
       "list"
      ]
     },
     "execution_count": 74,
     "metadata": {},
     "output_type": "execute_result"
    }
   ],
   "execution_count": 74
  },
  {
   "metadata": {
    "ExecuteTime": {
     "end_time": "2025-05-02T11:12:54.415854Z",
     "start_time": "2025-05-02T11:12:54.391764Z"
    }
   },
   "cell_type": "code",
   "source": "dict(pokemon)",
   "outputs": [
    {
     "data": {
      "text/plain": [
       "{0: 'Bulbasaur',\n",
       " 1: 'Ivysaur',\n",
       " 2: 'Venusaur',\n",
       " 3: 'Charmander',\n",
       " 4: 'Charmeleon',\n",
       " 5: 'Charizard',\n",
       " 6: 'Squirtle',\n",
       " 7: 'Wartortle',\n",
       " 8: 'Blastoise',\n",
       " 9: 'Caterpie',\n",
       " 10: 'Metapod',\n",
       " 11: 'Butterfree',\n",
       " 12: 'Weedle',\n",
       " 13: 'Kakuna',\n",
       " 14: 'Beedrill',\n",
       " 15: 'Pidgey',\n",
       " 16: 'Pidgeotto',\n",
       " 17: 'Pidgeot',\n",
       " 18: 'Rattata',\n",
       " 19: 'Raticate',\n",
       " 20: 'Spearow',\n",
       " 21: 'Fearow',\n",
       " 22: 'Ekans',\n",
       " 23: 'Arbok',\n",
       " 24: 'Pikachu',\n",
       " 25: 'Raichu',\n",
       " 26: 'Sandshrew',\n",
       " 27: 'Sandslash',\n",
       " 28: 'Nidoran♀',\n",
       " 29: 'Nidorina',\n",
       " 30: 'Nidoqueen',\n",
       " 31: 'Nidoran♂',\n",
       " 32: 'Nidorino',\n",
       " 33: 'Nidoking',\n",
       " 34: 'Clefairy',\n",
       " 35: 'Clefable',\n",
       " 36: 'Vulpix',\n",
       " 37: 'Ninetales',\n",
       " 38: 'Jigglypuff',\n",
       " 39: 'Wigglytuff',\n",
       " 40: 'Zubat',\n",
       " 41: 'Golbat',\n",
       " 42: 'Oddish',\n",
       " 43: 'Gloom',\n",
       " 44: 'Vileplume',\n",
       " 45: 'Paras',\n",
       " 46: 'Parasect',\n",
       " 47: 'Venonat',\n",
       " 48: 'Venomoth',\n",
       " 49: 'Diglett',\n",
       " 50: 'Dugtrio',\n",
       " 51: 'Meowth',\n",
       " 52: 'Persian',\n",
       " 53: 'Psyduck',\n",
       " 54: 'Golduck',\n",
       " 55: 'Mankey',\n",
       " 56: 'Primeape',\n",
       " 57: 'Growlithe',\n",
       " 58: 'Arcanine',\n",
       " 59: 'Poliwag',\n",
       " 60: 'Poliwhirl',\n",
       " 61: 'Poliwrath',\n",
       " 62: 'Abra',\n",
       " 63: 'Kadabra',\n",
       " 64: 'Alakazam',\n",
       " 65: 'Machop',\n",
       " 66: 'Machoke',\n",
       " 67: 'Machamp',\n",
       " 68: 'Bellsprout',\n",
       " 69: 'Weepinbell',\n",
       " 70: 'Victreebel',\n",
       " 71: 'Tentacool',\n",
       " 72: 'Tentacruel',\n",
       " 73: 'Geodude',\n",
       " 74: 'Graveler',\n",
       " 75: 'Golem',\n",
       " 76: 'Ponyta',\n",
       " 77: 'Rapidash',\n",
       " 78: 'Slowpoke',\n",
       " 79: 'Slowbro',\n",
       " 80: 'Magnemite',\n",
       " 81: 'Magneton',\n",
       " 82: 'Farfetch’d',\n",
       " 83: 'Doduo',\n",
       " 84: 'Dodrio',\n",
       " 85: 'Seel',\n",
       " 86: 'Dewgong',\n",
       " 87: 'Grimer',\n",
       " 88: 'Muk',\n",
       " 89: 'Shellder',\n",
       " 90: 'Cloyster',\n",
       " 91: 'Gastly',\n",
       " 92: 'Haunter',\n",
       " 93: 'Gengar',\n",
       " 94: 'Onix',\n",
       " 95: 'Drowzee',\n",
       " 96: 'Hypno',\n",
       " 97: 'Krabby',\n",
       " 98: 'Kingler',\n",
       " 99: 'Voltorb',\n",
       " 100: 'Electrode',\n",
       " 101: 'Exeggcute',\n",
       " 102: 'Exeggutor',\n",
       " 103: 'Cubone',\n",
       " 104: 'Marowak',\n",
       " 105: 'Hitmonlee',\n",
       " 106: 'Hitmonchan',\n",
       " 107: 'Lickitung',\n",
       " 108: 'Koffing',\n",
       " 109: 'Weezing',\n",
       " 110: 'Rhyhorn',\n",
       " 111: 'Rhydon',\n",
       " 112: 'Chansey',\n",
       " 113: 'Tangela',\n",
       " 114: 'Kangaskhan',\n",
       " 115: 'Horsea',\n",
       " 116: 'Seadra',\n",
       " 117: 'Goldeen',\n",
       " 118: 'Seaking',\n",
       " 119: 'Staryu',\n",
       " 120: 'Starmie',\n",
       " 121: 'Mr. Mime',\n",
       " 122: 'Scyther',\n",
       " 123: 'Jynx',\n",
       " 124: 'Electabuzz',\n",
       " 125: 'Magmar',\n",
       " 126: 'Pinsir',\n",
       " 127: 'Tauros',\n",
       " 128: 'Magikarp',\n",
       " 129: 'Gyarados',\n",
       " 130: 'Lapras',\n",
       " 131: 'Ditto',\n",
       " 132: 'Eevee',\n",
       " 133: 'Vaporeon',\n",
       " 134: 'Jolteon',\n",
       " 135: 'Flareon',\n",
       " 136: 'Porygon',\n",
       " 137: 'Omanyte',\n",
       " 138: 'Omastar',\n",
       " 139: 'Kabuto',\n",
       " 140: 'Kabutops',\n",
       " 141: 'Aerodactyl',\n",
       " 142: 'Snorlax',\n",
       " 143: 'Articuno',\n",
       " 144: 'Zapdos',\n",
       " 145: 'Moltres',\n",
       " 146: 'Dratini',\n",
       " 147: 'Dragonair',\n",
       " 148: 'Dragonite',\n",
       " 149: 'Mewtwo',\n",
       " 150: 'Mew',\n",
       " 151: 'Chikorita',\n",
       " 152: 'Bayleef',\n",
       " 153: 'Meganium',\n",
       " 154: 'Cyndaquil',\n",
       " 155: 'Quilava',\n",
       " 156: 'Typhlosion',\n",
       " 157: 'Totodile',\n",
       " 158: 'Croconaw',\n",
       " 159: 'Feraligatr',\n",
       " 160: 'Sentret',\n",
       " 161: 'Furret',\n",
       " 162: 'Hoothoot',\n",
       " 163: 'Noctowl',\n",
       " 164: 'Ledyba',\n",
       " 165: 'Ledian',\n",
       " 166: 'Spinarak',\n",
       " 167: 'Ariados',\n",
       " 168: 'Crobat',\n",
       " 169: 'Chinchou',\n",
       " 170: 'Lanturn',\n",
       " 171: 'Pichu',\n",
       " 172: 'Cleffa',\n",
       " 173: 'Igglybuff',\n",
       " 174: 'Togepi',\n",
       " 175: 'Togetic',\n",
       " 176: 'Natu',\n",
       " 177: 'Xatu',\n",
       " 178: 'Mareep',\n",
       " 179: 'Flaaffy',\n",
       " 180: 'Ampharos',\n",
       " 181: 'Bellossom',\n",
       " 182: 'Marill',\n",
       " 183: 'Azumarill',\n",
       " 184: 'Sudowoodo',\n",
       " 185: 'Politoed',\n",
       " 186: 'Hoppip',\n",
       " 187: 'Skiploom',\n",
       " 188: 'Jumpluff',\n",
       " 189: 'Aipom',\n",
       " 190: 'Sunkern',\n",
       " 191: 'Sunflora',\n",
       " 192: 'Yanma',\n",
       " 193: 'Wooper',\n",
       " 194: 'Quagsire',\n",
       " 195: 'Espeon',\n",
       " 196: 'Umbreon',\n",
       " 197: 'Murkrow',\n",
       " 198: 'Slowking',\n",
       " 199: 'Misdreavus',\n",
       " 200: 'Unown',\n",
       " 201: 'Wobbuffet',\n",
       " 202: 'Girafarig',\n",
       " 203: 'Pineco',\n",
       " 204: 'Forretress',\n",
       " 205: 'Dunsparce',\n",
       " 206: 'Gligar',\n",
       " 207: 'Steelix',\n",
       " 208: 'Snubbull',\n",
       " 209: 'Granbull',\n",
       " 210: 'Qwilfish',\n",
       " 211: 'Scizor',\n",
       " 212: 'Shuckle',\n",
       " 213: 'Heracross',\n",
       " 214: 'Sneasel',\n",
       " 215: 'Teddiursa',\n",
       " 216: 'Ursaring',\n",
       " 217: 'Slugma',\n",
       " 218: 'Magcargo',\n",
       " 219: 'Swinub',\n",
       " 220: 'Piloswine',\n",
       " 221: 'Corsola',\n",
       " 222: 'Remoraid',\n",
       " 223: 'Octillery',\n",
       " 224: 'Delibird',\n",
       " 225: 'Mantine',\n",
       " 226: 'Skarmory',\n",
       " 227: 'Houndour',\n",
       " 228: 'Houndoom',\n",
       " 229: 'Kingdra',\n",
       " 230: 'Phanpy',\n",
       " 231: 'Donphan',\n",
       " 232: 'Porygon2',\n",
       " 233: 'Stantler',\n",
       " 234: 'Smeargle',\n",
       " 235: 'Tyrogue',\n",
       " 236: 'Hitmontop',\n",
       " 237: 'Smoochum',\n",
       " 238: 'Elekid',\n",
       " 239: 'Magby',\n",
       " 240: 'Miltank',\n",
       " 241: 'Blissey',\n",
       " 242: 'Raikou',\n",
       " 243: 'Entei',\n",
       " 244: 'Suicune',\n",
       " 245: 'Larvitar',\n",
       " 246: 'Pupitar',\n",
       " 247: 'Tyranitar',\n",
       " 248: 'Lugia',\n",
       " 249: 'Ho-Oh',\n",
       " 250: 'Celebi',\n",
       " 251: 'Treecko',\n",
       " 252: 'Grovyle',\n",
       " 253: 'Sceptile',\n",
       " 254: 'Torchic',\n",
       " 255: 'Combusken',\n",
       " 256: 'Blaziken',\n",
       " 257: 'Mudkip',\n",
       " 258: 'Marshtomp',\n",
       " 259: 'Swampert',\n",
       " 260: 'Poochyena',\n",
       " 261: 'Mightyena',\n",
       " 262: 'Zigzagoon',\n",
       " 263: 'Linoone',\n",
       " 264: 'Wurmple',\n",
       " 265: 'Silcoon',\n",
       " 266: 'Beautifly',\n",
       " 267: 'Cascoon',\n",
       " 268: 'Dustox',\n",
       " 269: 'Lotad',\n",
       " 270: 'Lombre',\n",
       " 271: 'Ludicolo',\n",
       " 272: 'Seedot',\n",
       " 273: 'Nuzleaf',\n",
       " 274: 'Shiftry',\n",
       " 275: 'Taillow',\n",
       " 276: 'Swellow',\n",
       " 277: 'Wingull',\n",
       " 278: 'Pelipper',\n",
       " 279: 'Ralts',\n",
       " 280: 'Kirlia',\n",
       " 281: 'Gardevoir',\n",
       " 282: 'Surskit',\n",
       " 283: 'Masquerain',\n",
       " 284: 'Shroomish',\n",
       " 285: 'Breloom',\n",
       " 286: 'Slakoth',\n",
       " 287: 'Vigoroth',\n",
       " 288: 'Slaking',\n",
       " 289: 'Nincada',\n",
       " 290: 'Ninjask',\n",
       " 291: 'Shedinja',\n",
       " 292: 'Whismur',\n",
       " 293: 'Loudred',\n",
       " 294: 'Exploud',\n",
       " 295: 'Makuhita',\n",
       " 296: 'Hariyama',\n",
       " 297: 'Azurill',\n",
       " 298: 'Nosepass',\n",
       " 299: 'Skitty',\n",
       " 300: 'Delcatty',\n",
       " 301: 'Sableye',\n",
       " 302: 'Mawile',\n",
       " 303: 'Aron',\n",
       " 304: 'Lairon',\n",
       " 305: 'Aggron',\n",
       " 306: 'Meditite',\n",
       " 307: 'Medicham',\n",
       " 308: 'Electrike',\n",
       " 309: 'Manectric',\n",
       " 310: 'Plusle',\n",
       " 311: 'Minun',\n",
       " 312: 'Volbeat',\n",
       " 313: 'Illumise',\n",
       " 314: 'Roselia',\n",
       " 315: 'Gulpin',\n",
       " 316: 'Swalot',\n",
       " 317: 'Carvanha',\n",
       " 318: 'Sharpedo',\n",
       " 319: 'Wailmer',\n",
       " 320: 'Wailord',\n",
       " 321: 'Numel',\n",
       " 322: 'Camerupt',\n",
       " 323: 'Torkoal',\n",
       " 324: 'Spoink',\n",
       " 325: 'Grumpig',\n",
       " 326: 'Spinda',\n",
       " 327: 'Trapinch',\n",
       " 328: 'Vibrava',\n",
       " 329: 'Flygon',\n",
       " 330: 'Cacnea',\n",
       " 331: 'Cacturne',\n",
       " 332: 'Swablu',\n",
       " 333: 'Altaria',\n",
       " 334: 'Zangoose',\n",
       " 335: 'Seviper',\n",
       " 336: 'Lunatone',\n",
       " 337: 'Solrock',\n",
       " 338: 'Barboach',\n",
       " 339: 'Whiscash',\n",
       " 340: 'Corphish',\n",
       " 341: 'Crawdaunt',\n",
       " 342: 'Baltoy',\n",
       " 343: 'Claydol',\n",
       " 344: 'Lileep',\n",
       " 345: 'Cradily',\n",
       " 346: 'Anorith',\n",
       " 347: 'Armaldo',\n",
       " 348: 'Feebas',\n",
       " 349: 'Milotic',\n",
       " 350: 'Castform',\n",
       " 351: 'Kecleon',\n",
       " 352: 'Shuppet',\n",
       " 353: 'Banette',\n",
       " 354: 'Duskull',\n",
       " 355: 'Dusclops',\n",
       " 356: 'Tropius',\n",
       " 357: 'Chimecho',\n",
       " 358: 'Absol',\n",
       " 359: 'Wynaut',\n",
       " 360: 'Snorunt',\n",
       " 361: 'Glalie',\n",
       " 362: 'Spheal',\n",
       " 363: 'Sealeo',\n",
       " 364: 'Walrein',\n",
       " 365: 'Clamperl',\n",
       " 366: 'Huntail',\n",
       " 367: 'Gorebyss',\n",
       " 368: 'Relicanth',\n",
       " 369: 'Luvdisc',\n",
       " 370: 'Bagon',\n",
       " 371: 'Shelgon',\n",
       " 372: 'Salamence',\n",
       " 373: 'Beldum',\n",
       " 374: 'Metang',\n",
       " 375: 'Metagross',\n",
       " 376: 'Regirock',\n",
       " 377: 'Regice',\n",
       " 378: 'Registeel',\n",
       " 379: 'Latias',\n",
       " 380: 'Latios',\n",
       " 381: 'Kyogre',\n",
       " 382: 'Groudon',\n",
       " 383: 'Rayquaza',\n",
       " 384: 'Jirachi',\n",
       " 385: 'Deoxys',\n",
       " 386: 'Turtwig',\n",
       " 387: 'Grotle',\n",
       " 388: 'Torterra',\n",
       " 389: 'Chimchar',\n",
       " 390: 'Monferno',\n",
       " 391: 'Infernape',\n",
       " 392: 'Piplup',\n",
       " 393: 'Prinplup',\n",
       " 394: 'Empoleon',\n",
       " 395: 'Starly',\n",
       " 396: 'Staravia',\n",
       " 397: 'Staraptor',\n",
       " 398: 'Bidoof',\n",
       " 399: 'Bibarel',\n",
       " 400: 'Kricketot',\n",
       " 401: 'Kricketune',\n",
       " 402: 'Shinx',\n",
       " 403: 'Luxio',\n",
       " 404: 'Luxray',\n",
       " 405: 'Budew',\n",
       " 406: 'Roserade',\n",
       " 407: 'Cranidos',\n",
       " 408: 'Rampardos',\n",
       " 409: 'Shieldon',\n",
       " 410: 'Bastiodon',\n",
       " 411: 'Burmy',\n",
       " 412: 'Wormadam',\n",
       " 413: 'Mothim',\n",
       " 414: 'Combee',\n",
       " 415: 'Vespiquen',\n",
       " 416: 'Pachirisu',\n",
       " 417: 'Buizel',\n",
       " 418: 'Floatzel',\n",
       " 419: 'Cherubi',\n",
       " 420: 'Cherrim',\n",
       " 421: 'Shellos',\n",
       " 422: 'Gastrodon',\n",
       " 423: 'Ambipom',\n",
       " 424: 'Drifloon',\n",
       " 425: 'Drifblim',\n",
       " 426: 'Buneary',\n",
       " 427: 'Lopunny',\n",
       " 428: 'Mismagius',\n",
       " 429: 'Honchkrow',\n",
       " 430: 'Glameow',\n",
       " 431: 'Purugly',\n",
       " 432: 'Chingling',\n",
       " 433: 'Stunky',\n",
       " 434: 'Skuntank',\n",
       " 435: 'Bronzor',\n",
       " 436: 'Bronzong',\n",
       " 437: 'Bonsly',\n",
       " 438: 'Mime Jr.',\n",
       " 439: 'Happiny',\n",
       " 440: 'Chatot',\n",
       " 441: 'Spiritomb',\n",
       " 442: 'Gible',\n",
       " 443: 'Gabite',\n",
       " 444: 'Garchomp',\n",
       " 445: 'Munchlax',\n",
       " 446: 'Riolu',\n",
       " 447: 'Lucario',\n",
       " 448: 'Hippopotas',\n",
       " 449: 'Hippowdon',\n",
       " 450: 'Skorupi',\n",
       " 451: 'Drapion',\n",
       " 452: 'Croagunk',\n",
       " 453: 'Toxicroak',\n",
       " 454: 'Carnivine',\n",
       " 455: 'Finneon',\n",
       " 456: 'Lumineon',\n",
       " 457: 'Mantyke',\n",
       " 458: 'Snover',\n",
       " 459: 'Abomasnow',\n",
       " 460: 'Weavile',\n",
       " 461: 'Magnezone',\n",
       " 462: 'Lickilicky',\n",
       " 463: 'Rhyperior',\n",
       " 464: 'Tangrowth',\n",
       " 465: 'Electivire',\n",
       " 466: 'Magmortar',\n",
       " 467: 'Togekiss',\n",
       " 468: 'Yanmega',\n",
       " 469: 'Leafeon',\n",
       " 470: 'Glaceon',\n",
       " 471: 'Gliscor',\n",
       " 472: 'Mamoswine',\n",
       " 473: 'Porygon-Z',\n",
       " 474: 'Gallade',\n",
       " 475: 'Probopass',\n",
       " 476: 'Dusknoir',\n",
       " 477: 'Froslass',\n",
       " 478: 'Rotom',\n",
       " 479: 'Uxie',\n",
       " 480: 'Mesprit',\n",
       " 481: 'Azelf',\n",
       " 482: 'Dialga',\n",
       " 483: 'Palkia',\n",
       " 484: 'Heatran',\n",
       " 485: 'Regigigas',\n",
       " 486: 'Giratina',\n",
       " 487: 'Cresselia',\n",
       " 488: 'Phione',\n",
       " 489: 'Manaphy',\n",
       " 490: 'Darkrai',\n",
       " 491: 'Shaymin',\n",
       " 492: 'Arceus',\n",
       " 493: 'Victini',\n",
       " 494: 'Snivy',\n",
       " 495: 'Servine',\n",
       " 496: 'Serperior',\n",
       " 497: 'Tepig',\n",
       " 498: 'Pignite',\n",
       " 499: 'Emboar',\n",
       " 500: 'Oshawott',\n",
       " 501: 'Dewott',\n",
       " 502: 'Samurott',\n",
       " 503: 'Patrat',\n",
       " 504: 'Watchog',\n",
       " 505: 'Lillipup',\n",
       " 506: 'Herdier',\n",
       " 507: 'Stoutland',\n",
       " 508: 'Purrloin',\n",
       " 509: 'Liepard',\n",
       " 510: 'Pansage',\n",
       " 511: 'Simisage',\n",
       " 512: 'Pansear',\n",
       " 513: 'Simisear',\n",
       " 514: 'Panpour',\n",
       " 515: 'Simipour',\n",
       " 516: 'Munna',\n",
       " 517: 'Musharna',\n",
       " 518: 'Pidove',\n",
       " 519: 'Tranquill',\n",
       " 520: 'Unfezant',\n",
       " 521: 'Blitzle',\n",
       " 522: 'Zebstrika',\n",
       " 523: 'Roggenrola',\n",
       " 524: 'Boldore',\n",
       " 525: 'Gigalith',\n",
       " 526: 'Woobat',\n",
       " 527: 'Swoobat',\n",
       " 528: 'Drilbur',\n",
       " 529: 'Excadrill',\n",
       " 530: 'Audino',\n",
       " 531: 'Timburr',\n",
       " 532: 'Gurdurr',\n",
       " 533: 'Conkeldurr',\n",
       " 534: 'Tympole',\n",
       " 535: 'Palpitoad',\n",
       " 536: 'Seismitoad',\n",
       " 537: 'Throh',\n",
       " 538: 'Sawk',\n",
       " 539: 'Sewaddle',\n",
       " 540: 'Swadloon',\n",
       " 541: 'Leavanny',\n",
       " 542: 'Venipede',\n",
       " 543: 'Whirlipede',\n",
       " 544: 'Scolipede',\n",
       " 545: 'Cottonee',\n",
       " 546: 'Whimsicott',\n",
       " 547: 'Petilil',\n",
       " 548: 'Lilligant',\n",
       " 549: 'Basculin',\n",
       " 550: 'Sandile',\n",
       " 551: 'Krokorok',\n",
       " 552: 'Krookodile',\n",
       " 553: 'Darumaka',\n",
       " 554: 'Darmanitan',\n",
       " 555: 'Maractus',\n",
       " 556: 'Dwebble',\n",
       " 557: 'Crustle',\n",
       " 558: 'Scraggy',\n",
       " 559: 'Scrafty',\n",
       " 560: 'Sigilyph',\n",
       " 561: 'Yamask',\n",
       " 562: 'Cofagrigus',\n",
       " 563: 'Tirtouga',\n",
       " 564: 'Carracosta',\n",
       " 565: 'Archen',\n",
       " 566: 'Archeops',\n",
       " 567: 'Trubbish',\n",
       " 568: 'Garbodor',\n",
       " 569: 'Zorua',\n",
       " 570: 'Zoroark',\n",
       " 571: 'Minccino',\n",
       " 572: 'Cinccino',\n",
       " 573: 'Gothita',\n",
       " 574: 'Gothorita',\n",
       " 575: 'Gothitelle',\n",
       " 576: 'Solosis',\n",
       " 577: 'Duosion',\n",
       " 578: 'Reuniclus',\n",
       " 579: 'Ducklett',\n",
       " 580: 'Swanna',\n",
       " 581: 'Vanillite',\n",
       " 582: 'Vanillish',\n",
       " 583: 'Vanilluxe',\n",
       " 584: 'Deerling',\n",
       " 585: 'Sawsbuck',\n",
       " 586: 'Emolga',\n",
       " 587: 'Karrablast',\n",
       " 588: 'Escavalier',\n",
       " 589: 'Foongus',\n",
       " 590: 'Amoonguss',\n",
       " 591: 'Frillish',\n",
       " 592: 'Jellicent',\n",
       " 593: 'Alomomola',\n",
       " 594: 'Joltik',\n",
       " 595: 'Galvantula',\n",
       " 596: 'Ferroseed',\n",
       " 597: 'Ferrothorn',\n",
       " 598: 'Klink',\n",
       " 599: 'Klang',\n",
       " 600: 'Klinklang',\n",
       " 601: 'Tynamo',\n",
       " 602: 'Eelektrik',\n",
       " 603: 'Eelektross',\n",
       " 604: 'Elgyem',\n",
       " 605: 'Beheeyem',\n",
       " 606: 'Litwick',\n",
       " 607: 'Lampent',\n",
       " 608: 'Chandelure',\n",
       " 609: 'Axew',\n",
       " 610: 'Fraxure',\n",
       " 611: 'Haxorus',\n",
       " 612: 'Cubchoo',\n",
       " 613: 'Beartic',\n",
       " 614: 'Cryogonal',\n",
       " 615: 'Shelmet',\n",
       " 616: 'Accelgor',\n",
       " 617: 'Stunfisk',\n",
       " 618: 'Mienfoo',\n",
       " 619: 'Mienshao',\n",
       " 620: 'Druddigon',\n",
       " 621: 'Golett',\n",
       " 622: 'Golurk',\n",
       " 623: 'Pawniard',\n",
       " 624: 'Bisharp',\n",
       " 625: 'Bouffalant',\n",
       " 626: 'Rufflet',\n",
       " 627: 'Braviary',\n",
       " 628: 'Vullaby',\n",
       " 629: 'Mandibuzz',\n",
       " 630: 'Heatmor',\n",
       " 631: 'Durant',\n",
       " 632: 'Deino',\n",
       " 633: 'Zweilous',\n",
       " 634: 'Hydreigon',\n",
       " 635: 'Larvesta',\n",
       " 636: 'Volcarona',\n",
       " 637: 'Cobalion',\n",
       " 638: 'Terrakion',\n",
       " 639: 'Virizion',\n",
       " 640: 'Tornadus',\n",
       " 641: 'Thundurus',\n",
       " 642: 'Reshiram',\n",
       " 643: 'Zekrom',\n",
       " 644: 'Landorus',\n",
       " 645: 'Kyurem',\n",
       " 646: 'Keldeo',\n",
       " 647: 'Meloetta',\n",
       " 648: 'Genesect',\n",
       " 649: 'Chespin',\n",
       " 650: 'Quilladin',\n",
       " 651: 'Chesnaught',\n",
       " 652: 'Fennekin',\n",
       " 653: 'Braixen',\n",
       " 654: 'Delphox',\n",
       " 655: 'Froakie',\n",
       " 656: 'Frogadier',\n",
       " 657: 'Greninja',\n",
       " 658: 'Bunnelby',\n",
       " 659: 'Diggersby',\n",
       " 660: 'Fletchling',\n",
       " 661: 'Fletchinder',\n",
       " 662: 'Talonflame',\n",
       " 663: 'Scatterbug',\n",
       " 664: 'Spewpa',\n",
       " 665: 'Vivillon',\n",
       " 666: 'Litleo',\n",
       " 667: 'Pyroar',\n",
       " 668: 'Flabébé',\n",
       " 669: 'Floette',\n",
       " 670: 'Florges',\n",
       " 671: 'Skiddo',\n",
       " 672: 'Gogoat',\n",
       " 673: 'Pancham',\n",
       " 674: 'Pangoro',\n",
       " 675: 'Furfrou',\n",
       " 676: 'Espurr',\n",
       " 677: 'Meowstic',\n",
       " 678: 'Honedge',\n",
       " 679: 'Doublade',\n",
       " 680: 'Aegislash',\n",
       " 681: 'Spritzee',\n",
       " 682: 'Aromatisse',\n",
       " 683: 'Swirlix',\n",
       " 684: 'Slurpuff',\n",
       " 685: 'Inkay',\n",
       " 686: 'Malamar',\n",
       " 687: 'Binacle',\n",
       " 688: 'Barbaracle',\n",
       " 689: 'Skrelp',\n",
       " 690: 'Dragalge',\n",
       " 691: 'Clauncher',\n",
       " 692: 'Clawitzer',\n",
       " 693: 'Helioptile',\n",
       " 694: 'Heliolisk',\n",
       " 695: 'Tyrunt',\n",
       " 696: 'Tyrantrum',\n",
       " 697: 'Amaura',\n",
       " 698: 'Aurorus',\n",
       " 699: 'Sylveon',\n",
       " 700: 'Hawlucha',\n",
       " 701: 'Dedenne',\n",
       " 702: 'Carbink',\n",
       " 703: 'Goomy',\n",
       " 704: 'Sliggoo',\n",
       " 705: 'Goodra',\n",
       " 706: 'Klefki',\n",
       " 707: 'Phantump',\n",
       " 708: 'Trevenant',\n",
       " 709: 'Pumpkaboo',\n",
       " 710: 'Gourgeist',\n",
       " 711: 'Bergmite',\n",
       " 712: 'Avalugg',\n",
       " 713: 'Noibat',\n",
       " 714: 'Noivern',\n",
       " 715: 'Xerneas',\n",
       " 716: 'Yveltal',\n",
       " 717: 'Zygarde',\n",
       " 718: 'Diancie',\n",
       " 719: 'Hoopa',\n",
       " 720: 'Volcanion',\n",
       " 721: 'Rowlet',\n",
       " 722: 'Dartrix',\n",
       " 723: 'Decidueye',\n",
       " 724: 'Litten',\n",
       " 725: 'Torracat',\n",
       " 726: 'Incineroar',\n",
       " 727: 'Popplio',\n",
       " 728: 'Brionne',\n",
       " 729: 'Primarina',\n",
       " 730: 'Pikipek',\n",
       " 731: 'Trumbeak',\n",
       " 732: 'Toucannon',\n",
       " 733: 'Yungoos',\n",
       " 734: 'Gumshoos',\n",
       " 735: 'Grubbin',\n",
       " 736: 'Charjabug',\n",
       " 737: 'Vikavolt',\n",
       " 738: 'Crabrawler',\n",
       " 739: 'Crabominable',\n",
       " 740: 'Oricorio',\n",
       " 741: 'Cutiefly',\n",
       " 742: 'Ribombee',\n",
       " 743: 'Rockruff',\n",
       " 744: 'Lycanroc',\n",
       " 745: 'Wishiwashi',\n",
       " 746: 'Mareanie',\n",
       " 747: 'Toxapex',\n",
       " 748: 'Mudbray',\n",
       " 749: 'Mudsdale',\n",
       " 750: 'Dewpider',\n",
       " 751: 'Araquanid',\n",
       " 752: 'Fomantis',\n",
       " 753: 'Lurantis',\n",
       " 754: 'Morelull',\n",
       " 755: 'Shiinotic',\n",
       " 756: 'Salandit',\n",
       " 757: 'Salazzle',\n",
       " 758: 'Stufful',\n",
       " 759: 'Bewear',\n",
       " 760: 'Bounsweet',\n",
       " 761: 'Steenee',\n",
       " 762: 'Tsareena',\n",
       " 763: 'Comfey',\n",
       " 764: 'Oranguru',\n",
       " 765: 'Passimian',\n",
       " 766: 'Wimpod',\n",
       " 767: 'Golisopod',\n",
       " 768: 'Sandygast',\n",
       " 769: 'Palossand',\n",
       " 770: 'Pyukumuku',\n",
       " 771: 'Type: Null',\n",
       " 772: 'Silvally',\n",
       " 773: 'Minior',\n",
       " 774: 'Komala',\n",
       " 775: 'Turtonator',\n",
       " 776: 'Togedemaru',\n",
       " 777: 'Mimikyu',\n",
       " 778: 'Bruxish',\n",
       " 779: 'Drampa',\n",
       " 780: 'Dhelmise',\n",
       " 781: 'Jangmo-o',\n",
       " 782: 'Hakamo-o',\n",
       " 783: 'Kommo-o',\n",
       " 784: 'Tapu Koko',\n",
       " 785: 'Tapu Lele',\n",
       " 786: 'Tapu Bulu',\n",
       " 787: 'Tapu Fini',\n",
       " 788: 'Cosmog',\n",
       " 789: 'Cosmoem',\n",
       " 790: 'Solgaleo',\n",
       " 791: 'Lunala',\n",
       " 792: 'Nihilego',\n",
       " 793: 'Buzzwole',\n",
       " 794: 'Pheromosa',\n",
       " 795: 'Xurkitree',\n",
       " 796: 'Celesteela',\n",
       " 797: 'Kartana',\n",
       " 798: 'Guzzlord',\n",
       " 799: 'Necrozma',\n",
       " 800: 'Magearna',\n",
       " 801: 'Marshadow',\n",
       " 802: 'Poipole',\n",
       " 803: 'Naganadel',\n",
       " 804: 'Stakataka',\n",
       " 805: 'Blacephalon',\n",
       " 806: 'Zeraora',\n",
       " 807: 'Meltan',\n",
       " 808: 'Melmetal',\n",
       " 809: 'Grookey',\n",
       " 810: 'Thwackey',\n",
       " 811: 'Rillaboom',\n",
       " 812: 'Scorbunny',\n",
       " 813: 'Raboot',\n",
       " 814: 'Cinderace',\n",
       " 815: 'Sobble',\n",
       " 816: 'Drizzile',\n",
       " 817: 'Inteleon',\n",
       " 818: 'Skwovet',\n",
       " 819: 'Greedent',\n",
       " 820: 'Rookidee',\n",
       " 821: 'Corvisquire',\n",
       " 822: 'Corviknight',\n",
       " 823: 'Blipbug',\n",
       " 824: 'Dottler',\n",
       " 825: 'Orbeetle',\n",
       " 826: 'Nickit',\n",
       " 827: 'Thievul',\n",
       " 828: 'Gossifleur',\n",
       " 829: 'Eldegoss',\n",
       " 830: 'Wooloo',\n",
       " 831: 'Dubwool',\n",
       " 832: 'Chewtle',\n",
       " 833: 'Drednaw',\n",
       " 834: 'Yamper',\n",
       " 835: 'Boltund',\n",
       " 836: 'Rolycoly',\n",
       " 837: 'Carkol',\n",
       " 838: 'Coalossal',\n",
       " 839: 'Applin',\n",
       " 840: 'Flapple',\n",
       " 841: 'Appletun',\n",
       " 842: 'Silicobra',\n",
       " 843: 'Sandaconda',\n",
       " 844: 'Cramorant',\n",
       " 845: 'Arrokuda',\n",
       " 846: 'Barraskewda',\n",
       " 847: 'Toxel',\n",
       " 848: 'Toxtricity',\n",
       " 849: 'Sizzlipede',\n",
       " 850: 'Centiskorch',\n",
       " 851: 'Clobbopus',\n",
       " 852: 'Grapploct',\n",
       " 853: 'Sinistea',\n",
       " 854: 'Polteageist',\n",
       " 855: 'Hatenna',\n",
       " 856: 'Hattrem',\n",
       " 857: 'Hatterene',\n",
       " 858: 'Impidimp',\n",
       " 859: 'Morgrem',\n",
       " 860: 'Grimmsnarl',\n",
       " 861: 'Obstagoon',\n",
       " 862: 'Perrserker',\n",
       " 863: 'Cursola',\n",
       " 864: 'Sirfetch’d',\n",
       " 865: 'Mr. Rime',\n",
       " 866: 'Runerigus',\n",
       " 867: 'Milcery',\n",
       " 868: 'Alcremie',\n",
       " 869: 'Falinks',\n",
       " 870: 'Pincurchin',\n",
       " 871: 'Snom',\n",
       " 872: 'Frosmoth',\n",
       " 873: 'Stonjourner',\n",
       " 874: 'Eiscue',\n",
       " 875: 'Indeedee',\n",
       " 876: 'Morpeko',\n",
       " 877: 'Cufant',\n",
       " 878: 'Copperajah',\n",
       " 879: 'Dracozolt',\n",
       " 880: 'Arctozolt',\n",
       " 881: 'Dracovish',\n",
       " 882: 'Arctovish',\n",
       " 883: 'Duraludon',\n",
       " 884: 'Dreepy',\n",
       " 885: 'Drakloak',\n",
       " 886: 'Dragapult',\n",
       " 887: 'Zacian',\n",
       " 888: 'Zamazenta',\n",
       " 889: 'Eternatus',\n",
       " 890: 'Kubfu',\n",
       " 891: 'Urshifu',\n",
       " 892: 'Zarude',\n",
       " 893: 'Regieleki',\n",
       " 894: 'Regidrago',\n",
       " 895: 'Glastrier',\n",
       " 896: 'Spectrier',\n",
       " 897: 'Calyrex',\n",
       " 898: 'Wyrdeer',\n",
       " 899: 'Kleavor',\n",
       " 900: 'Ursaluna',\n",
       " 901: 'Basculegion',\n",
       " 902: 'Sneasler',\n",
       " 903: 'Overqwil',\n",
       " 904: 'Enamorus',\n",
       " 905: 'Sprigatito',\n",
       " 906: 'Floragato',\n",
       " 907: 'Meowscarada',\n",
       " 908: 'Fuecoco',\n",
       " 909: 'Crocalor',\n",
       " 910: 'Skeledirge',\n",
       " 911: 'Quaxly',\n",
       " 912: 'Quaxwell',\n",
       " 913: 'Quaquaval',\n",
       " 914: 'Lechonk',\n",
       " 915: 'Oinkologne',\n",
       " 916: 'Tarountula',\n",
       " 917: 'Spidops',\n",
       " 918: 'Nymble',\n",
       " 919: 'Lokix',\n",
       " 920: 'Pawmi',\n",
       " 921: 'Pawmo',\n",
       " 922: 'Pawmot',\n",
       " 923: 'Tandemaus',\n",
       " 924: 'Maushold',\n",
       " 925: 'Fidough',\n",
       " 926: 'Dachsbun',\n",
       " 927: 'Smoliv',\n",
       " 928: 'Dolliv',\n",
       " 929: 'Arboliva',\n",
       " 930: 'Squawkabilly',\n",
       " 931: 'Nacli',\n",
       " 932: 'Naclstack',\n",
       " 933: 'Garganacl',\n",
       " 934: 'Charcadet',\n",
       " 935: 'Armarouge',\n",
       " 936: 'Ceruledge',\n",
       " 937: 'Tadbulb',\n",
       " 938: 'Bellibolt',\n",
       " 939: 'Wattrel',\n",
       " 940: 'Kilowattrel',\n",
       " 941: 'Maschiff',\n",
       " 942: 'Mabosstiff',\n",
       " 943: 'Shroodle',\n",
       " 944: 'Grafaiai',\n",
       " 945: 'Bramblin',\n",
       " 946: 'Brambleghast',\n",
       " 947: 'Toedscool',\n",
       " 948: 'Toedscruel',\n",
       " 949: 'Klawf',\n",
       " 950: 'Capsakid',\n",
       " 951: 'Scovillain',\n",
       " 952: 'Rellor',\n",
       " 953: 'Rabsca',\n",
       " 954: 'Flittle',\n",
       " 955: 'Espathra',\n",
       " 956: 'Tinkatink',\n",
       " 957: 'Tinkatuff',\n",
       " 958: 'Tinkaton',\n",
       " 959: 'Wiglett',\n",
       " 960: 'Wugtrio',\n",
       " 961: 'Bombirdier',\n",
       " 962: 'Finizen',\n",
       " 963: 'Palafin',\n",
       " 964: 'Varoom',\n",
       " 965: 'Revavroom',\n",
       " 966: 'Cyclizar',\n",
       " 967: 'Orthworm',\n",
       " 968: 'Glimmet',\n",
       " 969: 'Glimmora',\n",
       " 970: 'Greavard',\n",
       " 971: 'Houndstone',\n",
       " 972: 'Flamigo',\n",
       " 973: 'Cetoddle',\n",
       " 974: 'Cetitan',\n",
       " 975: 'Veluza',\n",
       " 976: 'Dondozo',\n",
       " 977: 'Tatsugiri',\n",
       " 978: 'Annihilape',\n",
       " 979: 'Clodsire',\n",
       " 980: 'Farigiraf',\n",
       " 981: 'Dudunsparce',\n",
       " 982: 'Kingambit',\n",
       " 983: 'Great Tusk',\n",
       " 984: 'Scream Tail',\n",
       " 985: 'Brute Bonnet',\n",
       " 986: 'Flutter Mane',\n",
       " 987: 'Slither Wing',\n",
       " 988: 'Sandy Shocks',\n",
       " 989: 'Iron Treads',\n",
       " 990: 'Iron Bundle',\n",
       " 991: 'Iron Hands',\n",
       " 992: 'Iron Jugulis',\n",
       " 993: 'Iron Moth',\n",
       " 994: 'Iron Thorns',\n",
       " 995: 'Frigibax',\n",
       " 996: 'Arctibax',\n",
       " 997: 'Baxcalibur',\n",
       " 998: 'Gimmighoul',\n",
       " 999: 'Gholdengo',\n",
       " ...}"
      ]
     },
     "execution_count": 75,
     "metadata": {},
     "output_type": "execute_result"
    }
   ],
   "execution_count": 75
  },
  {
   "metadata": {
    "ExecuteTime": {
     "end_time": "2025-05-02T11:13:32.911729Z",
     "start_time": "2025-05-02T11:13:32.903173Z"
    }
   },
   "cell_type": "code",
   "source": "max(google)",
   "outputs": [
    {
     "data": {
      "text/plain": [
       "151.863495"
      ]
     },
     "execution_count": 76,
     "metadata": {},
     "output_type": "execute_result"
    }
   ],
   "execution_count": 76
  },
  {
   "cell_type": "markdown",
   "metadata": {},
   "source": [
    "## Check for Inclusion with Python's in Keyword\n",
    "- The `in` keyword checks if a value exists within an object.\n",
    "- The `in` keyword will look for a value in the **Series's** index.\n",
    "- Use the `index` and `values` attributes to access \"nested\" objects within the **Series**.\n",
    "- Combine the `in` keyword with `values` to search within the **Series's** values."
   ]
  },
  {
   "cell_type": "code",
   "metadata": {
    "tags": [],
    "ExecuteTime": {
     "end_time": "2025-05-02T11:18:58.986620Z",
     "start_time": "2025-05-02T11:18:58.979960Z"
    }
   },
   "source": [
    "pokemon = pd.read_csv(\"pokemon.csv\", usecols=[\"Name\"]).squeeze(\"columns\")\n",
    "pokemon.head()"
   ],
   "outputs": [
    {
     "data": {
      "text/plain": [
       "0     Bulbasaur\n",
       "1       Ivysaur\n",
       "2      Venusaur\n",
       "3    Charmander\n",
       "4    Charmeleon\n",
       "Name: Name, dtype: object"
      ]
     },
     "execution_count": 78,
     "metadata": {},
     "output_type": "execute_result"
    }
   ],
   "execution_count": 78
  },
  {
   "cell_type": "code",
   "metadata": {
    "tags": [],
    "ExecuteTime": {
     "end_time": "2025-05-02T11:19:11.693626Z",
     "start_time": "2025-05-02T11:19:11.684633Z"
    }
   },
   "source": "\"car\" in \"racecar\"",
   "outputs": [
    {
     "data": {
      "text/plain": [
       "True"
      ]
     },
     "execution_count": 79,
     "metadata": {},
     "output_type": "execute_result"
    }
   ],
   "execution_count": 79
  },
  {
   "metadata": {
    "ExecuteTime": {
     "end_time": "2025-05-02T11:19:32.743172Z",
     "start_time": "2025-05-02T11:19:32.737825Z"
    }
   },
   "cell_type": "code",
   "source": "2 in [1, 3, 2]",
   "outputs": [
    {
     "data": {
      "text/plain": [
       "True"
      ]
     },
     "execution_count": 80,
     "metadata": {},
     "output_type": "execute_result"
    }
   ],
   "execution_count": 80
  },
  {
   "metadata": {
    "ExecuteTime": {
     "end_time": "2025-05-02T11:20:01.248621Z",
     "start_time": "2025-05-02T11:20:01.242616Z"
    }
   },
   "cell_type": "code",
   "source": "\"Bulbasaur\" in pokemon",
   "outputs": [
    {
     "data": {
      "text/plain": [
       "False"
      ]
     },
     "execution_count": 81,
     "metadata": {},
     "output_type": "execute_result"
    }
   ],
   "execution_count": 81
  },
  {
   "metadata": {
    "ExecuteTime": {
     "end_time": "2025-05-02T11:20:48.960325Z",
     "start_time": "2025-05-02T11:20:48.948888Z"
    }
   },
   "cell_type": "code",
   "source": "0 in pokemon",
   "outputs": [
    {
     "data": {
      "text/plain": [
       "True"
      ]
     },
     "execution_count": 82,
     "metadata": {},
     "output_type": "execute_result"
    }
   ],
   "execution_count": 82
  },
  {
   "metadata": {
    "ExecuteTime": {
     "end_time": "2025-05-02T11:21:00.367857Z",
     "start_time": "2025-05-02T11:21:00.360757Z"
    }
   },
   "cell_type": "code",
   "source": "pokemon.index",
   "outputs": [
    {
     "data": {
      "text/plain": [
       "RangeIndex(start=0, stop=1010, step=1)"
      ]
     },
     "execution_count": 83,
     "metadata": {},
     "output_type": "execute_result"
    }
   ],
   "execution_count": 83
  },
  {
   "metadata": {
    "ExecuteTime": {
     "end_time": "2025-05-02T11:22:55.881725Z",
     "start_time": "2025-05-02T11:22:55.872289Z"
    }
   },
   "cell_type": "code",
   "source": "\"Pikachu\" in pokemon.values",
   "outputs": [
    {
     "data": {
      "text/plain": [
       "True"
      ]
     },
     "execution_count": 84,
     "metadata": {},
     "output_type": "execute_result"
    }
   ],
   "execution_count": 84
  },
  {
   "cell_type": "markdown",
   "metadata": {},
   "source": [
    "## The sort_values Method\n",
    "- The `sort_values` method sorts a **Series** values in order.\n",
    "- By default, pandas applies an ascending sort (smallest to largest).\n",
    "- Customize the sort order with the `ascending` parameter."
   ]
  },
  {
   "metadata": {
    "ExecuteTime": {
     "end_time": "2025-05-02T11:26:21.003188Z",
     "start_time": "2025-05-02T11:26:20.974706Z"
    }
   },
   "cell_type": "code",
   "source": "google = pd.read_csv(\"google_stock_price.csv\", usecols=[\"Price\"]).squeeze(\"columns\")",
   "outputs": [],
   "execution_count": 85
  },
  {
   "cell_type": "code",
   "metadata": {
    "tags": [],
    "ExecuteTime": {
     "end_time": "2025-05-02T11:26:26.959690Z",
     "start_time": "2025-05-02T11:26:26.953978Z"
    }
   },
   "source": "google.head()",
   "outputs": [
    {
     "data": {
      "text/plain": [
       "0    2.490664\n",
       "1    2.515820\n",
       "2    2.758411\n",
       "3    2.770615\n",
       "4    2.614201\n",
       "Name: Price, dtype: float64"
      ]
     },
     "execution_count": 86,
     "metadata": {},
     "output_type": "execute_result"
    }
   ],
   "execution_count": 86
  },
  {
   "cell_type": "code",
   "metadata": {
    "tags": [],
    "ExecuteTime": {
     "end_time": "2025-05-02T11:26:36.894903Z",
     "start_time": "2025-05-02T11:26:36.882629Z"
    }
   },
   "source": "google.sort_values()",
   "outputs": [
    {
     "data": {
      "text/plain": [
       "10        2.470490\n",
       "0         2.490664\n",
       "13        2.509095\n",
       "11        2.514326\n",
       "1         2.515820\n",
       "           ...    \n",
       "4341    150.000000\n",
       "4336    150.000000\n",
       "4346    150.141754\n",
       "4345    151.000000\n",
       "4395    151.863495\n",
       "Name: Price, Length: 4793, dtype: float64"
      ]
     },
     "execution_count": 87,
     "metadata": {},
     "output_type": "execute_result"
    }
   ],
   "execution_count": 87
  },
  {
   "cell_type": "code",
   "metadata": {
    "tags": [],
    "ExecuteTime": {
     "end_time": "2025-05-02T11:28:28.285492Z",
     "start_time": "2025-05-02T11:28:28.270564Z"
    }
   },
   "source": "google.sort_values(ascending=False)",
   "outputs": [
    {
     "data": {
      "text/plain": [
       "4395    151.863495\n",
       "4345    151.000000\n",
       "4346    150.141754\n",
       "4341    150.000000\n",
       "4336    150.000000\n",
       "           ...    \n",
       "12        2.515820\n",
       "11        2.514326\n",
       "13        2.509095\n",
       "0         2.490664\n",
       "10        2.470490\n",
       "Name: Price, Length: 4793, dtype: float64"
      ]
     },
     "execution_count": 88,
     "metadata": {},
     "output_type": "execute_result"
    }
   ],
   "execution_count": 88
  },
  {
   "metadata": {
    "ExecuteTime": {
     "end_time": "2025-05-02T11:29:46.308919Z",
     "start_time": "2025-05-02T11:29:46.278814Z"
    }
   },
   "cell_type": "code",
   "source": "google.sort_values(ascending=False).head()",
   "outputs": [
    {
     "data": {
      "text/plain": [
       "4395    151.863495\n",
       "4345    151.000000\n",
       "4346    150.141754\n",
       "4341    150.000000\n",
       "4336    150.000000\n",
       "Name: Price, dtype: float64"
      ]
     },
     "execution_count": 89,
     "metadata": {},
     "output_type": "execute_result"
    }
   ],
   "execution_count": 89
  },
  {
   "cell_type": "markdown",
   "metadata": {},
   "source": [
    "## The sort_index Method\n",
    "- The `sort_index` method sorts a **Series** by its index.\n",
    "- The `sort_index` method also accepts an `ascending` parameter to set sort order."
   ]
  },
  {
   "metadata": {
    "ExecuteTime": {
     "end_time": "2025-05-02T11:44:33.652902Z",
     "start_time": "2025-05-02T11:44:33.633828Z"
    }
   },
   "cell_type": "code",
   "source": [
    "pd.read_csv(\"pokemon.csv\", index_col=\"Name\").squeeze(\"columns\")\n",
    "pokemon.head()"
   ],
   "outputs": [
    {
     "data": {
      "text/plain": [
       "0     Bulbasaur\n",
       "1       Ivysaur\n",
       "2      Venusaur\n",
       "3    Charmander\n",
       "4    Charmeleon\n",
       "Name: Name, dtype: object"
      ]
     },
     "execution_count": 93,
     "metadata": {},
     "output_type": "execute_result"
    }
   ],
   "execution_count": 93
  },
  {
   "cell_type": "code",
   "metadata": {
    "tags": [],
    "ExecuteTime": {
     "end_time": "2025-05-02T11:44:47.414562Z",
     "start_time": "2025-05-02T11:44:47.395777Z"
    }
   },
   "source": "pokemon.sort_index()",
   "outputs": [
    {
     "data": {
      "text/plain": [
       "0          Bulbasaur\n",
       "1            Ivysaur\n",
       "2           Venusaur\n",
       "3         Charmander\n",
       "4         Charmeleon\n",
       "            ...     \n",
       "1005    Iron Valiant\n",
       "1006        Koraidon\n",
       "1007        Miraidon\n",
       "1008    Walking Wake\n",
       "1009     Iron Leaves\n",
       "Name: Name, Length: 1010, dtype: object"
      ]
     },
     "execution_count": 94,
     "metadata": {},
     "output_type": "execute_result"
    }
   ],
   "execution_count": 94
  },
  {
   "cell_type": "code",
   "execution_count": null,
   "metadata": {
    "tags": []
   },
   "outputs": [],
   "source": []
  },
  {
   "cell_type": "markdown",
   "metadata": {},
   "source": [
    "## Extract Series Value by Index Position\n",
    "- Use the `iloc` accessor to extract a **Series** value by its index position.\n",
    "- `iloc` is short for \"index location\".\n",
    "- Python's list slicing syntaxes (slices, slices from start, slices to end, etc.) are supported with **Series** objects."
   ]
  },
  {
   "cell_type": "code",
   "metadata": {
    "tags": [],
    "ExecuteTime": {
     "end_time": "2025-05-02T13:29:13.031719Z",
     "start_time": "2025-05-02T13:29:12.995764Z"
    }
   },
   "source": "pokemon = pd.read_csv(\"pokemon.csv\", usecols=[\"Name\"]).squeeze(\"columns\")",
   "outputs": [],
   "execution_count": 95
  },
  {
   "cell_type": "code",
   "metadata": {
    "ExecuteTime": {
     "end_time": "2025-05-02T13:29:18.327986Z",
     "start_time": "2025-05-02T13:29:18.313956Z"
    }
   },
   "source": "pokemon.head()",
   "outputs": [
    {
     "data": {
      "text/plain": [
       "0     Bulbasaur\n",
       "1       Ivysaur\n",
       "2      Venusaur\n",
       "3    Charmander\n",
       "4    Charmeleon\n",
       "Name: Name, dtype: object"
      ]
     },
     "execution_count": 96,
     "metadata": {},
     "output_type": "execute_result"
    }
   ],
   "execution_count": 96
  },
  {
   "metadata": {
    "ExecuteTime": {
     "end_time": "2025-05-02T13:31:00.663148Z",
     "start_time": "2025-05-02T13:31:00.653715Z"
    }
   },
   "cell_type": "code",
   "source": "pokemon.iloc[0]",
   "outputs": [
    {
     "data": {
      "text/plain": [
       "'Bulbasaur'"
      ]
     },
     "execution_count": 97,
     "metadata": {},
     "output_type": "execute_result"
    }
   ],
   "execution_count": 97
  },
  {
   "metadata": {
    "ExecuteTime": {
     "end_time": "2025-05-02T13:32:18.260497Z",
     "start_time": "2025-05-02T13:32:18.242362Z"
    }
   },
   "cell_type": "code",
   "source": "pokemon.iloc[[100,200,300]]",
   "outputs": [
    {
     "data": {
      "text/plain": [
       "100    Electrode\n",
       "200        Unown\n",
       "300     Delcatty\n",
       "Name: Name, dtype: object"
      ]
     },
     "execution_count": 98,
     "metadata": {},
     "output_type": "execute_result"
    }
   ],
   "execution_count": 98
  },
  {
   "metadata": {
    "ExecuteTime": {
     "end_time": "2025-05-02T13:33:41.471399Z",
     "start_time": "2025-05-02T13:33:41.457350Z"
    }
   },
   "cell_type": "code",
   "source": "pokemon.iloc[27:36]",
   "outputs": [
    {
     "data": {
      "text/plain": [
       "27    Sandslash\n",
       "28     Nidoran♀\n",
       "29     Nidorina\n",
       "30    Nidoqueen\n",
       "31     Nidoran♂\n",
       "32     Nidorino\n",
       "33     Nidoking\n",
       "34     Clefairy\n",
       "35     Clefable\n",
       "Name: Name, dtype: object"
      ]
     },
     "execution_count": 99,
     "metadata": {},
     "output_type": "execute_result"
    }
   ],
   "execution_count": 99
  },
  {
   "cell_type": "markdown",
   "metadata": {},
   "source": [
    "## Extract Series Value by Index Label\n",
    "- Use the `loc` accessor to extract a **Series** value by its index label.\n",
    "- Pass a list to extract multiple values by index label.\n",
    "- If one index label/position in the list does not exist, Pandas will raise an error."
   ]
  },
  {
   "cell_type": "code",
   "metadata": {
    "tags": [],
    "ExecuteTime": {
     "end_time": "2025-05-02T13:41:30.829420Z",
     "start_time": "2025-05-02T13:41:30.801080Z"
    }
   },
   "source": "pokemon = pd.read_csv(\"pokemon.csv\", index_col=\"Name\").squeeze(\"columns\")",
   "outputs": [],
   "execution_count": 100
  },
  {
   "cell_type": "code",
   "metadata": {
    "tags": [],
    "ExecuteTime": {
     "end_time": "2025-05-02T13:41:34.244041Z",
     "start_time": "2025-05-02T13:41:34.240049Z"
    }
   },
   "source": "pokemon.head()",
   "outputs": [
    {
     "data": {
      "text/plain": [
       "Name\n",
       "Bulbasaur     Grass, Poison\n",
       "Ivysaur       Grass, Poison\n",
       "Venusaur      Grass, Poison\n",
       "Charmander             Fire\n",
       "Charmeleon             Fire\n",
       "Name: Type, dtype: object"
      ]
     },
     "execution_count": 101,
     "metadata": {},
     "output_type": "execute_result"
    }
   ],
   "execution_count": 101
  },
  {
   "cell_type": "code",
   "metadata": {
    "tags": [],
    "ExecuteTime": {
     "end_time": "2025-05-02T13:42:22.098448Z",
     "start_time": "2025-05-02T13:42:22.088228Z"
    }
   },
   "source": "pokemon.loc[\"Bulbasaur\"]",
   "outputs": [
    {
     "data": {
      "text/plain": [
       "'Grass, Poison'"
      ]
     },
     "execution_count": 102,
     "metadata": {},
     "output_type": "execute_result"
    }
   ],
   "execution_count": 102
  },
  {
   "cell_type": "code",
   "metadata": {
    "ExecuteTime": {
     "end_time": "2025-05-02T13:42:55.113154Z",
     "start_time": "2025-05-02T13:42:55.100657Z"
    }
   },
   "source": "pokemon.iloc[0]",
   "outputs": [
    {
     "data": {
      "text/plain": [
       "'Grass, Poison'"
      ]
     },
     "execution_count": 103,
     "metadata": {},
     "output_type": "execute_result"
    }
   ],
   "execution_count": 103
  },
  {
   "metadata": {
    "ExecuteTime": {
     "end_time": "2025-05-02T13:43:21.775580Z",
     "start_time": "2025-05-02T13:43:21.760897Z"
    }
   },
   "cell_type": "code",
   "source": "pokemon[0]",
   "outputs": [
    {
     "name": "stderr",
     "output_type": "stream",
     "text": [
      "/var/folders/gr/tynpgnxx2msbydf66jtrpl_w0000gn/T/ipykernel_70045/414219632.py:1: FutureWarning: Series.__getitem__ treating keys as positions is deprecated. In a future version, integer keys will always be treated as labels (consistent with DataFrame behavior). To access a value by position, use `ser.iloc[pos]`\n",
      "  pokemon[0]\n"
     ]
    },
    {
     "data": {
      "text/plain": [
       "'Grass, Poison'"
      ]
     },
     "execution_count": 104,
     "metadata": {},
     "output_type": "execute_result"
    }
   ],
   "execution_count": 104
  },
  {
   "metadata": {
    "ExecuteTime": {
     "end_time": "2025-05-02T13:45:06.590779Z",
     "start_time": "2025-05-02T13:45:06.583866Z"
    }
   },
   "cell_type": "code",
   "source": "pokemon.loc[\"Mewtwo\"]",
   "outputs": [
    {
     "data": {
      "text/plain": [
       "'Psychic'"
      ]
     },
     "execution_count": 105,
     "metadata": {},
     "output_type": "execute_result"
    }
   ],
   "execution_count": 105
  },
  {
   "metadata": {
    "ExecuteTime": {
     "end_time": "2025-05-02T13:45:45.216902Z",
     "start_time": "2025-05-02T13:45:45.203618Z"
    }
   },
   "cell_type": "code",
   "source": "pokemon.loc[[\"Jolteon\", \"Meowth\"]]",
   "outputs": [
    {
     "data": {
      "text/plain": [
       "Name\n",
       "Jolteon    Electric\n",
       "Meowth       Normal\n",
       "Name: Type, dtype: object"
      ]
     },
     "execution_count": 107,
     "metadata": {},
     "output_type": "execute_result"
    }
   ],
   "execution_count": 107
  },
  {
   "metadata": {},
   "cell_type": "code",
   "outputs": [],
   "execution_count": null,
   "source": ""
  },
  {
   "cell_type": "markdown",
   "metadata": {},
   "source": [
    "## The get Method on a Series\n",
    "- The `get` method extracts a **Series** value by index label. It is an alternative option to square brackets.\n",
    "- The `get` method's second argument sets the fallback value to return if the label/position does not exist."
   ]
  },
  {
   "metadata": {
    "ExecuteTime": {
     "end_time": "2025-05-02T13:52:48.068738Z",
     "start_time": "2025-05-02T13:52:48.051869Z"
    }
   },
   "cell_type": "code",
   "source": "pokemon = pd.read_csv(\"pokemon.csv\", index_col=\"Name\").squeeze(\"columns\")",
   "outputs": [],
   "execution_count": 108
  },
  {
   "cell_type": "code",
   "metadata": {
    "tags": [],
    "ExecuteTime": {
     "end_time": "2025-05-02T13:52:54.281668Z",
     "start_time": "2025-05-02T13:52:54.267721Z"
    }
   },
   "source": "pokemon.head()",
   "outputs": [
    {
     "data": {
      "text/plain": [
       "Name\n",
       "Bulbasaur     Grass, Poison\n",
       "Ivysaur       Grass, Poison\n",
       "Venusaur      Grass, Poison\n",
       "Charmander             Fire\n",
       "Charmeleon             Fire\n",
       "Name: Type, dtype: object"
      ]
     },
     "execution_count": 109,
     "metadata": {},
     "output_type": "execute_result"
    }
   ],
   "execution_count": 109
  },
  {
   "cell_type": "code",
   "metadata": {
    "tags": [],
    "ExecuteTime": {
     "end_time": "2025-05-02T13:53:34.975943Z",
     "start_time": "2025-05-02T13:53:34.966400Z"
    }
   },
   "source": "pokemon.get(\"Moltres\")",
   "outputs": [
    {
     "data": {
      "text/plain": [
       "'Fire, Flying'"
      ]
     },
     "execution_count": 110,
     "metadata": {},
     "output_type": "execute_result"
    }
   ],
   "execution_count": 110
  },
  {
   "metadata": {
    "ExecuteTime": {
     "end_time": "2025-05-02T13:53:57.781414Z",
     "start_time": "2025-05-02T13:53:57.269045Z"
    }
   },
   "cell_type": "code",
   "source": "pokemon.loc[\"Digimon\"]",
   "outputs": [
    {
     "ename": "KeyError",
     "evalue": "'Digimon'",
     "output_type": "error",
     "traceback": [
      "\u001B[0;31m---------------------------------------------------------------------------\u001B[0m",
      "\u001B[0;31mKeyError\u001B[0m                                  Traceback (most recent call last)",
      "File \u001B[0;32m~/PycharmProjects/pandas_cookbook/.venv/lib/python3.9/site-packages/pandas/core/indexes/base.py:3805\u001B[0m, in \u001B[0;36mIndex.get_loc\u001B[0;34m(self, key)\u001B[0m\n\u001B[1;32m   3804\u001B[0m \u001B[38;5;28;01mtry\u001B[39;00m:\n\u001B[0;32m-> 3805\u001B[0m     \u001B[38;5;28;01mreturn\u001B[39;00m \u001B[38;5;28;43mself\u001B[39;49m\u001B[38;5;241;43m.\u001B[39;49m\u001B[43m_engine\u001B[49m\u001B[38;5;241;43m.\u001B[39;49m\u001B[43mget_loc\u001B[49m\u001B[43m(\u001B[49m\u001B[43mcasted_key\u001B[49m\u001B[43m)\u001B[49m\n\u001B[1;32m   3806\u001B[0m \u001B[38;5;28;01mexcept\u001B[39;00m \u001B[38;5;167;01mKeyError\u001B[39;00m \u001B[38;5;28;01mas\u001B[39;00m err:\n",
      "File \u001B[0;32mindex.pyx:167\u001B[0m, in \u001B[0;36mpandas._libs.index.IndexEngine.get_loc\u001B[0;34m()\u001B[0m\n",
      "File \u001B[0;32mindex.pyx:196\u001B[0m, in \u001B[0;36mpandas._libs.index.IndexEngine.get_loc\u001B[0;34m()\u001B[0m\n",
      "File \u001B[0;32mpandas/_libs/hashtable_class_helper.pxi:7081\u001B[0m, in \u001B[0;36mpandas._libs.hashtable.PyObjectHashTable.get_item\u001B[0;34m()\u001B[0m\n",
      "File \u001B[0;32mpandas/_libs/hashtable_class_helper.pxi:7089\u001B[0m, in \u001B[0;36mpandas._libs.hashtable.PyObjectHashTable.get_item\u001B[0;34m()\u001B[0m\n",
      "\u001B[0;31mKeyError\u001B[0m: 'Digimon'",
      "\nThe above exception was the direct cause of the following exception:\n",
      "\u001B[0;31mKeyError\u001B[0m                                  Traceback (most recent call last)",
      "Cell \u001B[0;32mIn[111], line 1\u001B[0m\n\u001B[0;32m----> 1\u001B[0m \u001B[43mpokemon\u001B[49m\u001B[38;5;241;43m.\u001B[39;49m\u001B[43mloc\u001B[49m\u001B[43m[\u001B[49m\u001B[38;5;124;43m\"\u001B[39;49m\u001B[38;5;124;43mDigimon\u001B[39;49m\u001B[38;5;124;43m\"\u001B[39;49m\u001B[43m]\u001B[49m\n",
      "File \u001B[0;32m~/PycharmProjects/pandas_cookbook/.venv/lib/python3.9/site-packages/pandas/core/indexing.py:1191\u001B[0m, in \u001B[0;36m_LocationIndexer.__getitem__\u001B[0;34m(self, key)\u001B[0m\n\u001B[1;32m   1189\u001B[0m maybe_callable \u001B[38;5;241m=\u001B[39m com\u001B[38;5;241m.\u001B[39mapply_if_callable(key, \u001B[38;5;28mself\u001B[39m\u001B[38;5;241m.\u001B[39mobj)\n\u001B[1;32m   1190\u001B[0m maybe_callable \u001B[38;5;241m=\u001B[39m \u001B[38;5;28mself\u001B[39m\u001B[38;5;241m.\u001B[39m_check_deprecated_callable_usage(key, maybe_callable)\n\u001B[0;32m-> 1191\u001B[0m \u001B[38;5;28;01mreturn\u001B[39;00m \u001B[38;5;28;43mself\u001B[39;49m\u001B[38;5;241;43m.\u001B[39;49m\u001B[43m_getitem_axis\u001B[49m\u001B[43m(\u001B[49m\u001B[43mmaybe_callable\u001B[49m\u001B[43m,\u001B[49m\u001B[43m \u001B[49m\u001B[43maxis\u001B[49m\u001B[38;5;241;43m=\u001B[39;49m\u001B[43maxis\u001B[49m\u001B[43m)\u001B[49m\n",
      "File \u001B[0;32m~/PycharmProjects/pandas_cookbook/.venv/lib/python3.9/site-packages/pandas/core/indexing.py:1431\u001B[0m, in \u001B[0;36m_LocIndexer._getitem_axis\u001B[0;34m(self, key, axis)\u001B[0m\n\u001B[1;32m   1429\u001B[0m \u001B[38;5;66;03m# fall thru to straight lookup\u001B[39;00m\n\u001B[1;32m   1430\u001B[0m \u001B[38;5;28mself\u001B[39m\u001B[38;5;241m.\u001B[39m_validate_key(key, axis)\n\u001B[0;32m-> 1431\u001B[0m \u001B[38;5;28;01mreturn\u001B[39;00m \u001B[38;5;28;43mself\u001B[39;49m\u001B[38;5;241;43m.\u001B[39;49m\u001B[43m_get_label\u001B[49m\u001B[43m(\u001B[49m\u001B[43mkey\u001B[49m\u001B[43m,\u001B[49m\u001B[43m \u001B[49m\u001B[43maxis\u001B[49m\u001B[38;5;241;43m=\u001B[39;49m\u001B[43maxis\u001B[49m\u001B[43m)\u001B[49m\n",
      "File \u001B[0;32m~/PycharmProjects/pandas_cookbook/.venv/lib/python3.9/site-packages/pandas/core/indexing.py:1381\u001B[0m, in \u001B[0;36m_LocIndexer._get_label\u001B[0;34m(self, label, axis)\u001B[0m\n\u001B[1;32m   1379\u001B[0m \u001B[38;5;28;01mdef\u001B[39;00m\u001B[38;5;250m \u001B[39m\u001B[38;5;21m_get_label\u001B[39m(\u001B[38;5;28mself\u001B[39m, label, axis: AxisInt):\n\u001B[1;32m   1380\u001B[0m     \u001B[38;5;66;03m# GH#5567 this will fail if the label is not present in the axis.\u001B[39;00m\n\u001B[0;32m-> 1381\u001B[0m     \u001B[38;5;28;01mreturn\u001B[39;00m \u001B[38;5;28;43mself\u001B[39;49m\u001B[38;5;241;43m.\u001B[39;49m\u001B[43mobj\u001B[49m\u001B[38;5;241;43m.\u001B[39;49m\u001B[43mxs\u001B[49m\u001B[43m(\u001B[49m\u001B[43mlabel\u001B[49m\u001B[43m,\u001B[49m\u001B[43m \u001B[49m\u001B[43maxis\u001B[49m\u001B[38;5;241;43m=\u001B[39;49m\u001B[43maxis\u001B[49m\u001B[43m)\u001B[49m\n",
      "File \u001B[0;32m~/PycharmProjects/pandas_cookbook/.venv/lib/python3.9/site-packages/pandas/core/generic.py:4301\u001B[0m, in \u001B[0;36mNDFrame.xs\u001B[0;34m(self, key, axis, level, drop_level)\u001B[0m\n\u001B[1;32m   4299\u001B[0m             new_index \u001B[38;5;241m=\u001B[39m index[loc]\n\u001B[1;32m   4300\u001B[0m \u001B[38;5;28;01melse\u001B[39;00m:\n\u001B[0;32m-> 4301\u001B[0m     loc \u001B[38;5;241m=\u001B[39m \u001B[43mindex\u001B[49m\u001B[38;5;241;43m.\u001B[39;49m\u001B[43mget_loc\u001B[49m\u001B[43m(\u001B[49m\u001B[43mkey\u001B[49m\u001B[43m)\u001B[49m\n\u001B[1;32m   4303\u001B[0m     \u001B[38;5;28;01mif\u001B[39;00m \u001B[38;5;28misinstance\u001B[39m(loc, np\u001B[38;5;241m.\u001B[39mndarray):\n\u001B[1;32m   4304\u001B[0m         \u001B[38;5;28;01mif\u001B[39;00m loc\u001B[38;5;241m.\u001B[39mdtype \u001B[38;5;241m==\u001B[39m np\u001B[38;5;241m.\u001B[39mbool_:\n",
      "File \u001B[0;32m~/PycharmProjects/pandas_cookbook/.venv/lib/python3.9/site-packages/pandas/core/indexes/base.py:3812\u001B[0m, in \u001B[0;36mIndex.get_loc\u001B[0;34m(self, key)\u001B[0m\n\u001B[1;32m   3807\u001B[0m     \u001B[38;5;28;01mif\u001B[39;00m \u001B[38;5;28misinstance\u001B[39m(casted_key, \u001B[38;5;28mslice\u001B[39m) \u001B[38;5;129;01mor\u001B[39;00m (\n\u001B[1;32m   3808\u001B[0m         \u001B[38;5;28misinstance\u001B[39m(casted_key, abc\u001B[38;5;241m.\u001B[39mIterable)\n\u001B[1;32m   3809\u001B[0m         \u001B[38;5;129;01mand\u001B[39;00m \u001B[38;5;28many\u001B[39m(\u001B[38;5;28misinstance\u001B[39m(x, \u001B[38;5;28mslice\u001B[39m) \u001B[38;5;28;01mfor\u001B[39;00m x \u001B[38;5;129;01min\u001B[39;00m casted_key)\n\u001B[1;32m   3810\u001B[0m     ):\n\u001B[1;32m   3811\u001B[0m         \u001B[38;5;28;01mraise\u001B[39;00m InvalidIndexError(key)\n\u001B[0;32m-> 3812\u001B[0m     \u001B[38;5;28;01mraise\u001B[39;00m \u001B[38;5;167;01mKeyError\u001B[39;00m(key) \u001B[38;5;28;01mfrom\u001B[39;00m\u001B[38;5;250m \u001B[39m\u001B[38;5;21;01merr\u001B[39;00m\n\u001B[1;32m   3813\u001B[0m \u001B[38;5;28;01mexcept\u001B[39;00m \u001B[38;5;167;01mTypeError\u001B[39;00m:\n\u001B[1;32m   3814\u001B[0m     \u001B[38;5;66;03m# If we have a listlike key, _check_indexing_error will raise\u001B[39;00m\n\u001B[1;32m   3815\u001B[0m     \u001B[38;5;66;03m#  InvalidIndexError. Otherwise we fall through and re-raise\u001B[39;00m\n\u001B[1;32m   3816\u001B[0m     \u001B[38;5;66;03m#  the TypeError.\u001B[39;00m\n\u001B[1;32m   3817\u001B[0m     \u001B[38;5;28mself\u001B[39m\u001B[38;5;241m.\u001B[39m_check_indexing_error(key)\n",
      "\u001B[0;31mKeyError\u001B[0m: 'Digimon'"
     ]
    }
   ],
   "execution_count": 111
  },
  {
   "metadata": {
    "ExecuteTime": {
     "end_time": "2025-05-02T13:55:53.322723Z",
     "start_time": "2025-05-02T13:55:53.312391Z"
    }
   },
   "cell_type": "code",
   "source": "pokemon.get(\"Digimon\", \"Nonexistent\")",
   "outputs": [
    {
     "data": {
      "text/plain": [
       "'Nonexistent'"
      ]
     },
     "execution_count": 114,
     "metadata": {},
     "output_type": "execute_result"
    }
   ],
   "execution_count": 114
  },
  {
   "metadata": {
    "ExecuteTime": {
     "end_time": "2025-05-02T13:56:15.900769Z",
     "start_time": "2025-05-02T13:56:15.891461Z"
    }
   },
   "cell_type": "code",
   "source": "pokemon.get(\"Moltres\", \"Nonexistent\")",
   "outputs": [
    {
     "data": {
      "text/plain": [
       "'Fire, Flying'"
      ]
     },
     "execution_count": 115,
     "metadata": {},
     "output_type": "execute_result"
    }
   ],
   "execution_count": 115
  },
  {
   "metadata": {
    "ExecuteTime": {
     "end_time": "2025-05-02T13:56:44.157499Z",
     "start_time": "2025-05-02T13:56:44.145492Z"
    }
   },
   "cell_type": "code",
   "source": "pokemon.get([\"Moltres\", \"Pikachu\"])",
   "outputs": [
    {
     "data": {
      "text/plain": [
       "Name\n",
       "Moltres    Fire, Flying\n",
       "Pikachu        Electric\n",
       "Name: Type, dtype: object"
      ]
     },
     "execution_count": 116,
     "metadata": {},
     "output_type": "execute_result"
    }
   ],
   "execution_count": 116
  },
  {
   "metadata": {},
   "cell_type": "code",
   "outputs": [],
   "execution_count": null,
   "source": ""
  },
  {
   "cell_type": "markdown",
   "metadata": {
    "tags": []
   },
   "source": [
    "## Overwrite a Series Value\n",
    "- Use the `loc/iloc` accessor to target an index label/position, then use an equal sign to provide a new value."
   ]
  },
  {
   "cell_type": "code",
   "metadata": {
    "ExecuteTime": {
     "end_time": "2025-05-02T14:01:33.748245Z",
     "start_time": "2025-05-02T14:01:33.734044Z"
    }
   },
   "source": "pokemon = pd.read_csv(\"pokemon.csv\", usecols=[\"Name\"]).squeeze(\"columns\")",
   "outputs": [],
   "execution_count": 117
  },
  {
   "cell_type": "code",
   "metadata": {
    "ExecuteTime": {
     "end_time": "2025-05-02T14:01:40.225574Z",
     "start_time": "2025-05-02T14:01:40.221346Z"
    }
   },
   "source": "pokemon.head()",
   "outputs": [
    {
     "data": {
      "text/plain": [
       "0     Bulbasaur\n",
       "1       Ivysaur\n",
       "2      Venusaur\n",
       "3    Charmander\n",
       "4    Charmeleon\n",
       "Name: Name, dtype: object"
      ]
     },
     "execution_count": 118,
     "metadata": {},
     "output_type": "execute_result"
    }
   ],
   "execution_count": 118
  },
  {
   "cell_type": "code",
   "metadata": {
    "ExecuteTime": {
     "end_time": "2025-05-02T14:02:10.419825Z",
     "start_time": "2025-05-02T14:02:10.409185Z"
    }
   },
   "source": "pokemon.iloc[0] = \"Borisaur\"",
   "outputs": [],
   "execution_count": 120
  },
  {
   "cell_type": "code",
   "metadata": {
    "ExecuteTime": {
     "end_time": "2025-05-02T14:02:17.709355Z",
     "start_time": "2025-05-02T14:02:17.696863Z"
    }
   },
   "source": "pokemon.head()",
   "outputs": [
    {
     "data": {
      "text/plain": [
       "0      Borisaur\n",
       "1       Ivysaur\n",
       "2      Venusaur\n",
       "3    Charmander\n",
       "4    Charmeleon\n",
       "Name: Name, dtype: object"
      ]
     },
     "execution_count": 121,
     "metadata": {},
     "output_type": "execute_result"
    }
   ],
   "execution_count": 121
  },
  {
   "cell_type": "code",
   "metadata": {
    "ExecuteTime": {
     "end_time": "2025-05-02T14:03:26.829786Z",
     "start_time": "2025-05-02T14:03:26.823689Z"
    }
   },
   "source": "pokemon.iloc[[1, 2, 4]] = [\"Firemon\", \"Blazemon\", \"Flamemon\"]",
   "outputs": [],
   "execution_count": 123
  },
  {
   "cell_type": "code",
   "metadata": {
    "ExecuteTime": {
     "end_time": "2025-05-02T14:03:35.008492Z",
     "start_time": "2025-05-02T14:03:34.995065Z"
    }
   },
   "source": "pokemon.head()",
   "outputs": [
    {
     "data": {
      "text/plain": [
       "0      Borisaur\n",
       "1       Firemon\n",
       "2      Blazemon\n",
       "3    Charmander\n",
       "4      Flamemon\n",
       "Name: Name, dtype: object"
      ]
     },
     "execution_count": 124,
     "metadata": {},
     "output_type": "execute_result"
    }
   ],
   "execution_count": 124
  },
  {
   "cell_type": "code",
   "metadata": {
    "ExecuteTime": {
     "end_time": "2025-05-02T14:04:56.064197Z",
     "start_time": "2025-05-02T14:04:56.042371Z"
    }
   },
   "source": [
    "pokemon = pd.read_csv(\"pokemon.csv\", index_col=\"Name\").squeeze(\"columns\")\n",
    "pokemon.head()"
   ],
   "outputs": [
    {
     "data": {
      "text/plain": [
       "Name\n",
       "Bulbasaur     Grass, Poison\n",
       "Ivysaur       Grass, Poison\n",
       "Venusaur      Grass, Poison\n",
       "Charmander             Fire\n",
       "Charmeleon             Fire\n",
       "Name: Type, dtype: object"
      ]
     },
     "execution_count": 125,
     "metadata": {},
     "output_type": "execute_result"
    }
   ],
   "execution_count": 125
  },
  {
   "cell_type": "code",
   "metadata": {
    "ExecuteTime": {
     "end_time": "2025-05-02T14:05:23.976970Z",
     "start_time": "2025-05-02T14:05:23.967028Z"
    }
   },
   "source": "pokemon.loc[\"Bulbasaur\"] = \"Awesomeness\"",
   "outputs": [],
   "execution_count": 126
  },
  {
   "cell_type": "code",
   "metadata": {
    "ExecuteTime": {
     "end_time": "2025-05-02T14:05:38.283933Z",
     "start_time": "2025-05-02T14:05:38.273494Z"
    }
   },
   "source": "pokemon.head()",
   "outputs": [
    {
     "data": {
      "text/plain": [
       "Name\n",
       "Bulbasaur       Awesomeness\n",
       "Ivysaur       Grass, Poison\n",
       "Venusaur      Grass, Poison\n",
       "Charmander             Fire\n",
       "Charmeleon             Fire\n",
       "Name: Type, dtype: object"
      ]
     },
     "execution_count": 127,
     "metadata": {},
     "output_type": "execute_result"
    }
   ],
   "execution_count": 127
  },
  {
   "cell_type": "code",
   "metadata": {
    "ExecuteTime": {
     "end_time": "2025-05-02T14:07:07.650054Z",
     "start_time": "2025-05-02T14:07:07.640408Z"
    }
   },
   "source": "pokemon.iloc[1] = \"Silly\"",
   "outputs": [],
   "execution_count": 131
  },
  {
   "metadata": {
    "ExecuteTime": {
     "end_time": "2025-05-02T14:07:12.935699Z",
     "start_time": "2025-05-02T14:07:12.915644Z"
    }
   },
   "cell_type": "code",
   "source": "pokemon.head()",
   "outputs": [
    {
     "data": {
      "text/plain": [
       "Name\n",
       "Bulbasaur       Awesomeness\n",
       "Ivysaur               Silly\n",
       "Venusaur      Grass, Poison\n",
       "Charmander             Fire\n",
       "Charmeleon             Fire\n",
       "Name: Type, dtype: object"
      ]
     },
     "execution_count": 132,
     "metadata": {},
     "output_type": "execute_result"
    }
   ],
   "execution_count": 132
  },
  {
   "metadata": {},
   "cell_type": "code",
   "outputs": [],
   "execution_count": null,
   "source": ""
  },
  {
   "cell_type": "markdown",
   "metadata": {},
   "source": [
    "## The copy Method\n",
    "- A **copy** is a duplicate/replica of an object.\n",
    "- Changes to a copy do not modify the original object.\n",
    "- A **view** is a different way of looking at the *same* data.\n",
    "- Changes to a view *do* modify the original object.\n",
    "- The `copy` method creates a copy of a pandas object."
   ]
  },
  {
   "cell_type": "code",
   "metadata": {
    "tags": [],
    "ExecuteTime": {
     "end_time": "2025-05-02T14:23:04.072313Z",
     "start_time": "2025-05-02T14:23:04.057811Z"
    }
   },
   "source": [
    "pokemon_df = pd.read_csv(\"pokemon.csv\", usecols=[\"Name\"])\n",
    "pokemon.head()"
   ],
   "outputs": [
    {
     "data": {
      "text/plain": [
       "Name\n",
       "Bulbasaur       Awesomeness\n",
       "Ivysaur               Silly\n",
       "Venusaur      Grass, Poison\n",
       "Charmander             Fire\n",
       "Charmeleon             Fire\n",
       "Name: Type, dtype: object"
      ]
     },
     "execution_count": 153,
     "metadata": {},
     "output_type": "execute_result"
    }
   ],
   "execution_count": 153
  },
  {
   "cell_type": "code",
   "metadata": {
    "tags": [],
    "ExecuteTime": {
     "end_time": "2025-05-02T14:23:05.186520Z",
     "start_time": "2025-05-02T14:23:05.181666Z"
    }
   },
   "source": [
    "pokemon_series = pokemon_df.squeeze(\"columns\").copy()\n",
    "pokemon.head()"
   ],
   "outputs": [
    {
     "data": {
      "text/plain": [
       "Name\n",
       "Bulbasaur       Awesomeness\n",
       "Ivysaur               Silly\n",
       "Venusaur      Grass, Poison\n",
       "Charmander             Fire\n",
       "Charmeleon             Fire\n",
       "Name: Type, dtype: object"
      ]
     },
     "execution_count": 154,
     "metadata": {},
     "output_type": "execute_result"
    }
   ],
   "execution_count": 154
  },
  {
   "cell_type": "code",
   "metadata": {
    "tags": [],
    "ExecuteTime": {
     "end_time": "2025-05-02T14:23:06.129664Z",
     "start_time": "2025-05-02T14:23:06.127415Z"
    }
   },
   "source": "pokemon_series[0] = \"Whatever\"",
   "outputs": [],
   "execution_count": 155
  },
  {
   "cell_type": "code",
   "metadata": {
    "tags": [],
    "ExecuteTime": {
     "end_time": "2025-05-02T14:23:06.972825Z",
     "start_time": "2025-05-02T14:23:06.969461Z"
    }
   },
   "source": "pokemon_series.head()",
   "outputs": [
    {
     "data": {
      "text/plain": [
       "0      Whatever\n",
       "1       Ivysaur\n",
       "2      Venusaur\n",
       "3    Charmander\n",
       "4    Charmeleon\n",
       "Name: Name, dtype: object"
      ]
     },
     "execution_count": 156,
     "metadata": {},
     "output_type": "execute_result"
    }
   ],
   "execution_count": 156
  },
  {
   "cell_type": "code",
   "metadata": {
    "tags": [],
    "ExecuteTime": {
     "end_time": "2025-05-02T14:23:08.178556Z",
     "start_time": "2025-05-02T14:23:08.175109Z"
    }
   },
   "source": "pokemon_df.head()",
   "outputs": [
    {
     "data": {
      "text/plain": [
       "         Name\n",
       "0   Bulbasaur\n",
       "1     Ivysaur\n",
       "2    Venusaur\n",
       "3  Charmander\n",
       "4  Charmeleon"
      ],
      "text/html": [
       "<div>\n",
       "<style scoped>\n",
       "    .dataframe tbody tr th:only-of-type {\n",
       "        vertical-align: middle;\n",
       "    }\n",
       "\n",
       "    .dataframe tbody tr th {\n",
       "        vertical-align: top;\n",
       "    }\n",
       "\n",
       "    .dataframe thead th {\n",
       "        text-align: right;\n",
       "    }\n",
       "</style>\n",
       "<table border=\"1\" class=\"dataframe\">\n",
       "  <thead>\n",
       "    <tr style=\"text-align: right;\">\n",
       "      <th></th>\n",
       "      <th>Name</th>\n",
       "    </tr>\n",
       "  </thead>\n",
       "  <tbody>\n",
       "    <tr>\n",
       "      <th>0</th>\n",
       "      <td>Bulbasaur</td>\n",
       "    </tr>\n",
       "    <tr>\n",
       "      <th>1</th>\n",
       "      <td>Ivysaur</td>\n",
       "    </tr>\n",
       "    <tr>\n",
       "      <th>2</th>\n",
       "      <td>Venusaur</td>\n",
       "    </tr>\n",
       "    <tr>\n",
       "      <th>3</th>\n",
       "      <td>Charmander</td>\n",
       "    </tr>\n",
       "    <tr>\n",
       "      <th>4</th>\n",
       "      <td>Charmeleon</td>\n",
       "    </tr>\n",
       "  </tbody>\n",
       "</table>\n",
       "</div>"
      ]
     },
     "execution_count": 157,
     "metadata": {},
     "output_type": "execute_result"
    }
   ],
   "execution_count": 157
  },
  {
   "metadata": {},
   "cell_type": "code",
   "outputs": [],
   "execution_count": null,
   "source": ""
  },
  {
   "metadata": {},
   "cell_type": "code",
   "outputs": [],
   "execution_count": null,
   "source": ""
  },
  {
   "cell_type": "markdown",
   "metadata": {},
   "source": [
    "## Math Methods on Series Objects\n",
    "- The `count` method returns the number of values in the **Series**. It excludes missing values; the `size` attribute includes missing values.\n",
    "- The `sum` method adds together the **Series's** values.\n",
    "- The `product` method multiplies together the **Series's** values.\n",
    "- The `mean` method calculates the average of the **Series's** values.\n",
    "- The `std` method calculates the standard deviation of the **Series's** values.\n",
    "- The `max` method returns the largest value in the **Series**.\n",
    "- The `min` method returns the smallest value in the **Series**.\n",
    "- The `median` method returns the median of the **Series** (the value in the middle).\n",
    "- The `mode` method returns the mode of the **Series** (the most frequent alue).\n",
    "- The `describe` method returns a summary with various mathematical calculations."
   ]
  },
  {
   "cell_type": "code",
   "metadata": {
    "tags": [],
    "ExecuteTime": {
     "end_time": "2025-05-02T14:26:13.865541Z",
     "start_time": "2025-05-02T14:26:13.848112Z"
    }
   },
   "source": [
    "google = pd.read_csv(\"google_stock_price.csv\", usecols=[\"Price\"]).squeeze(\"columns\")\n",
    "google.head()"
   ],
   "outputs": [
    {
     "data": {
      "text/plain": [
       "0    2.490664\n",
       "1    2.515820\n",
       "2    2.758411\n",
       "3    2.770615\n",
       "4    2.614201\n",
       "Name: Price, dtype: float64"
      ]
     },
     "execution_count": 158,
     "metadata": {},
     "output_type": "execute_result"
    }
   ],
   "execution_count": 158
  },
  {
   "cell_type": "code",
   "metadata": {
    "tags": [],
    "ExecuteTime": {
     "end_time": "2025-05-02T14:26:23.298849Z",
     "start_time": "2025-05-02T14:26:23.287882Z"
    }
   },
   "source": "google.count()",
   "outputs": [
    {
     "data": {
      "text/plain": [
       "np.int64(4793)"
      ]
     },
     "execution_count": 159,
     "metadata": {},
     "output_type": "execute_result"
    }
   ],
   "execution_count": 159
  },
  {
   "metadata": {
    "ExecuteTime": {
     "end_time": "2025-05-02T14:26:45.141693Z",
     "start_time": "2025-05-02T14:26:45.139099Z"
    }
   },
   "cell_type": "code",
   "source": "google.size",
   "outputs": [
    {
     "data": {
      "text/plain": [
       "4793"
      ]
     },
     "execution_count": 161,
     "metadata": {},
     "output_type": "execute_result"
    }
   ],
   "execution_count": 161
  },
  {
   "metadata": {
    "ExecuteTime": {
     "end_time": "2025-05-02T14:27:35.569663Z",
     "start_time": "2025-05-02T14:27:35.563337Z"
    }
   },
   "cell_type": "code",
   "source": "google.sum()",
   "outputs": [
    {
     "data": {
      "text/plain": [
       "np.float64(192733.129338)"
      ]
     },
     "execution_count": 162,
     "metadata": {},
     "output_type": "execute_result"
    }
   ],
   "execution_count": 162
  },
  {
   "metadata": {
    "ExecuteTime": {
     "end_time": "2025-05-02T14:27:40.644363Z",
     "start_time": "2025-05-02T14:27:40.632036Z"
    }
   },
   "cell_type": "code",
   "source": "google.product()",
   "outputs": [
    {
     "name": "stderr",
     "output_type": "stream",
     "text": [
      "/Users/kirstincathlin/PycharmProjects/pandas_cookbook/.venv/lib/python3.9/site-packages/numpy/_core/_methods.py:56: RuntimeWarning: overflow encountered in reduce\n",
      "  return umr_prod(a, axis, dtype, out, keepdims, initial, where)\n"
     ]
    },
    {
     "data": {
      "text/plain": [
       "np.float64(inf)"
      ]
     },
     "execution_count": 163,
     "metadata": {},
     "output_type": "execute_result"
    }
   ],
   "execution_count": 163
  },
  {
   "metadata": {
    "ExecuteTime": {
     "end_time": "2025-05-02T14:28:22.640284Z",
     "start_time": "2025-05-02T14:28:22.628734Z"
    }
   },
   "cell_type": "code",
   "source": "google.std()",
   "outputs": [
    {
     "data": {
      "text/plain": [
       "np.float64(37.274752943868094)"
      ]
     },
     "execution_count": 164,
     "metadata": {},
     "output_type": "execute_result"
    }
   ],
   "execution_count": 164
  },
  {
   "metadata": {
    "ExecuteTime": {
     "end_time": "2025-05-02T14:28:38.432235Z",
     "start_time": "2025-05-02T14:28:38.419958Z"
    }
   },
   "cell_type": "code",
   "source": "google.max()",
   "outputs": [
    {
     "data": {
      "text/plain": [
       "np.float64(151.863495)"
      ]
     },
     "execution_count": 165,
     "metadata": {},
     "output_type": "execute_result"
    }
   ],
   "execution_count": 165
  },
  {
   "metadata": {
    "ExecuteTime": {
     "end_time": "2025-05-02T14:28:42.067400Z",
     "start_time": "2025-05-02T14:28:42.060090Z"
    }
   },
   "cell_type": "code",
   "source": "google.min()",
   "outputs": [
    {
     "data": {
      "text/plain": [
       "np.float64(2.47049)"
      ]
     },
     "execution_count": 166,
     "metadata": {},
     "output_type": "execute_result"
    }
   ],
   "execution_count": 166
  },
  {
   "metadata": {
    "ExecuteTime": {
     "end_time": "2025-05-02T14:29:09.544126Z",
     "start_time": "2025-05-02T14:29:09.528601Z"
    }
   },
   "cell_type": "code",
   "source": "google.median()",
   "outputs": [
    {
     "data": {
      "text/plain": [
       "np.float64(26.327717)"
      ]
     },
     "execution_count": 167,
     "metadata": {},
     "output_type": "execute_result"
    }
   ],
   "execution_count": 167
  },
  {
   "metadata": {
    "ExecuteTime": {
     "end_time": "2025-05-02T14:29:27.379474Z",
     "start_time": "2025-05-02T14:29:27.368328Z"
    }
   },
   "cell_type": "code",
   "source": "google.mode()",
   "outputs": [
    {
     "data": {
      "text/plain": [
       "0    14.719826\n",
       "1    49.000000\n",
       "Name: Price, dtype: float64"
      ]
     },
     "execution_count": 168,
     "metadata": {},
     "output_type": "execute_result"
    }
   ],
   "execution_count": 168
  },
  {
   "metadata": {
    "ExecuteTime": {
     "end_time": "2025-05-02T14:30:17.004137Z",
     "start_time": "2025-05-02T14:30:16.980618Z"
    }
   },
   "cell_type": "code",
   "source": "google.describe()",
   "outputs": [
    {
     "data": {
      "text/plain": [
       "count    4793.000000\n",
       "mean       40.211377\n",
       "std        37.274753\n",
       "min         2.470490\n",
       "25%        12.767395\n",
       "50%        26.327717\n",
       "75%        56.311001\n",
       "max       151.863495\n",
       "Name: Price, dtype: float64"
      ]
     },
     "execution_count": 169,
     "metadata": {},
     "output_type": "execute_result"
    }
   ],
   "execution_count": 169
  },
  {
   "cell_type": "markdown",
   "metadata": {},
   "source": [
    "## Broadcasting\n",
    "- **Broadcasting** describes the process of applying an arithmetic operation to an array (i.e., a **Series**).\n",
    "- We can combine mathematical operators with a **Series** to apply the mathematical operation to every value.\n",
    "- There are also methods to accomplish the same results (`add`, `sub`, `mul`, `div`, etc.)"
   ]
  },
  {
   "cell_type": "code",
   "metadata": {
    "tags": [],
    "ExecuteTime": {
     "end_time": "2025-05-02T14:34:07.102564Z",
     "start_time": "2025-05-02T14:34:07.083769Z"
    }
   },
   "source": "google = pd.read_csv(\"google_stock_price.csv\", usecols=[\"Price\"]).squeeze(\"columns\")",
   "outputs": [],
   "execution_count": 170
  },
  {
   "cell_type": "code",
   "metadata": {
    "tags": [],
    "ExecuteTime": {
     "end_time": "2025-05-02T14:34:12.183044Z",
     "start_time": "2025-05-02T14:34:12.177110Z"
    }
   },
   "source": "google.head()",
   "outputs": [
    {
     "data": {
      "text/plain": [
       "0    2.490664\n",
       "1    2.515820\n",
       "2    2.758411\n",
       "3    2.770615\n",
       "4    2.614201\n",
       "Name: Price, dtype: float64"
      ]
     },
     "execution_count": 171,
     "metadata": {},
     "output_type": "execute_result"
    }
   ],
   "execution_count": 171
  },
  {
   "metadata": {
    "ExecuteTime": {
     "end_time": "2025-05-02T14:34:55.319301Z",
     "start_time": "2025-05-02T14:34:55.310053Z"
    }
   },
   "cell_type": "code",
   "source": "google.add(10)",
   "outputs": [
    {
     "data": {
      "text/plain": [
       "0        12.490664\n",
       "1        12.515820\n",
       "2        12.758411\n",
       "3        12.770615\n",
       "4        12.614201\n",
       "           ...    \n",
       "4788    142.080002\n",
       "4789    142.998001\n",
       "4790    145.570007\n",
       "4791    147.050003\n",
       "4792    148.429993\n",
       "Name: Price, Length: 4793, dtype: float64"
      ]
     },
     "execution_count": 172,
     "metadata": {},
     "output_type": "execute_result"
    }
   ],
   "execution_count": 172
  },
  {
   "metadata": {
    "ExecuteTime": {
     "end_time": "2025-05-02T14:35:17.986684Z",
     "start_time": "2025-05-02T14:35:17.966958Z"
    }
   },
   "cell_type": "code",
   "source": "google + 10",
   "outputs": [
    {
     "data": {
      "text/plain": [
       "0        12.490664\n",
       "1        12.515820\n",
       "2        12.758411\n",
       "3        12.770615\n",
       "4        12.614201\n",
       "           ...    \n",
       "4788    142.080002\n",
       "4789    142.998001\n",
       "4790    145.570007\n",
       "4791    147.050003\n",
       "4792    148.429993\n",
       "Name: Price, Length: 4793, dtype: float64"
      ]
     },
     "execution_count": 173,
     "metadata": {},
     "output_type": "execute_result"
    }
   ],
   "execution_count": 173
  },
  {
   "metadata": {
    "ExecuteTime": {
     "end_time": "2025-05-02T14:36:00.928321Z",
     "start_time": "2025-05-02T14:36:00.917887Z"
    }
   },
   "cell_type": "code",
   "source": "google.sub(30)",
   "outputs": [
    {
     "data": {
      "text/plain": [
       "0       -27.509336\n",
       "1       -27.484180\n",
       "2       -27.241589\n",
       "3       -27.229385\n",
       "4       -27.385799\n",
       "           ...    \n",
       "4788    102.080002\n",
       "4789    102.998001\n",
       "4790    105.570007\n",
       "4791    107.050003\n",
       "4792    108.429993\n",
       "Name: Price, Length: 4793, dtype: float64"
      ]
     },
     "execution_count": 174,
     "metadata": {},
     "output_type": "execute_result"
    }
   ],
   "execution_count": 174
  },
  {
   "metadata": {
    "ExecuteTime": {
     "end_time": "2025-05-02T14:36:13.748447Z",
     "start_time": "2025-05-02T14:36:13.736501Z"
    }
   },
   "cell_type": "code",
   "source": "google -30",
   "outputs": [
    {
     "data": {
      "text/plain": [
       "0       -27.509336\n",
       "1       -27.484180\n",
       "2       -27.241589\n",
       "3       -27.229385\n",
       "4       -27.385799\n",
       "           ...    \n",
       "4788    102.080002\n",
       "4789    102.998001\n",
       "4790    105.570007\n",
       "4791    107.050003\n",
       "4792    108.429993\n",
       "Name: Price, Length: 4793, dtype: float64"
      ]
     },
     "execution_count": 175,
     "metadata": {},
     "output_type": "execute_result"
    }
   ],
   "execution_count": 175
  },
  {
   "metadata": {
    "ExecuteTime": {
     "end_time": "2025-05-02T14:36:23.171459Z",
     "start_time": "2025-05-02T14:36:23.155321Z"
    }
   },
   "cell_type": "code",
   "source": "google.mul(1.25)",
   "outputs": [
    {
     "data": {
      "text/plain": [
       "0         3.113330\n",
       "1         3.144775\n",
       "2         3.448014\n",
       "3         3.463269\n",
       "4         3.267751\n",
       "           ...    \n",
       "4788    165.100003\n",
       "4789    166.247501\n",
       "4790    169.462509\n",
       "4791    171.312504\n",
       "4792    173.037491\n",
       "Name: Price, Length: 4793, dtype: float64"
      ]
     },
     "execution_count": 176,
     "metadata": {},
     "output_type": "execute_result"
    }
   ],
   "execution_count": 176
  },
  {
   "metadata": {
    "ExecuteTime": {
     "end_time": "2025-05-02T14:36:35.464283Z",
     "start_time": "2025-05-02T14:36:35.447361Z"
    }
   },
   "cell_type": "code",
   "source": "google * 1.25",
   "outputs": [
    {
     "data": {
      "text/plain": [
       "0         3.113330\n",
       "1         3.144775\n",
       "2         3.448014\n",
       "3         3.463269\n",
       "4         3.267751\n",
       "           ...    \n",
       "4788    165.100003\n",
       "4789    166.247501\n",
       "4790    169.462509\n",
       "4791    171.312504\n",
       "4792    173.037491\n",
       "Name: Price, Length: 4793, dtype: float64"
      ]
     },
     "execution_count": 177,
     "metadata": {},
     "output_type": "execute_result"
    }
   ],
   "execution_count": 177
  },
  {
   "metadata": {
    "ExecuteTime": {
     "end_time": "2025-05-02T14:36:54.961688Z",
     "start_time": "2025-05-02T14:36:54.949721Z"
    }
   },
   "cell_type": "code",
   "source": "google.div(2)",
   "outputs": [
    {
     "data": {
      "text/plain": [
       "0        1.245332\n",
       "1        1.257910\n",
       "2        1.379206\n",
       "3        1.385307\n",
       "4        1.307100\n",
       "          ...    \n",
       "4788    66.040001\n",
       "4789    66.499000\n",
       "4790    67.785004\n",
       "4791    68.525002\n",
       "4792    69.214996\n",
       "Name: Price, Length: 4793, dtype: float64"
      ]
     },
     "execution_count": 178,
     "metadata": {},
     "output_type": "execute_result"
    }
   ],
   "execution_count": 178
  },
  {
   "metadata": {
    "ExecuteTime": {
     "end_time": "2025-05-02T14:37:01.239330Z",
     "start_time": "2025-05-02T14:37:01.227981Z"
    }
   },
   "cell_type": "code",
   "source": "google / 2",
   "outputs": [
    {
     "data": {
      "text/plain": [
       "0        1.245332\n",
       "1        1.257910\n",
       "2        1.379206\n",
       "3        1.385307\n",
       "4        1.307100\n",
       "          ...    \n",
       "4788    66.040001\n",
       "4789    66.499000\n",
       "4790    67.785004\n",
       "4791    68.525002\n",
       "4792    69.214996\n",
       "Name: Price, Length: 4793, dtype: float64"
      ]
     },
     "execution_count": 179,
     "metadata": {},
     "output_type": "execute_result"
    }
   ],
   "execution_count": 179
  },
  {
   "cell_type": "markdown",
   "metadata": {},
   "source": [
    "## The value_counts Method\n",
    "- The `value_counts` method returns the number of times each unique value occurs in the **Series**.\n",
    "- The `normalize` parameter returns the relative frequencies/percentages of the values instead of the counts."
   ]
  },
  {
   "cell_type": "code",
   "metadata": {
    "tags": [],
    "ExecuteTime": {
     "end_time": "2025-05-02T14:39:12.356001Z",
     "start_time": "2025-05-02T14:39:12.334699Z"
    }
   },
   "source": [
    "pokemon = pd.read_csv(\"pokemon.csv\", index_col=\"Name\").squeeze(\"columns\")\n",
    "pokemon.head()"
   ],
   "outputs": [
    {
     "data": {
      "text/plain": [
       "Name\n",
       "Bulbasaur     Grass, Poison\n",
       "Ivysaur       Grass, Poison\n",
       "Venusaur      Grass, Poison\n",
       "Charmander             Fire\n",
       "Charmeleon             Fire\n",
       "Name: Type, dtype: object"
      ]
     },
     "execution_count": 180,
     "metadata": {},
     "output_type": "execute_result"
    }
   ],
   "execution_count": 180
  },
  {
   "cell_type": "code",
   "metadata": {
    "tags": [],
    "ExecuteTime": {
     "end_time": "2025-05-02T14:40:05.361205Z",
     "start_time": "2025-05-02T14:40:05.350258Z"
    }
   },
   "source": "pokemon.value_counts()",
   "outputs": [
    {
     "data": {
      "text/plain": [
       "Type\n",
       "Water               74\n",
       "Normal              74\n",
       "Grass               46\n",
       "Psychic             39\n",
       "Fire                36\n",
       "                    ..\n",
       "Fighting, Ice        1\n",
       "Fire, Dragon         1\n",
       "Normal, Dragon       1\n",
       "Psychic, Steel       1\n",
       "Fighting, Dragon     1\n",
       "Name: count, Length: 200, dtype: int64"
      ]
     },
     "execution_count": 181,
     "metadata": {},
     "output_type": "execute_result"
    }
   ],
   "execution_count": 181
  },
  {
   "metadata": {
    "ExecuteTime": {
     "end_time": "2025-05-02T14:41:51.602626Z",
     "start_time": "2025-05-02T14:41:51.593082Z"
    }
   },
   "cell_type": "code",
   "source": "pokemon.value_counts(ascending=True)",
   "outputs": [
    {
     "data": {
      "text/plain": [
       "Type\n",
       "Ice, Ghost           1\n",
       "Fire, Water          1\n",
       "Fighting, Flying     1\n",
       "Normal, Ground       1\n",
       "Dragon, Electric     1\n",
       "                    ..\n",
       "Fire                36\n",
       "Psychic             39\n",
       "Grass               46\n",
       "Normal              74\n",
       "Water               74\n",
       "Name: count, Length: 200, dtype: int64"
      ]
     },
     "execution_count": 182,
     "metadata": {},
     "output_type": "execute_result"
    }
   ],
   "execution_count": 182
  },
  {
   "metadata": {
    "ExecuteTime": {
     "end_time": "2025-05-02T14:43:52.084117Z",
     "start_time": "2025-05-02T14:43:52.070109Z"
    }
   },
   "cell_type": "code",
   "source": "pokemon.value_counts(normalize=True)",
   "outputs": [
    {
     "data": {
      "text/plain": [
       "Type\n",
       "Water               0.073267\n",
       "Normal              0.073267\n",
       "Grass               0.045545\n",
       "Psychic             0.038614\n",
       "Fire                0.035644\n",
       "                      ...   \n",
       "Fighting, Ice       0.000990\n",
       "Fire, Dragon        0.000990\n",
       "Normal, Dragon      0.000990\n",
       "Psychic, Steel      0.000990\n",
       "Fighting, Dragon    0.000990\n",
       "Name: proportion, Length: 200, dtype: float64"
      ]
     },
     "execution_count": 187,
     "metadata": {},
     "output_type": "execute_result"
    }
   ],
   "execution_count": 187
  },
  {
   "metadata": {
    "ExecuteTime": {
     "end_time": "2025-05-02T14:44:14.707147Z",
     "start_time": "2025-05-02T14:44:14.696791Z"
    }
   },
   "cell_type": "code",
   "source": "pokemon.value_counts(normalize=True)",
   "outputs": [
    {
     "data": {
      "text/plain": [
       "Type\n",
       "Water               0.073267\n",
       "Normal              0.073267\n",
       "Grass               0.045545\n",
       "Psychic             0.038614\n",
       "Fire                0.035644\n",
       "                      ...   \n",
       "Fighting, Ice       0.000990\n",
       "Fire, Dragon        0.000990\n",
       "Normal, Dragon      0.000990\n",
       "Psychic, Steel      0.000990\n",
       "Fighting, Dragon    0.000990\n",
       "Name: proportion, Length: 200, dtype: float64"
      ]
     },
     "execution_count": 189,
     "metadata": {},
     "output_type": "execute_result"
    }
   ],
   "execution_count": 189
  },
  {
   "metadata": {
    "ExecuteTime": {
     "end_time": "2025-05-02T14:44:20.144310Z",
     "start_time": "2025-05-02T14:44:20.138695Z"
    }
   },
   "cell_type": "code",
   "source": "pokemon.value_counts(normalize=True) * 100",
   "outputs": [
    {
     "data": {
      "text/plain": [
       "Type\n",
       "Water               7.326733\n",
       "Normal              7.326733\n",
       "Grass               4.554455\n",
       "Psychic             3.861386\n",
       "Fire                3.564356\n",
       "                      ...   \n",
       "Fighting, Ice       0.099010\n",
       "Fire, Dragon        0.099010\n",
       "Normal, Dragon      0.099010\n",
       "Psychic, Steel      0.099010\n",
       "Fighting, Dragon    0.099010\n",
       "Name: proportion, Length: 200, dtype: float64"
      ]
     },
     "execution_count": 190,
     "metadata": {},
     "output_type": "execute_result"
    }
   ],
   "execution_count": 190
  },
  {
   "cell_type": "markdown",
   "metadata": {},
   "source": [
    "## The apply Method\n",
    "- The `apply` method accepts a function. It invokes that function on every `Series` value."
   ]
  },
  {
   "metadata": {},
   "cell_type": "markdown",
   "source": ""
  },
  {
   "metadata": {},
   "cell_type": "markdown",
   "source": ""
  },
  {
   "cell_type": "code",
   "metadata": {
    "tags": [],
    "ExecuteTime": {
     "end_time": "2025-05-02T14:56:15.925328Z",
     "start_time": "2025-05-02T14:56:15.909173Z"
    }
   },
   "source": [
    "pokemon = pd.read_csv(\"pokemon.csv\", usecols=[\"Name\"]).squeeze(\"columns\")\n",
    "pokemon.head()"
   ],
   "outputs": [
    {
     "data": {
      "text/plain": [
       "0     Bulbasaur\n",
       "1       Ivysaur\n",
       "2      Venusaur\n",
       "3    Charmander\n",
       "4    Charmeleon\n",
       "Name: Name, dtype: object"
      ]
     },
     "execution_count": 191,
     "metadata": {},
     "output_type": "execute_result"
    }
   ],
   "execution_count": 191
  },
  {
   "cell_type": "code",
   "metadata": {
    "tags": [],
    "ExecuteTime": {
     "end_time": "2025-05-02T14:56:56.922236Z",
     "start_time": "2025-05-02T14:56:56.910330Z"
    }
   },
   "source": "pokemon.apply(len)",
   "outputs": [
    {
     "data": {
      "text/plain": [
       "0        9\n",
       "1        7\n",
       "2        8\n",
       "3       10\n",
       "4       10\n",
       "        ..\n",
       "1005    12\n",
       "1006     8\n",
       "1007     8\n",
       "1008    12\n",
       "1009    11\n",
       "Name: Name, Length: 1010, dtype: int64"
      ]
     },
     "execution_count": 192,
     "metadata": {},
     "output_type": "execute_result"
    }
   ],
   "execution_count": 192
  },
  {
   "metadata": {
    "ExecuteTime": {
     "end_time": "2025-05-02T14:59:18.868472Z",
     "start_time": "2025-05-02T14:59:18.853526Z"
    }
   },
   "cell_type": "code",
   "source": [
    "def count_of_a(pokemon):\n",
    "    return pokemon.count(\"a\")\n",
    "\n",
    "pokemon.apply(count_of_a)"
   ],
   "outputs": [
    {
     "data": {
      "text/plain": [
       "0       2\n",
       "1       1\n",
       "2       1\n",
       "3       2\n",
       "4       1\n",
       "       ..\n",
       "1005    2\n",
       "1006    1\n",
       "1007    1\n",
       "1008    2\n",
       "1009    1\n",
       "Name: Name, Length: 1010, dtype: int64"
      ]
     },
     "execution_count": 195,
     "metadata": {},
     "output_type": "execute_result"
    }
   ],
   "execution_count": 195
  },
  {
   "metadata": {},
   "cell_type": "code",
   "outputs": [],
   "execution_count": null,
   "source": ""
  },
  {
   "metadata": {},
   "cell_type": "code",
   "outputs": [],
   "execution_count": null,
   "source": ""
  },
  {
   "metadata": {},
   "cell_type": "code",
   "outputs": [],
   "execution_count": null,
   "source": ""
  },
  {
   "cell_type": "markdown",
   "metadata": {},
   "source": [
    "## The map Method\n",
    "- The `map` method \"maps\" or connects each **Series** values to another value.\n",
    "- We can pass the method a dictionary or a **Series**. Both types connects keys to values.\n",
    "- The `map` method uses our argument to connect or bridge together the values."
   ]
  },
  {
   "cell_type": "code",
   "metadata": {
    "tags": [],
    "ExecuteTime": {
     "end_time": "2025-05-02T15:05:46.347567Z",
     "start_time": "2025-05-02T15:05:46.329917Z"
    }
   },
   "source": [
    "pokemon = pd.read_csv(\"pokemon.csv\", index_col=\"Name\").squeeze(\"columns\")\n",
    "pokemon"
   ],
   "outputs": [
    {
     "data": {
      "text/plain": [
       "Name\n",
       "Bulbasaur          Grass, Poison\n",
       "Ivysaur            Grass, Poison\n",
       "Venusaur           Grass, Poison\n",
       "Charmander                  Fire\n",
       "Charmeleon                  Fire\n",
       "                      ...       \n",
       "Iron Valiant     Fairy, Fighting\n",
       "Koraidon        Fighting, Dragon\n",
       "Miraidon        Electric, Dragon\n",
       "Walking Wake       Water, Dragon\n",
       "Iron Leaves       Grass, Psychic\n",
       "Name: Type, Length: 1010, dtype: object"
      ]
     },
     "execution_count": 199,
     "metadata": {},
     "output_type": "execute_result"
    }
   ],
   "execution_count": 199
  },
  {
   "cell_type": "code",
   "metadata": {
    "tags": [],
    "ExecuteTime": {
     "end_time": "2025-05-02T15:08:40.071695Z",
     "start_time": "2025-05-02T15:08:40.046429Z"
    }
   },
   "source": [
    "attack_powers = pd.Series({\n",
    "    \"Grass\": 10,\n",
    "    \"Fire\": 15,\n",
    "    \"Water\": 15,\n",
    "    \"Fairy, Fighting\": 20,\n",
    "    \"Grass, Psychic\": 50\n",
    "})"
   ],
   "outputs": [],
   "execution_count": 203
  },
  {
   "cell_type": "code",
   "metadata": {
    "tags": [],
    "ExecuteTime": {
     "end_time": "2025-05-02T15:05:48.983086Z",
     "start_time": "2025-05-02T15:05:48.977321Z"
    }
   },
   "source": "pokemon.map(attack_powers)",
   "outputs": [
    {
     "data": {
      "text/plain": [
       "Name\n",
       "Bulbasaur        NaN\n",
       "Ivysaur          NaN\n",
       "Venusaur         NaN\n",
       "Charmander      15.0\n",
       "Charmeleon      15.0\n",
       "                ... \n",
       "Iron Valiant    20.0\n",
       "Koraidon         NaN\n",
       "Miraidon         NaN\n",
       "Walking Wake     NaN\n",
       "Iron Leaves     50.0\n",
       "Name: Type, Length: 1010, dtype: float64"
      ]
     },
     "execution_count": 201,
     "metadata": {},
     "output_type": "execute_result"
    }
   ],
   "execution_count": 201
  },
  {
   "cell_type": "code",
   "execution_count": null,
   "metadata": {},
   "outputs": [],
   "source": []
  },
  {
   "cell_type": "code",
   "execution_count": null,
   "metadata": {},
   "outputs": [],
   "source": []
  },
  {
   "cell_type": "code",
   "execution_count": null,
   "metadata": {},
   "outputs": [],
   "source": []
  }
 ],
 "metadata": {
  "anaconda-cloud": {},
  "kernelspec": {
   "display_name": "Python 3 (ipykernel)",
   "language": "python",
   "name": "python3"
  },
  "language_info": {
   "codemirror_mode": {
    "name": "ipython",
    "version": 3
   },
   "file_extension": ".py",
   "mimetype": "text/x-python",
   "name": "python",
   "nbconvert_exporter": "python",
   "pygments_lexer": "ipython3",
   "version": "3.11.5"
  }
 },
 "nbformat": 4,
 "nbformat_minor": 4
}
